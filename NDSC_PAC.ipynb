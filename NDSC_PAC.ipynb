{
  "nbformat": 4,
  "nbformat_minor": 0,
  "metadata": {
    "colab": {
      "name": "NDSC_PAC.ipynb",
      "version": "0.3.2",
      "provenance": [],
      "collapsed_sections": []
    },
    "kernelspec": {
      "display_name": "Python 3",
      "language": "python",
      "name": "python3"
    }
  },
  "cells": [
    {
      "metadata": {
        "colab_type": "text",
        "id": "wqneb_yvJsHZ"
      },
      "cell_type": "markdown",
      "source": [
        "## 1- Importing libraries\n",
        "\n",
        "also doing some logistics"
      ]
    },
    {
      "metadata": {
        "id": "-LUHE_-46bM2",
        "colab_type": "code",
        "outputId": "0e549584-8999-4da8-fd4d-a5f7f095b3f6",
        "colab": {
          "base_uri": "https://localhost:8080/",
          "height": 34
        }
      },
      "cell_type": "code",
      "source": [
        "!pip install Sastrawi"
      ],
      "execution_count": 25,
      "outputs": [
        {
          "output_type": "stream",
          "text": [
            "Requirement already satisfied: Sastrawi in /usr/local/lib/python3.6/dist-packages (1.0.1)\n"
          ],
          "name": "stdout"
        }
      ]
    },
    {
      "metadata": {
        "colab_type": "code",
        "id": "Knyl3IOjFl1p",
        "outputId": "09355258-584e-4019-b4d1-a87357e5dc30",
        "colab": {
          "base_uri": "https://localhost:8080/",
          "height": 51
        }
      },
      "cell_type": "code",
      "source": [
        "#Load all the needed libraries\n",
        "from sklearn.feature_extraction.text import CountVectorizer\n",
        "from sklearn.linear_model import SGDClassifier, PassiveAggressiveClassifier\n",
        "from sklearn.naive_bayes import MultinomialNB\n",
        "from sklearn import metrics\n",
        "from sklearn.linear_model import LogisticRegression\n",
        "from sklearn.multiclass import OneVsRestClassifier\n",
        "from sklearn.ensemble import RandomForestClassifier\n",
        "from sklearn.feature_extraction.text import TfidfVectorizer\n",
        "from sklearn import svm\n",
        "import seaborn as sns\n",
        "import pandas as pd\n",
        "import numpy as np\n",
        "import matplotlib.pyplot as plt\n",
        "from wordcloud import WordCloud\n",
        "import os\n",
        "import json\n",
        "from pprint import pprint\n",
        "from Sastrawi.StopWordRemover.StopWordRemoverFactory import StopWordRemoverFactory\n",
        "import nltk\n",
        "nltk.download('stopwords')\n",
        "from nltk.corpus import stopwords\n",
        "import datetime\n",
        "from sklearn.model_selection import StratifiedKFold\n",
        "from sklearn.base import clone\n",
        "from sklearn.linear_model import SGDClassifier\n",
        "from sklearn.model_selection import train_test_split\n",
        "from time import time\n",
        "from sklearn.model_selection import GridSearchCV, RandomizedSearchCV\n",
        "from sklearn.metrics import accuracy_score\n",
        "\n",
        "\n",
        "%matplotlib inline"
      ],
      "execution_count": 26,
      "outputs": [
        {
          "output_type": "stream",
          "text": [
            "[nltk_data] Downloading package stopwords to /root/nltk_data...\n",
            "[nltk_data]   Package stopwords is already up-to-date!\n"
          ],
          "name": "stdout"
        }
      ]
    },
    {
      "metadata": {
        "colab_type": "code",
        "id": "9uhlq6Z3AEbg",
        "colab": {}
      },
      "cell_type": "code",
      "source": [
        "plt.style.use('seaborn-ticks')"
      ],
      "execution_count": 0,
      "outputs": []
    },
    {
      "metadata": {
        "colab_type": "code",
        "id": "h76BVT_T8TBx",
        "outputId": "573b15c8-2106-4336-c76a-d79ef6a6eaff",
        "colab": {
          "base_uri": "https://localhost:8080/",
          "height": 34
        }
      },
      "cell_type": "code",
      "source": [
        "from google.colab import drive\n",
        "drive.mount('/content/drive')"
      ],
      "execution_count": 28,
      "outputs": [
        {
          "output_type": "stream",
          "text": [
            "Drive already mounted at /content/drive; to attempt to forcibly remount, call drive.mount(\"/content/drive\", force_remount=True).\n"
          ],
          "name": "stdout"
        }
      ]
    },
    {
      "metadata": {
        "colab_type": "text",
        "id": "HrMAW2IJJ44P"
      },
      "cell_type": "markdown",
      "source": [
        "## 2- Loading Train/test data"
      ]
    },
    {
      "metadata": {
        "colab_type": "code",
        "id": "qJ2wb-eG87FK",
        "colab": {}
      },
      "cell_type": "code",
      "source": [
        "path = '/content/drive/My Drive/GitHub/nsdc_beginner/Data'\n",
        "\n",
        "#path = './Data'\n",
        "dftrain = pd.read_csv(os.path.join(path, 'train.csv'))\n",
        "dftest = pd.read_csv(os.path.join(path, 'test.csv'))\n"
      ],
      "execution_count": 0,
      "outputs": []
    },
    {
      "metadata": {
        "id": "EkrAoEfx3R90",
        "colab_type": "code",
        "outputId": "33d4f07c-d09c-46cd-f111-ba6816f19033",
        "colab": {
          "base_uri": "https://localhost:8080/",
          "height": 1003
        }
      },
      "cell_type": "code",
      "source": [
        "with open(os.path.join(path,'categories.json')) as f:\n",
        "    categories = json.load(f)\n",
        "\n",
        "pprint(categories)"
      ],
      "execution_count": 30,
      "outputs": [
        {
          "output_type": "stream",
          "text": [
            "{'Beauty': {'BB & CC Cream': 5,\n",
            "            'Blush On': 2,\n",
            "            'Bronzer': 11,\n",
            "            'Concealer': 7,\n",
            "            'Contour': 6,\n",
            "            'Face Palette': 0,\n",
            "            'Foundation': 1,\n",
            "            'Highlighter': 8,\n",
            "            'Lip Gloss': 14,\n",
            "            'Lip Liner': 15,\n",
            "            'Lip Tint': 13,\n",
            "            'Lipstick': 12,\n",
            "            'Other Face Cosmetics': 4,\n",
            "            'Other Lip Cosmetics': 16,\n",
            "            'Powder': 3,\n",
            "            'Primer': 9,\n",
            "            'Setting Spray': 10},\n",
            " 'Fashion': {'A Line Dress': 21,\n",
            "             'Big Size Dress': 24,\n",
            "             'Big Size Top': 30,\n",
            "             'Blouse': 26,\n",
            "             'Bodycon Dress': 22,\n",
            "             'Casual Dress': 18,\n",
            "             'Crop Top': 29,\n",
            "             'Maxi Dress': 20,\n",
            "             'Others': 17,\n",
            "             'Party Dress': 19,\n",
            "             'Shirt': 27,\n",
            "             'Tanktop': 28,\n",
            "             'Tshirt': 25,\n",
            "             'Wedding Dress': 23},\n",
            " 'Mobile': {'Advan': 45,\n",
            "            'Alcatel': 55,\n",
            "            'Asus': 43,\n",
            "            'Blackberry': 36,\n",
            "            'Brandcode': 39,\n",
            "            'Evercoss': 44,\n",
            "            'Honor': 54,\n",
            "            'Huawei': 47,\n",
            "            'Icherry': 52,\n",
            "            'Infinix': 40,\n",
            "            'Iphone': 31,\n",
            "            'Lenovo': 37,\n",
            "            'Maxtron': 56,\n",
            "            'Mito': 46,\n",
            "            'Motorola': 49,\n",
            "            'Nokia': 38,\n",
            "            'Oppo': 41,\n",
            "            'Others Mobile & Tablet': 35,\n",
            "            'Realme': 51,\n",
            "            'SPC': 57,\n",
            "            'Samsung': 32,\n",
            "            'Sharp': 48,\n",
            "            'Smartfren': 53,\n",
            "            'Sony': 33,\n",
            "            'Strawberry': 50,\n",
            "            'Vivo': 42,\n",
            "            'Xiaomi': 34}}\n"
          ],
          "name": "stdout"
        }
      ]
    },
    {
      "metadata": {
        "colab_type": "text",
        "id": "uCDKIHFJKfGW"
      },
      "cell_type": "markdown",
      "source": [
        "## 3- Feature Engineering"
      ]
    },
    {
      "metadata": {
        "colab_type": "text",
        "id": "uMAZArjwKBmt"
      },
      "cell_type": "markdown",
      "source": [
        "### 3.1 Divide the training data into Big categories containers (Beauty/Fashion/Mobile)"
      ]
    },
    {
      "metadata": {
        "colab_type": "code",
        "id": "cbPM_2lX9KeC",
        "colab": {}
      },
      "cell_type": "code",
      "source": [
        "# 1. add a new col that contins the big category (beauty, fashion, mobile)\n",
        "\n",
        "newCol = dftrain.image_path.apply(lambda x : x.split('_')[0])\n",
        "dftrain['mainCat'] = newCol\n",
        "# dftrain.head()"
      ],
      "execution_count": 0,
      "outputs": []
    },
    {
      "metadata": {
        "id": "H08rvdo13R9-",
        "colab_type": "text"
      },
      "cell_type": "markdown",
      "source": [
        "Check for unique values"
      ]
    },
    {
      "metadata": {
        "id": "4iK-RfMY3R-A",
        "colab_type": "code",
        "outputId": "183145bc-4e13-499c-9ec5-83154839c591",
        "colab": {
          "base_uri": "https://localhost:8080/",
          "height": 34
        }
      },
      "cell_type": "code",
      "source": [
        "set(dftrain['mainCat'])"
      ],
      "execution_count": 32,
      "outputs": [
        {
          "output_type": "execute_result",
          "data": {
            "text/plain": [
              "{'beauty', 'fashion', 'mobile'}"
            ]
          },
          "metadata": {
            "tags": []
          },
          "execution_count": 32
        }
      ]
    },
    {
      "metadata": {
        "colab_type": "text",
        "id": "cwHS6FuAKRd2"
      },
      "cell_type": "markdown",
      "source": [
        "### 3.2 Display the total number of samples under each category"
      ]
    },
    {
      "metadata": {
        "colab_type": "code",
        "id": "LN2eHDj49xcE",
        "outputId": "a53cb8f0-b661-4f6a-9040-d425d39d046d",
        "colab": {
          "base_uri": "https://localhost:8080/",
          "height": 277
        }
      },
      "cell_type": "code",
      "source": [
        "Beautydf= dftrain[dftrain['mainCat'] == 'beauty']\n",
        "Fashiondf= dftrain[dftrain['mainCat'] == 'fashion']\n",
        "Mobiledf= dftrain[dftrain['mainCat'] == 'mobile']\n",
        "\n",
        "plt.bar(['beauty', 'fashion', 'mobile'],[Beautydf.shape[0],Fashiondf.shape[0],Mobiledf.shape[0]],width=0.2, color='black');"
      ],
      "execution_count": 33,
      "outputs": [
        {
          "output_type": "display_data",
          "data": {
            "image/png": "[encoded data removed]",
            "text/plain": [
              "<Figure size 432x288 with 1 Axes>"
            ]
          },
          "metadata": {
            "tags": []
          }
        }
      ]
    },
    {
      "metadata": {
        "colab_type": "text",
        "id": "AmwUhgE5DqvY"
      },
      "cell_type": "markdown",
      "source": [
        "#### 3.2.1 EDA"
      ]
    },
    {
      "metadata": {
        "colab_type": "code",
        "id": "vTMye7hy-FJP",
        "outputId": "13f6a182-d288-45b7-c413-e198db038743",
        "colab": {
          "base_uri": "https://localhost:8080/",
          "height": 204
        }
      },
      "cell_type": "code",
      "source": [
        "Fashiondf.head()"
      ],
      "execution_count": 34,
      "outputs": [
        {
          "output_type": "execute_result",
          "data": {
            "text/html": [
              "<div>\n",
              "<style scoped>\n",
              "    .dataframe tbody tr th:only-of-type {\n",
              "        vertical-align: middle;\n",
              "    }\n",
              "\n",
              "    .dataframe tbody tr th {\n",
              "        vertical-align: top;\n",
              "    }\n",
              "\n",
              "    .dataframe thead th {\n",
              "        text-align: right;\n",
              "    }\n",
              "</style>\n",
              "<table border=\"1\" class=\"dataframe\">\n",
              "  <thead>\n",
              "    <tr style=\"text-align: right;\">\n",
              "      <th></th>\n",
              "      <th>itemid</th>\n",
              "      <th>title</th>\n",
              "      <th>Category</th>\n",
              "      <th>image_path</th>\n",
              "      <th>mainCat</th>\n",
              "    </tr>\n",
              "  </thead>\n",
              "  <tbody>\n",
              "    <tr>\n",
              "      <th>286583</th>\n",
              "      <td>2282553</td>\n",
              "      <td>retro floral dress</td>\n",
              "      <td>17</td>\n",
              "      <td>fashion_image/78d17fdb159bba51a4250dc3d583245e</td>\n",
              "      <td>fashion</td>\n",
              "    </tr>\n",
              "    <tr>\n",
              "      <th>286584</th>\n",
              "      <td>13822218</td>\n",
              "      <td>dress floral sifon</td>\n",
              "      <td>18</td>\n",
              "      <td>fashion_image/2f77dac9965bbfdb03cbd3724b3552c5</td>\n",
              "      <td>fashion</td>\n",
              "    </tr>\n",
              "    <tr>\n",
              "      <th>286585</th>\n",
              "      <td>33555935</td>\n",
              "      <td>korean white chiffon collar dress</td>\n",
              "      <td>18</td>\n",
              "      <td>fashion_image/6dbe2e7cba5ddbb750d2144d8f248f11</td>\n",
              "      <td>fashion</td>\n",
              "    </tr>\n",
              "    <tr>\n",
              "      <th>286586</th>\n",
              "      <td>65755120</td>\n",
              "      <td>women s trendy apricot o neck solid chiffon bl...</td>\n",
              "      <td>19</td>\n",
              "      <td>fashion_image/dc9b21429604148fc0342d12694f3294</td>\n",
              "      <td>fashion</td>\n",
              "    </tr>\n",
              "    <tr>\n",
              "      <th>286587</th>\n",
              "      <td>65857438</td>\n",
              "      <td>big sale baju gamis pesta india aysilla pancar...</td>\n",
              "      <td>20</td>\n",
              "      <td>fashion_image/6c25c578dd8edce742a805f891f1a51f</td>\n",
              "      <td>fashion</td>\n",
              "    </tr>\n",
              "  </tbody>\n",
              "</table>\n",
              "</div>"
            ],
            "text/plain": [
              "          itemid                                              title  Category  \\\n",
              "286583   2282553                                 retro floral dress        17   \n",
              "286584  13822218                                 dress floral sifon        18   \n",
              "286585  33555935                  korean white chiffon collar dress        18   \n",
              "286586  65755120  women s trendy apricot o neck solid chiffon bl...        19   \n",
              "286587  65857438  big sale baju gamis pesta india aysilla pancar...        20   \n",
              "\n",
              "                                            image_path  mainCat  \n",
              "286583  fashion_image/78d17fdb159bba51a4250dc3d583245e  fashion  \n",
              "286584  fashion_image/2f77dac9965bbfdb03cbd3724b3552c5  fashion  \n",
              "286585  fashion_image/6dbe2e7cba5ddbb750d2144d8f248f11  fashion  \n",
              "286586  fashion_image/dc9b21429604148fc0342d12694f3294  fashion  \n",
              "286587  fashion_image/6c25c578dd8edce742a805f891f1a51f  fashion  "
            ]
          },
          "metadata": {
            "tags": []
          },
          "execution_count": 34
        }
      ]
    },
    {
      "metadata": {
        "colab_type": "code",
        "id": "fRXttglcJKfM",
        "outputId": "9ac248a2-3041-4a2d-f66f-1a8fcc5ca568",
        "colab": {
          "base_uri": "https://localhost:8080/",
          "height": 34
        }
      },
      "cell_type": "code",
      "source": [
        "Fashiondf.shape"
      ],
      "execution_count": 35,
      "outputs": [
        {
          "output_type": "execute_result",
          "data": {
            "text/plain": [
              "(219702, 5)"
            ]
          },
          "metadata": {
            "tags": []
          },
          "execution_count": 35
        }
      ]
    },
    {
      "metadata": {
        "colab_type": "text",
        "id": "XKBIlRuYLCvw"
      },
      "cell_type": "markdown",
      "source": [
        "### 3.3 Randomize the train-dataset\n",
        "\n",
        "To avoid bias in the training dataset, it is a good practice"
      ]
    },
    {
      "metadata": {
        "id": "IMB0Kw103R-Y",
        "colab_type": "code",
        "outputId": "f7c3eea1-7aa2-46a6-fef2-66dab948d438",
        "colab": {
          "base_uri": "https://localhost:8080/",
          "height": 119
        }
      },
      "cell_type": "code",
      "source": [
        "Beautydf.index"
      ],
      "execution_count": 36,
      "outputs": [
        {
          "output_type": "execute_result",
          "data": {
            "text/plain": [
              "Int64Index([     0,      1,      2,      3,      4,      5,      6,      7,\n",
              "                 8,      9,\n",
              "            ...\n",
              "            286573, 286574, 286575, 286576, 286577, 286578, 286579, 286580,\n",
              "            286581, 286582],\n",
              "           dtype='int64', length=286583)"
            ]
          },
          "metadata": {
            "tags": []
          },
          "execution_count": 36
        }
      ]
    },
    {
      "metadata": {
        "colab_type": "code",
        "id": "-E7rZ5DABFv1",
        "outputId": "a5425e37-e905-432f-a806-a1c776e32975",
        "colab": {
          "base_uri": "https://localhost:8080/",
          "height": 277
        }
      },
      "cell_type": "code",
      "source": [
        "# randomize datasets\n",
        "\n",
        "Beautydf = Beautydf.reindex(np.random.permutation(Beautydf.index))\n",
        "Fashiondf = Fashiondf.reindex(np.random.permutation(Fashiondf.index))\n",
        "Mobiledf = Mobiledf.reindex(np.random.permutation(Mobiledf.index))\n",
        "\n",
        "# Beautydf.Category.hist(width = 0.5)\n",
        "# Fashiondf.Category.hist(width = 0.5)\n",
        "# Mobiledf.Category.hist(width = 0.5)\n",
        "\n",
        "fig, catAx = plt.subplots(1, 1)\n",
        "\n",
        "catAx.hist(Beautydf.Category, label='Beauty', width=0.5)\n",
        "catAx.hist(Fashiondf.Category, label='Fashion', width=0.5)\n",
        "catAx.hist(Mobiledf.Category , label='Mobile', width=0.5)\n",
        "\n",
        "catAx.legend()\n",
        "plt.show()"
      ],
      "execution_count": 37,
      "outputs": [
        {
          "output_type": "display_data",
          "data": {
            "image/png": "[encoded data removed]",
            "text/plain": [
              "<Figure size 432x288 with 1 Axes>"
            ]
          },
          "metadata": {
            "tags": []
          }
        }
      ]
    },
    {
      "metadata": {
        "colab_type": "text",
        "id": "Y_wvv61oLR9d"
      },
      "cell_type": "markdown",
      "source": [
        "### 3.4 Remove any number with more than 3 digits in the dataset\n",
        "\n",
        "For example : `02854323232` which could be an id or something\n"
      ]
    },
    {
      "metadata": {
        "colab_type": "code",
        "id": "Omco1mHbA0ay",
        "outputId": "ed79f89a-5e9f-4edf-ce73-4805ff2809b1",
        "colab": {
          "base_uri": "https://localhost:8080/",
          "height": 1071
        }
      },
      "cell_type": "code",
      "source": [
        "# Remove any number in the dataset with more than or equal to 3 digits. \n",
        "\n",
        "Beautydf.title.replace(r'\\b[0-9]{3,}\\b', '', regex=True)\n",
        "Fashiondf.title.replace(r'\\b[0-9]{3,}\\b', '', regex=True)\n",
        "Mobiledf.title.replace(r'\\b[0-9]{3,}\\b', '', regex=True)"
      ],
      "execution_count": 38,
      "outputs": [
        {
          "output_type": "execute_result",
          "data": {
            "text/plain": [
              "600120              promo cuci gudang oppo f7 pro 6gb 128gb\n",
              "521512     promo akhir tahun beli 2 gratis big special s...\n",
              "586974    exacoat garskin iphone x skin original titaniu...\n",
              "567114                               handphone lava iris 88\n",
              "599181                    promo cuci gudang samsung j7 pro \n",
              "526794    tempered glass full cover 4d iphone 6 6s plus ...\n",
              "515796    promo toko cuci gudang oppo f5 ram 4gb rom 32g...\n",
              "507594                            iphone 7 128gb blackmatte\n",
              "589519    sony xperia z5 dual love mei powerful case cas...\n",
              "585805           promo vivo v7 black beli 2 gratis 1 wa ...\n",
              "561481                          ipad mini 4 128gb wifi only\n",
              "527368                       xiaomi mi5 pro 128gb  original\n",
              "645160    beli 1 gratis promo cuci gudang apple ipad pro...\n",
              "541422                  samsung galaxy star s5282 4gb black\n",
              "592282                                    vivo y91 ram 2 16\n",
              "603121    promo oppo f7 dp 10 saja lewat kredit plus rea...\n",
              "548264      iphone 7 plus seken fulset mulus bekas ex inter\n",
              "612201                                       andromax prime\n",
              "658587                                termurah vivo v11 pro\n",
              "598261                         hp android murah mirip j5 3g\n",
              "523216    produk oke iphone 6 6s 4.7 gold luxury diamond...\n",
              "529873                      tombol sidik jari lenovo zuk z2\n",
              "534767    call via wa    pre order new ipad 9.7 inch  sp...\n",
              "633493                                     huawei p9 silver\n",
              "584317    best oke samsung galaxy s9 plus flip leather c...\n",
              "523744    termurah lg g2 au isai 4g 2 32gb waterproof ed...\n",
              "618737    harga murah lcd touchscreen iphone 6s plus ori...\n",
              "552952    infinix hot s3 pro ram 4gb internal 64gb garan...\n",
              "655470       oppo a3s ram 3gb rom 32gb dual camera belakang\n",
              "528643                               zte blade g v815 hitam\n",
              "                                ...                        \n",
              "613785                                               nokia \n",
              "621805                            iphone 7 plus black 128gb\n",
              "507105                     terlaris vivo v11 pro ram 6 64gb\n",
              "616139            promo android polytron terbaru prime7 pro\n",
              "662069                                   iphone 7 128gb ori\n",
              "506857                  diskond samsung galaxy a6 32gb blue\n",
              "584447                                      strawberry st22\n",
              "654192    fotga m42 ring adapter lensa untuk kamera sony...\n",
              "653071    minat dan serius chat di wa     pembelian 3 gr...\n",
              "517952                       khusus hari ini vivo v9 second\n",
              "573217    promo hp handphone ericsson r380s atau r380 la...\n",
              "550194    samsung galaxy s9 plus case clear view stand c...\n",
              "639622    dijual oppo f9 flip cover casing auto lock sta...\n",
              "516636    minat serius chat wa  beli 2 gratis 1 motorola...\n",
              "597258                             evercross extream 1 plus\n",
              "601667                                       sony xperia z4\n",
              "577003    minat chat whatsapp kami    big promo ramadan ...\n",
              "589919    blackview bv6000 32gb ram 3gb ip68 waterproof ...\n",
              "553680                        ipad mini 3 64gb celluar wifi\n",
              "507059            hot promo samsung ssd  pro 512gb sata 2.5\n",
              "522144                big sale handphone samsung galaxy a7 \n",
              "544174            samsung galaxy j6  4gb 64gb garansi resmi\n",
              "533081                                              oppo f9\n",
              "555259                                        vivo v9 ram 4\n",
              "583900    berkah ramadhan promo xiaomi mi6 mi 6 ram 6gb ...\n",
              "624379               promo samsung j1 ace  smartphone white\n",
              "651856                                         vivo v5 32gb\n",
              "557329    goyang shopee samsung j2 prime resmi sein 1 tahun\n",
              "563351                                             vivo v5s\n",
              "561030                        samsung galaxy s4 i9500 black\n",
              "Name: title, Length: 160330, dtype: object"
            ]
          },
          "metadata": {
            "tags": []
          },
          "execution_count": 38
        }
      ]
    },
    {
      "metadata": {
        "id": "_taxa2Hg3R-q",
        "colab_type": "code",
        "outputId": "7a96d75e-fea3-4806-ffc5-12e7b6891060",
        "colab": {
          "base_uri": "https://localhost:8080/",
          "height": 272
        }
      },
      "cell_type": "code",
      "source": [
        "Fashiondf['Category'].value_counts()"
      ],
      "execution_count": 39,
      "outputs": [
        {
          "output_type": "execute_result",
          "data": {
            "text/plain": [
              "18    56598\n",
              "25    33922\n",
              "26    33845\n",
              "20    19978\n",
              "27    16199\n",
              "22    15225\n",
              "19    13493\n",
              "21    10483\n",
              "28     6493\n",
              "24     4251\n",
              "29     3338\n",
              "17     2765\n",
              "23     1671\n",
              "30     1441\n",
              "Name: Category, dtype: int64"
            ]
          },
          "metadata": {
            "tags": []
          },
          "execution_count": 39
        }
      ]
    },
    {
      "metadata": {
        "id": "GdAJxppw3R-v",
        "colab_type": "text"
      },
      "cell_type": "markdown",
      "source": [
        "#### 3.5.1 Check the phrase of the length"
      ]
    },
    {
      "metadata": {
        "id": "vfKYRN9Y3R_Q",
        "colab_type": "text"
      },
      "cell_type": "markdown",
      "source": [
        "#### 3.8 Remove the top common words across all categories which may not be helping with the classification"
      ]
    },
    {
      "metadata": {
        "colab_type": "text",
        "id": "wGJGU8K-LrFu"
      },
      "cell_type": "markdown",
      "source": [
        "## 4- Cross Validation"
      ]
    },
    {
      "metadata": {
        "colab_type": "text",
        "id": "C2s_QXTvL71M"
      },
      "cell_type": "markdown",
      "source": [
        "### 4.1 Split the training dataset into train/test"
      ]
    },
    {
      "metadata": {
        "colab_type": "code",
        "id": "78ITO1LDGDQ5",
        "colab": {}
      },
      "cell_type": "code",
      "source": [
        "B_X_train = Beautydf.title\n",
        "B_y_train = Beautydf.Category\n",
        "\n",
        "F_X_train = Fashiondf.title\n",
        "F_y_train = Fashiondf.Category\n",
        "\n",
        "M_X_train = Mobiledf.title\n",
        "M_y_train = Mobiledf.Category"
      ],
      "execution_count": 0,
      "outputs": []
    },
    {
      "metadata": {
        "id": "qLBDGgbK3R_W",
        "colab_type": "code",
        "colab": {}
      },
      "cell_type": "code",
      "source": [
        "def tokenize_data(vect, X_train, X_test):\n",
        "    ''' Tokenize the training and test set'''\n",
        "    # create document-term matrices using the vectorizer\n",
        "    X_train_dtm = vect.fit_transform(X_train)\n",
        "    X_test_dtm = vect.transform(X_test)\n",
        "\n",
        "    # print the number of features that were generated\n",
        "    #print('Features: ', X_train_dtm.shape[1])\n",
        "    \n",
        "    return X_train_dtm, X_test_dtm"
      ],
      "execution_count": 0,
      "outputs": []
    },
    {
      "metadata": {
        "id": "zhg0vsNL3R_a",
        "colab_type": "code",
        "colab": {}
      },
      "cell_type": "code",
      "source": [
        "skfolds = StratifiedKFold(n_splits=5, random_state=42)\n",
        "for train_index, test_index in skfolds.split(M_X_train, M_y_train):\n",
        "    y_train_folds = M_y_train.iloc[train_index]\n"
      ],
      "execution_count": 0,
      "outputs": []
    },
    {
      "metadata": {
        "id": "F5tb7wnB3R_h",
        "colab_type": "code",
        "colab": {}
      },
      "cell_type": "code",
      "source": [
        "from time import monotonic\n",
        "from datetime import timedelta\n",
        "import sklearn.metrics as metrics\n",
        "import sys\n",
        "\n",
        "def trainCV(X_train, y_train, vect, folds = 5, random_state=42, \n",
        "            clf=SGDClassifier(random_state=42, max_iter=5000, tol=1e-3, \n",
        "                              loss='hinge', verbose=1)):\n",
        "    ''' Train a classifier using CV'''\n",
        "    #clf = SGDClassifier(random_state=random_state)\n",
        "\n",
        "    skfolds = StratifiedKFold(n_splits=folds, random_state=random_state)\n",
        "\n",
        "    cv_start_time = monotonic()\n",
        "    \n",
        "    scores = []\n",
        "    features = []\n",
        "    for train_index, test_index in skfolds.split(X_train, y_train):\n",
        "        start_time = monotonic()\n",
        "        \n",
        "        clone_clf = clone(clf)\n",
        "        #X_train_folds = X_train[train_index]\n",
        "        y_train_folds = y_train.iloc[train_index]\n",
        "        #X_test_fold = X_train[test_index]\n",
        "        y_test_fold = y_train.iloc[test_index]\n",
        "        \n",
        "        X_train_folds,X_test_fold = tokenize_data(vect, \n",
        "                                                  X_train.iloc[train_index], \n",
        "                                                  X_train.iloc[test_index])\n",
        "        features.append(X_train_folds.shape[1])\n",
        "        \n",
        "        clone_clf.fit(X_train_folds, y_train_folds)\n",
        "        y_pred = clone_clf.predict(X_test_fold)\n",
        "        n_correct = sum(y_pred == y_test_fold)\n",
        "        scores.append(n_correct / len(y_pred))\n",
        "        \n",
        "        end_time = monotonic()\n",
        "        print(\"Training time per fold: {}\".format(timedelta(seconds=end_time - start_time)))\n",
        "\n",
        "        \n",
        "    print (\"Features: {}\".format(features))\n",
        "    print(\"Features variance: %0.2f (+/- %0.2f)\" % (np.mean(features), \n",
        "                                                    np.std(features) * 2))\n",
        "    print (\"Scores: {}\".format(scores))\n",
        "    print(\"Accuracy: %0.5f (+/- %0.5f)\" % (np.mean(scores), \n",
        "                                           np.std(scores) * 2))\n",
        "    \n",
        "    cv_end_time = monotonic()\n",
        "    print(\"Total Training time: {}\".format(timedelta(seconds=cv_end_time - cv_start_time)))\n",
        "    \n",
        "    return clone_clf, scores, features"
      ],
      "execution_count": 0,
      "outputs": []
    },
    {
      "metadata": {
        "id": "QxNzzdX23R_n",
        "colab_type": "text"
      },
      "cell_type": "markdown",
      "source": [
        "### 4.2 Defining Stop words"
      ]
    },
    {
      "metadata": {
        "id": "8i-PLTDN3R_o",
        "colab_type": "code",
        "outputId": "bcb99653-894a-439a-ebd7-168679090b7f",
        "colab": {
          "base_uri": "https://localhost:8080/",
          "height": 340
        }
      },
      "cell_type": "code",
      "source": [
        "# Adding Bahaya Stop words \n",
        "\n",
        "factory = StopWordRemoverFactory()\n",
        "id_stopwords = factory.get_stop_words()\n",
        "en_stopwords  = list(stopwords.words('english'))\n",
        "stopwords = id_stopwords + en_stopwords\n",
        "stopwords[1:20]\n",
        "\n",
        "#F_stopWords = ['dress', 'lengan', 'wanita', 'women', 'untuk', 'neck', 'model', 'top', 'panjang']\n",
        "#F_stopWords2 = ['lengan', 'untuk', 'neck', 'model', 'top', 'panjang']\n",
        "#F_stopWords3 = ['untuk', 'neck', 'model', 'top', 'panjang']\n",
        "#B_stopWords = ['lip', 'cream', 'promo', 'bb', 'original', 'cushion', 'ml', 'natural', 'nature', 'murah']"
      ],
      "execution_count": 44,
      "outputs": [
        {
          "output_type": "execute_result",
          "data": {
            "text/plain": [
              "['untuk',\n",
              " 'pada',\n",
              " 'ke',\n",
              " 'para',\n",
              " 'namun',\n",
              " 'menurut',\n",
              " 'antara',\n",
              " 'dia',\n",
              " 'dua',\n",
              " 'ia',\n",
              " 'seperti',\n",
              " 'jika',\n",
              " 'jika',\n",
              " 'sehingga',\n",
              " 'kembali',\n",
              " 'dan',\n",
              " 'tidak',\n",
              " 'ini',\n",
              " 'karena']"
            ]
          },
          "metadata": {
            "tags": []
          },
          "execution_count": 44
        }
      ]
    },
    {
      "metadata": {
        "id": "-2pT3sxy3R_q",
        "colab_type": "text"
      },
      "cell_type": "markdown",
      "source": [
        "### 4.3 Model Training for Beauty\n",
        "\n",
        "#### 4.3.1 Optiming for nrange"
      ]
    },
    {
      "metadata": {
        "id": "c5qlwuRH3R_1",
        "colab_type": "text"
      },
      "cell_type": "markdown",
      "source": [
        "Optimal hyperparam is at nrange 1,8 with Accuracy: 0.78536 (+/- 0.00335)\n",
        "\n",
        "With slight improvement seen using One vs Rest with Accuracy: 0.78557 (+/- 0.00376)\n",
        "\n",
        "And with stop words Accuracy: 0.78435 (+/- 0.00327)\n",
        "\n",
        "* Features: [2060519, 2059314, 2055361, 2059141, 2059118]\n",
        "* Features variance: 2058690.60 (+/- 3487.51)\n",
        "* Scores: [0.7866127034523664, 0.787446355674959, 0.7855958965053998, 0.784320910106086, 0.7857579088799316]\n",
        "* Accuracy: 0.78595 (+/- 0.00210)\n",
        "* Total Training time: 0:04:07.240765"
      ]
    },
    {
      "metadata": {
        "id": "zswWoAGj3SAl",
        "colab_type": "text"
      },
      "cell_type": "markdown",
      "source": [
        "#### 4.4.2 Training for Optimal Model for Mobile"
      ]
    },
    {
      "metadata": {
        "colab_type": "text",
        "id": "-aY7yXcXiA5V"
      },
      "cell_type": "markdown",
      "source": [
        "Optimal hyperparam for Mobile is with nrange of 1,5 with Accuracy: 0.82828 (+/- 0.00265)\n",
        "\n",
        "Using One vs Rest is seeing slight improvement with Accuracy: 0.82856 (+/- 0.00143).\n",
        "\n",
        "And with stop words: Accuracy: 0.82006 (+/- 0.00239).\n",
        "\n",
        "* Features: [1030842, 1029869, 1029107, 1030184, 1027609]\n",
        "* Features variance: 1029522.20 (+/- 2215.01)\n",
        "* Scores: [0.8285375814446488, 0.8311040438998535, 0.8259784812100421, 0.8314981752394024, 0.8282692787621662]\n",
        "* Accuracy: 0.82908 (+/- 0.00405)\n",
        "* Total Training time: 0:02:20.155520"
      ]
    },
    {
      "metadata": {
        "id": "Os5KjQbx3SA0",
        "colab_type": "text"
      },
      "cell_type": "markdown",
      "source": [
        "### 4.5 Model Training for Fashion\n",
        "\n",
        "#### 4.5.1 Optiming for the nrange for Fashion"
      ]
    },
    {
      "metadata": {
        "id": "Zd_4EH8A3SA9",
        "colab_type": "text"
      },
      "cell_type": "markdown",
      "source": [
        "Optimal for Fashion is Ngram range of 1,14 with Accuracy: 0.64612 (+/- 0.00261)\n",
        "\n",
        "And using One vs Rest with Accuracy: 0.64587 (+/- 0.00192).\n",
        "\n",
        "With stop words with Accuracy: 0.64569 (+/- 0.00502).\n",
        "\n",
        "Using RandomizedGridSearch\n",
        "* Features: [2574193, 2573700, 2572438, 2571429, 2575672]\n",
        "* Features variance: 2573486.40 (+/- 2919.42)\n",
        "* Scores: [0.6499567651208301, 0.6513210295155087, 0.6532929771061854, 0.6549754187909687, 0.6576988733356094]\n",
        "* Accuracy: 0.65345 (+/- 0.00545)\n",
        "* Total Training time: 0:04:32.68714\n",
        "\n",
        "#### 4.5.2 Find Optimal Model for Fashion"
      ]
    },
    {
      "metadata": {
        "id": "i9r37V053SB1",
        "colab_type": "text"
      },
      "cell_type": "markdown",
      "source": [
        "Best count vectorizer param appears to be at min df =1, max df = 0.6 and max features at 100,000.\n",
        "\n",
        "#### 4.5.5 Testing stemming next"
      ]
    },
    {
      "metadata": {
        "id": "kZz7xFDP3SB4",
        "colab_type": "text"
      },
      "cell_type": "markdown",
      "source": [
        "### 1.0 Fashion Optimization"
      ]
    },
    {
      "metadata": {
        "id": "fxbKCAfpY8Vv",
        "colab_type": "code",
        "colab": {}
      },
      "cell_type": "code",
      "source": [
        "# Utility function to report best scores\n",
        "def report(results, n_top=3):\n",
        "    for i in range(1, n_top + 1):\n",
        "        candidates = np.flatnonzero(results['rank_test_score'] == i)\n",
        "        for candidate in candidates:\n",
        "            print(\"Model with rank: {0}\".format(i))\n",
        "            print(\"Mean validation score: {0:.3f} (std: {1:.3f})\".format(\n",
        "                  results['mean_test_score'][candidate],\n",
        "                  results['std_test_score'][candidate]))\n",
        "            print(\"Parameters: {0}\".format(results['params'][candidate]))\n",
        "            print(\"\")"
      ],
      "execution_count": 0,
      "outputs": []
    },
    {
      "metadata": {
        "id": "ffGRdx3OryQj",
        "colab_type": "code",
        "colab": {}
      },
      "cell_type": "code",
      "source": [
        "F_vect = CountVectorizer(ngram_range=(1,6), analyzer='word')\n",
        "Fs_vect = CountVectorizer(ngram_range=(1,6), stop_words=stopwords, analyzer='word')\n"
      ],
      "execution_count": 0,
      "outputs": []
    },
    {
      "metadata": {
        "id": "AuHo7Pj9iZjV",
        "colab_type": "code",
        "colab": {}
      },
      "cell_type": "code",
      "source": [
        "def randomSearch(X, y, vect):\n",
        "  X_train, X_test, y_train, y_test = train_test_split(X, y, \n",
        "                                               test_size=0.33, random_state=42)\n",
        "  \n",
        "  X_train_dtm, X_test_dtm = tokenize_data(vect, X_train, X_test)\n",
        "  \n",
        "  params = {\n",
        "    \"C\" : [0.001, 0.01, 0.1, 1, 10, 100],\n",
        "    #\"max_iter\" : [1000, 5000]\n",
        "  }\n",
        "\n",
        "  n_iter_search = 10\n",
        "  model = PassiveAggressiveClassifier(tol=1e-3, loss='hinge', random_state=42)\n",
        "  clf = RandomizedSearchCV(model, \n",
        "                           param_distributions=params, \n",
        "                           cv=5,\n",
        "                     scoring='accuracy',\n",
        "                     error_score='raise',\n",
        "                     verbose =2,\n",
        "                     n_jobs=-1,\n",
        "                     n_iter=n_iter_search,\n",
        "                    #loss=\"hinge\",\n",
        "                    #penalty=\"l2\"\n",
        "                    )\n",
        "  \n",
        "  start = time()\n",
        "\n",
        "  clf.fit(X_train_dtm, y_train)\n",
        "\n",
        "  print(\"RandomizedSearchCV took %.2f seconds for %d candidates\"\n",
        "        \" parameter settings.\" % ((time() - start), n_iter_search))\n",
        "  report(clf.cv_results_)\n",
        "  \n",
        "  return clf\n",
        "\n",
        "def printBestScore(clf):\n",
        "  print(\"Best score {}\".format(clf.best_score_))\n",
        "  print(\"Best estimator {}\".format(clf.best_estimator_))"
      ],
      "execution_count": 0,
      "outputs": []
    },
    {
      "metadata": {
        "id": "-kFrXeaJo_aq",
        "colab_type": "code",
        "outputId": "b60a8562-079a-4c5c-a551-f4fd737c3472",
        "colab": {
          "base_uri": "https://localhost:8080/",
          "height": 343
        }
      },
      "cell_type": "code",
      "source": [
        "F_clf = randomSearch(F_X_train, F_y_train, Fs_vect)"
      ],
      "execution_count": 48,
      "outputs": [
        {
          "output_type": "stream",
          "text": [
            "/usr/local/lib/python3.6/dist-packages/sklearn/model_selection/_search.py:271: UserWarning: The total space of parameters 6 is smaller than n_iter=10. Running 6 iterations. For exhaustive searches, use GridSearchCV.\n",
            "  % (grid_size, self.n_iter, grid_size), UserWarning)\n"
          ],
          "name": "stderr"
        },
        {
          "output_type": "stream",
          "text": [
            "Fitting 5 folds for each of 6 candidates, totalling 30 fits\n"
          ],
          "name": "stdout"
        },
        {
          "output_type": "stream",
          "text": [
            "[Parallel(n_jobs=-1)]: Using backend LokyBackend with 2 concurrent workers.\n",
            "[Parallel(n_jobs=-1)]: Done  30 out of  30 | elapsed: 20.8min finished\n"
          ],
          "name": "stderr"
        },
        {
          "output_type": "stream",
          "text": [
            "RandomizedSearchCV took 1332.90 seconds for 10 candidates parameter settings.\n",
            "Model with rank: 1\n",
            "Mean validation score: 0.638 (std: 0.003)\n",
            "Parameters: {'C': 0.001}\n",
            "\n",
            "Model with rank: 2\n",
            "Mean validation score: 0.621 (std: 0.004)\n",
            "Parameters: {'C': 0.01}\n",
            "\n",
            "Model with rank: 3\n",
            "Mean validation score: 0.609 (std: 0.004)\n",
            "Parameters: {'C': 0.1}\n",
            "\n"
          ],
          "name": "stdout"
        }
      ]
    },
    {
      "metadata": {
        "id": "8SKoz4za3SB8",
        "colab_type": "code",
        "outputId": "eb2c7ada-afd3-42dc-8b24-2255cfe44ce5",
        "colab": {
          "base_uri": "https://localhost:8080/",
          "height": 119
        }
      },
      "cell_type": "code",
      "source": [
        "printBestScore(F_clf)"
      ],
      "execution_count": 49,
      "outputs": [
        {
          "output_type": "stream",
          "text": [
            "Best score 0.6375747282608696\n",
            "Best estimator PassiveAggressiveClassifier(C=0.001, average=False, class_weight=None,\n",
            "              early_stopping=False, fit_intercept=True, loss='hinge',\n",
            "              max_iter=None, n_iter=None, n_iter_no_change=5, n_jobs=None,\n",
            "              random_state=42, shuffle=True, tol=0.001,\n",
            "              validation_fraction=0.1, verbose=0, warm_start=False)\n"
          ],
          "name": "stdout"
        }
      ]
    },
    {
      "metadata": {
        "id": "XYfv8wnDdPLv",
        "colab_type": "text"
      },
      "cell_type": "markdown",
      "source": [
        "Running using the best model"
      ]
    },
    {
      "metadata": {
        "id": "KcQzzQzqdQw2",
        "colab_type": "code",
        "colab": {}
      },
      "cell_type": "code",
      "source": [
        "F_bestModel = F_clf.best_estimator_"
      ],
      "execution_count": 0,
      "outputs": []
    },
    {
      "metadata": {
        "id": "YJ547zSwdvb6",
        "colab_type": "code",
        "outputId": "c45fb021-866d-442d-a980-a5d69186246e",
        "colab": {
          "base_uri": "https://localhost:8080/",
          "height": 187
        }
      },
      "cell_type": "code",
      "source": [
        "Fo_sgd, Fo_scores, Fo_features = trainCV(F_X_train, F_y_train, vect=Fs_vect, \n",
        "                                         clf=F_bestModel)"
      ],
      "execution_count": 51,
      "outputs": [
        {
          "output_type": "stream",
          "text": [
            "Training time per fold: 0:02:21.723305\n",
            "Training time per fold: 0:02:21.451670\n",
            "Training time per fold: 0:02:21.328239\n",
            "Training time per fold: 0:01:42.885582\n",
            "Training time per fold: 0:01:44.008763\n",
            "Features: [2569788, 2570780, 2574570, 2576112, 2573836]\n",
            "Features variance: 2573017.20 (+/- 4740.65)\n",
            "Scores: [0.6464752195876757, 0.6543476776733496, 0.6554776751171999, 0.6491032410779315, 0.6500739729145328]\n",
            "Accuracy: 0.65110 (+/- 0.00670)\n",
            "Total Training time: 0:10:31.576618\n"
          ],
          "name": "stdout"
        }
      ]
    },
    {
      "metadata": {
        "id": "WflZYBOOjooR",
        "colab_type": "text"
      },
      "cell_type": "markdown",
      "source": [
        "### 2.0 For Beauty"
      ]
    },
    {
      "metadata": {
        "id": "tPaPvPYrjwiA",
        "colab_type": "code",
        "colab": {}
      },
      "cell_type": "code",
      "source": [
        "B_vect = CountVectorizer(ngram_range=(1,8))\n",
        "Bs_vect = CountVectorizer(ngram_range=(1,8), stop_words=stopwords)"
      ],
      "execution_count": 0,
      "outputs": []
    },
    {
      "metadata": {
        "id": "-8g-kp6Zjqk5",
        "colab_type": "code",
        "outputId": "39482a07-b87f-4507-d819-751cc4e39272",
        "colab": {
          "base_uri": "https://localhost:8080/",
          "height": 343
        }
      },
      "cell_type": "code",
      "source": [
        "B_clf = randomSearch(B_X_train, B_y_train, Bs_vect)"
      ],
      "execution_count": 53,
      "outputs": [
        {
          "output_type": "stream",
          "text": [
            "Fitting 5 folds for each of 6 candidates, totalling 30 fits\n"
          ],
          "name": "stdout"
        },
        {
          "output_type": "stream",
          "text": [
            "/usr/local/lib/python3.6/dist-packages/sklearn/model_selection/_search.py:271: UserWarning: The total space of parameters 6 is smaller than n_iter=10. Running 6 iterations. For exhaustive searches, use GridSearchCV.\n",
            "  % (grid_size, self.n_iter, grid_size), UserWarning)\n",
            "[Parallel(n_jobs=-1)]: Using backend LokyBackend with 2 concurrent workers.\n",
            "[Parallel(n_jobs=-1)]: Done  30 out of  30 | elapsed:  9.4min finished\n"
          ],
          "name": "stderr"
        },
        {
          "output_type": "stream",
          "text": [
            "RandomizedSearchCV took 600.77 seconds for 10 candidates parameter settings.\n",
            "Model with rank: 1\n",
            "Mean validation score: 0.775 (std: 0.002)\n",
            "Parameters: {'C': 0.001}\n",
            "\n",
            "Model with rank: 2\n",
            "Mean validation score: 0.771 (std: 0.001)\n",
            "Parameters: {'C': 0.01}\n",
            "\n",
            "Model with rank: 3\n",
            "Mean validation score: 0.748 (std: 0.003)\n",
            "Parameters: {'C': 0.1}\n",
            "\n"
          ],
          "name": "stdout"
        }
      ]
    },
    {
      "metadata": {
        "id": "mPpNKgDlj9P3",
        "colab_type": "code",
        "colab": {
          "base_uri": "https://localhost:8080/",
          "height": 119
        },
        "outputId": "54f6cbfc-503f-427b-93cf-9b3762c91000"
      },
      "cell_type": "code",
      "source": [
        "printBestScore(B_clf)"
      ],
      "execution_count": 54,
      "outputs": [
        {
          "output_type": "stream",
          "text": [
            "Best score 0.775470027602729\n",
            "Best estimator PassiveAggressiveClassifier(C=0.001, average=False, class_weight=None,\n",
            "              early_stopping=False, fit_intercept=True, loss='hinge',\n",
            "              max_iter=None, n_iter=None, n_iter_no_change=5, n_jobs=None,\n",
            "              random_state=42, shuffle=True, tol=0.001,\n",
            "              validation_fraction=0.1, verbose=0, warm_start=False)\n"
          ],
          "name": "stdout"
        }
      ]
    },
    {
      "metadata": {
        "id": "uYFYqbY_kXFP",
        "colab_type": "code",
        "colab": {}
      },
      "cell_type": "code",
      "source": [
        "B_bestModel = B_clf.best_estimator_"
      ],
      "execution_count": 0,
      "outputs": []
    },
    {
      "metadata": {
        "id": "-EZPrbMfkEuX",
        "colab_type": "code",
        "colab": {
          "base_uri": "https://localhost:8080/",
          "height": 187
        },
        "outputId": "87091f96-668c-4ddf-9e7e-f1c372bc47d3"
      },
      "cell_type": "code",
      "source": [
        "Bo_sgd, Bo_scores, Bo_features = trainCV(B_X_train, B_y_train, vect=Bs_vect, \n",
        "                                         clf=B_bestModel)"
      ],
      "execution_count": 56,
      "outputs": [
        {
          "output_type": "stream",
          "text": [
            "Training time per fold: 0:01:13.548267\n",
            "Training time per fold: 0:01:15.441467\n",
            "Training time per fold: 0:01:14.542281\n",
            "Training time per fold: 0:01:11.879905\n",
            "Training time per fold: 0:01:14.683370\n",
            "Features: [2058398, 2055614, 2060434, 2060323, 2058074]\n",
            "Features variance: 2058568.60 (+/- 3528.29)\n",
            "Scores: [0.7836819426757148, 0.7838177314120233, 0.7848107891201563, 0.7794179229480737, 0.7813083459840514]\n",
            "Accuracy: 0.78261 (+/- 0.00393)\n",
            "Total Training time: 0:06:10.282179\n"
          ],
          "name": "stdout"
        }
      ]
    },
    {
      "metadata": {
        "colab_type": "text",
        "id": "4caOIWO8k9mL"
      },
      "cell_type": "markdown",
      "source": [
        "### 3.0 For Mobile"
      ]
    },
    {
      "metadata": {
        "colab_type": "code",
        "id": "nCoDXJpbk9mM",
        "colab": {}
      },
      "cell_type": "code",
      "source": [
        "Ms_vect = CountVectorizer(ngram_range=(1,5), stop_words=stopwords)\n",
        "M_vect = CountVectorizer(ngram_range=(1,5))"
      ],
      "execution_count": 0,
      "outputs": []
    },
    {
      "metadata": {
        "colab_type": "code",
        "id": "s4o3tFBJk9mP",
        "colab": {
          "base_uri": "https://localhost:8080/",
          "height": 343
        },
        "outputId": "b4259825-ec10-4e69-a841-feab63724ce1"
      },
      "cell_type": "code",
      "source": [
        "M_clf = randomSearch(M_X_train, M_y_train, Ms_vect)"
      ],
      "execution_count": 58,
      "outputs": [
        {
          "output_type": "stream",
          "text": [
            "Fitting 5 folds for each of 6 candidates, totalling 30 fits\n"
          ],
          "name": "stdout"
        },
        {
          "output_type": "stream",
          "text": [
            "/usr/local/lib/python3.6/dist-packages/sklearn/model_selection/_search.py:271: UserWarning: The total space of parameters 6 is smaller than n_iter=10. Running 6 iterations. For exhaustive searches, use GridSearchCV.\n",
            "  % (grid_size, self.n_iter, grid_size), UserWarning)\n",
            "[Parallel(n_jobs=-1)]: Using backend LokyBackend with 2 concurrent workers.\n",
            "[Parallel(n_jobs=-1)]: Done  30 out of  30 | elapsed:  6.8min finished\n"
          ],
          "name": "stderr"
        },
        {
          "output_type": "stream",
          "text": [
            "RandomizedSearchCV took 430.36 seconds for 10 candidates parameter settings.\n",
            "Model with rank: 1\n",
            "Mean validation score: 0.821 (std: 0.002)\n",
            "Parameters: {'C': 0.01}\n",
            "\n",
            "Model with rank: 2\n",
            "Mean validation score: 0.819 (std: 0.001)\n",
            "Parameters: {'C': 0.001}\n",
            "\n",
            "Model with rank: 3\n",
            "Mean validation score: 0.803 (std: 0.002)\n",
            "Parameters: {'C': 0.1}\n",
            "\n"
          ],
          "name": "stdout"
        }
      ]
    },
    {
      "metadata": {
        "colab_type": "code",
        "id": "jVExYkGCk9mX",
        "colab": {
          "base_uri": "https://localhost:8080/",
          "height": 119
        },
        "outputId": "a720d3eb-e548-41e9-b1b5-72020059dd75"
      },
      "cell_type": "code",
      "source": [
        "printBestScore(M_clf)"
      ],
      "execution_count": 59,
      "outputs": [
        {
          "output_type": "stream",
          "text": [
            "Best score 0.8207054486552908\n",
            "Best estimator PassiveAggressiveClassifier(C=0.01, average=False, class_weight=None,\n",
            "              early_stopping=False, fit_intercept=True, loss='hinge',\n",
            "              max_iter=None, n_iter=None, n_iter_no_change=5, n_jobs=None,\n",
            "              random_state=42, shuffle=True, tol=0.001,\n",
            "              validation_fraction=0.1, verbose=0, warm_start=False)\n"
          ],
          "name": "stdout"
        }
      ]
    },
    {
      "metadata": {
        "colab_type": "code",
        "id": "VWiCvYrQk9ma",
        "colab": {}
      },
      "cell_type": "code",
      "source": [
        "M_bestModel = M_clf.best_estimator_"
      ],
      "execution_count": 0,
      "outputs": []
    },
    {
      "metadata": {
        "colab_type": "code",
        "id": "jFTr0p-3k9me",
        "colab": {
          "base_uri": "https://localhost:8080/",
          "height": 187
        },
        "outputId": "52618203-8ee8-4788-c959-aee2f70b0a5f"
      },
      "cell_type": "code",
      "source": [
        "Mo_sgd, Mo_scores, Mo_features = trainCV(M_X_train, M_y_train, vect=Ms_vect, \n",
        "                                         clf=M_bestModel)"
      ],
      "execution_count": 61,
      "outputs": [
        {
          "output_type": "stream",
          "text": [
            "Training time per fold: 0:00:45.069448\n",
            "Training time per fold: 0:00:50.820213\n",
            "Training time per fold: 0:00:44.080251\n",
            "Training time per fold: 0:00:39.037037\n",
            "Training time per fold: 0:00:38.729012\n",
            "Features: [1030619, 1030049, 1028061, 1029365, 1029694]\n",
            "Features variance: 1029557.60 (+/- 1711.97)\n",
            "Scores: [0.827976431711195, 0.8282667664390609, 0.8230469359114299, 0.8316853301724945, 0.8270526578487647]\n",
            "Accuracy: 0.82761 (+/- 0.00554)\n",
            "Total Training time: 0:03:37.870725\n"
          ],
          "name": "stdout"
        }
      ]
    },
    {
      "metadata": {
        "id": "hsuYpNWQk80Q",
        "colab_type": "text"
      },
      "cell_type": "markdown",
      "source": [
        ""
      ]
    },
    {
      "metadata": {
        "id": "IvjXLOr83SCT",
        "colab_type": "text"
      },
      "cell_type": "markdown",
      "source": [
        "### 4.6 Checking the scores"
      ]
    },
    {
      "metadata": {
        "colab_type": "text",
        "id": "j0W0lO17Qyin"
      },
      "cell_type": "markdown",
      "source": [
        "#### 4.6.1 Summary:\n",
        "---\n",
        " \n",
        "\n",
        "1.   **Beauty Category**:    `ngram_range(1, 8) OVR`\n",
        "---\n",
        "2.   **Fashion Category**:    `ngram_range(1, 14) OVR`\n",
        "---\n",
        "3.   **Mobile Category**:    `ngram_range(1,5) OVR`\n",
        "---"
      ]
    },
    {
      "metadata": {
        "id": "UAEdyBB63SCU",
        "colab_type": "code",
        "colab": {
          "base_uri": "https://localhost:8080/",
          "height": 34
        },
        "outputId": "e338c249-8c0a-4f06-966b-c8802926ce1a"
      },
      "cell_type": "code",
      "source": [
        "total_scores = Bo_scores+ Fo_scores+ Mo_scores\n",
        "print(\"OvO with stopwords Accuracy: %0.5f (+/- %0.5f)\" % (np.mean(total_scores), \n",
        "                                       np.std(total_scores) * 2))\n"
      ],
      "execution_count": 62,
      "outputs": [
        {
          "output_type": "stream",
          "text": [
            "OvO with stopwords Accuracy: 0.75377 (+/- 0.14988)\n"
          ],
          "name": "stdout"
        }
      ]
    },
    {
      "metadata": {
        "id": "CCIMqxEV3SCX",
        "colab_type": "text"
      },
      "cell_type": "markdown",
      "source": [
        "#### 4.5.1 Result comparison:\n",
        "* OvO with stopwords Accuracy: 0.75610 (+/- 0.15001)\n",
        "* OvO without stopwords Accuracy: 0.75598 (+/- 0.15262)\n",
        "* OvR with stopwords Accuracy: 0.75615 (+/- 0.14967)\n",
        "\n",
        "Your submission scored 0.76247, which is not an improvement of your best score. Keep trying!\n"
      ]
    },
    {
      "metadata": {
        "colab_type": "text",
        "id": "haSx19EUSbId"
      },
      "cell_type": "markdown",
      "source": [
        "## 5- Modelling\n",
        "\n",
        "1. Divide the test dataset into 3 Categories\n",
        "2. Remove numbers more than 3 Digits from the test dataset.\n",
        "3. Train + Predict.\n"
      ]
    },
    {
      "metadata": {
        "colab_type": "text",
        "id": "wnMVtuLnTUyg"
      },
      "cell_type": "markdown",
      "source": [
        "### 5.1 Divide the test dataset into 3 Categories"
      ]
    },
    {
      "metadata": {
        "colab_type": "code",
        "id": "70V6GmZGSeyO",
        "colab": {}
      },
      "cell_type": "code",
      "source": [
        "#add category col\n",
        "newTestCol = dftest.image_path.apply(lambda x: x.split('_')[0])\n",
        "dftest['newCat'] = newTestCol"
      ],
      "execution_count": 0,
      "outputs": []
    },
    {
      "metadata": {
        "colab_type": "code",
        "id": "bvq_8KSCTeD_",
        "colab": {
          "base_uri": "https://localhost:8080/",
          "height": 204
        },
        "outputId": "8fec9d85-f381-4916-ba74-2e435e90b4ce"
      },
      "cell_type": "code",
      "source": [
        "dftest.tail()"
      ],
      "execution_count": 64,
      "outputs": [
        {
          "output_type": "execute_result",
          "data": {
            "text/html": [
              "<div>\n",
              "<style scoped>\n",
              "    .dataframe tbody tr th:only-of-type {\n",
              "        vertical-align: middle;\n",
              "    }\n",
              "\n",
              "    .dataframe tbody tr th {\n",
              "        vertical-align: top;\n",
              "    }\n",
              "\n",
              "    .dataframe thead th {\n",
              "        text-align: right;\n",
              "    }\n",
              "</style>\n",
              "<table border=\"1\" class=\"dataframe\">\n",
              "  <thead>\n",
              "    <tr style=\"text-align: right;\">\n",
              "      <th></th>\n",
              "      <th>itemid</th>\n",
              "      <th>title</th>\n",
              "      <th>image_path</th>\n",
              "      <th>newCat</th>\n",
              "    </tr>\n",
              "  </thead>\n",
              "  <tbody>\n",
              "    <tr>\n",
              "      <th>172397</th>\n",
              "      <td>1781957365</td>\n",
              "      <td>nokia 5.1 plus ram 3gb 32gb garansi resmi 1 ta...</td>\n",
              "      <td>mobile_image/3dbd99b9d999d326d8ae57f7ad1f1b3e.jpg</td>\n",
              "      <td>mobile</td>\n",
              "    </tr>\n",
              "    <tr>\n",
              "      <th>172398</th>\n",
              "      <td>1839851276</td>\n",
              "      <td>big promo add whatshap 0821 9127 5399 iphone 7...</td>\n",
              "      <td>mobile_image/6d45e5c7e36ac897f58a9f72ff4bf0b8.jpg</td>\n",
              "      <td>mobile</td>\n",
              "    </tr>\n",
              "    <tr>\n",
              "      <th>172399</th>\n",
              "      <td>955369303</td>\n",
              "      <td>datang lagi sharp r1 ram 3gb 32gb gratis silic...</td>\n",
              "      <td>mobile_image/08f68bb1cc3f381364776ac5cfd9e45e.jpg</td>\n",
              "      <td>mobile</td>\n",
              "    </tr>\n",
              "    <tr>\n",
              "      <th>172400</th>\n",
              "      <td>1638035772</td>\n",
              "      <td>sony xperia z5 premium au ram 3gb rom 32gb sec...</td>\n",
              "      <td>mobile_image/1d0610ea0f43d75ecc3ff951f6c647d4.jpg</td>\n",
              "      <td>mobile</td>\n",
              "    </tr>\n",
              "    <tr>\n",
              "      <th>172401</th>\n",
              "      <td>1498091427</td>\n",
              "      <td>xiaomi mi 8 ram 6 128gb black</td>\n",
              "      <td>mobile_image/6649fa043a7b2eebda6ed904c966a14b.jpg</td>\n",
              "      <td>mobile</td>\n",
              "    </tr>\n",
              "  </tbody>\n",
              "</table>\n",
              "</div>"
            ],
            "text/plain": [
              "            itemid                                              title  \\\n",
              "172397  1781957365  nokia 5.1 plus ram 3gb 32gb garansi resmi 1 ta...   \n",
              "172398  1839851276  big promo add whatshap 0821 9127 5399 iphone 7...   \n",
              "172399   955369303  datang lagi sharp r1 ram 3gb 32gb gratis silic...   \n",
              "172400  1638035772  sony xperia z5 premium au ram 3gb rom 32gb sec...   \n",
              "172401  1498091427                      xiaomi mi 8 ram 6 128gb black   \n",
              "\n",
              "                                               image_path  newCat  \n",
              "172397  mobile_image/3dbd99b9d999d326d8ae57f7ad1f1b3e.jpg  mobile  \n",
              "172398  mobile_image/6d45e5c7e36ac897f58a9f72ff4bf0b8.jpg  mobile  \n",
              "172399  mobile_image/08f68bb1cc3f381364776ac5cfd9e45e.jpg  mobile  \n",
              "172400  mobile_image/1d0610ea0f43d75ecc3ff951f6c647d4.jpg  mobile  \n",
              "172401  mobile_image/6649fa043a7b2eebda6ed904c966a14b.jpg  mobile  "
            ]
          },
          "metadata": {
            "tags": []
          },
          "execution_count": 64
        }
      ]
    },
    {
      "metadata": {
        "colab_type": "code",
        "id": "ntxgP7EAWiXE",
        "colab": {
          "base_uri": "https://localhost:8080/",
          "height": 294
        },
        "outputId": "2304ab28-4cdf-4614-fc88-8d4db01dc224"
      },
      "cell_type": "code",
      "source": [
        "MobileTest = dftest[dftest['newCat'] == 'mobile']\n",
        "BeautyTest = dftest[dftest['newCat'] == 'beauty']\n",
        "FashionTest = dftest[dftest['newCat'] == 'fashion']\n",
        "\n",
        "fig, axt = plt.subplots(1,1)\n",
        "axt.bar(['beauty', 'fashion', 'mobile'], [len(BeautyTest), len(FashionTest), len(MobileTest)], width=0.5)\n"
      ],
      "execution_count": 65,
      "outputs": [
        {
          "output_type": "execute_result",
          "data": {
            "text/plain": [
              "<BarContainer object of 3 artists>"
            ]
          },
          "metadata": {
            "tags": []
          },
          "execution_count": 65
        },
        {
          "output_type": "display_data",
          "data": {
            "image/png": "[encoded data removed]",
            "text/plain": [
              "<Figure size 432x288 with 1 Axes>"
            ]
          },
          "metadata": {
            "tags": []
          }
        }
      ]
    },
    {
      "metadata": {
        "colab_type": "text",
        "id": "6sumGyDEdFCe"
      },
      "cell_type": "markdown",
      "source": [
        "### 5.3 Prediction Dataset"
      ]
    },
    {
      "metadata": {
        "colab_type": "code",
        "id": "KyRvw_4cdKCe",
        "colab": {}
      },
      "cell_type": "code",
      "source": [
        "B_X_test = BeautyTest.title\n",
        "F_X_test = FashionTest.title\n",
        "M_X_test = MobileTest.title"
      ],
      "execution_count": 0,
      "outputs": []
    },
    {
      "metadata": {
        "colab_type": "text",
        "id": "UdlKUH1Bdhyg"
      },
      "cell_type": "markdown",
      "source": [
        "### 5.4 Prediction Function"
      ]
    },
    {
      "metadata": {
        "id": "lcDC_xU_3SCj",
        "colab_type": "code",
        "colab": {}
      },
      "cell_type": "code",
      "source": [
        "def modelPredict(X_train, y_train, X_test, vect, \n",
        "                 clf=SGDClassifier(random_state=42,max_iter=5000, \n",
        "                                            tol=1e-3,loss='hinge')):\n",
        "    ''' Train a classifier using CV'''\n",
        "    #clf = SGDClassifier(random_state=random_state)\n",
        "    \n",
        "    X_train_dtm,X_test_dtm = tokenize_data(vect, X_train, X_test)\n",
        "    clf.fit(X_train_dtm, y_train)\n",
        "    y_pred = clf.predict(X_test_dtm)\n",
        "    return y_pred"
      ],
      "execution_count": 0,
      "outputs": []
    },
    {
      "metadata": {
        "id": "n1SIkf333SCk",
        "colab_type": "code",
        "colab": {}
      },
      "cell_type": "code",
      "source": [
        "B_y_pred = modelPredict(B_X_train, B_y_train, B_X_test, Bs_vect, clf=Bo_sgd)"
      ],
      "execution_count": 0,
      "outputs": []
    },
    {
      "metadata": {
        "id": "vyoSF-ox3SCn",
        "colab_type": "code",
        "colab": {}
      },
      "cell_type": "code",
      "source": [
        "F_y_pred = modelPredict(F_X_train, F_y_train, F_X_test, Fs_vect, clf=Fo_sgd)"
      ],
      "execution_count": 0,
      "outputs": []
    },
    {
      "metadata": {
        "id": "fNIBuPHT3SCp",
        "colab_type": "code",
        "colab": {}
      },
      "cell_type": "code",
      "source": [
        "M_y_pred = modelPredict(M_X_train, M_y_train, M_X_test, Ms_vect, clf=Mo_sgd)"
      ],
      "execution_count": 0,
      "outputs": []
    },
    {
      "metadata": {
        "colab_type": "text",
        "id": "swwqXL5sfgkR"
      },
      "cell_type": "markdown",
      "source": [
        "### 5.5 Run Prediction"
      ]
    },
    {
      "metadata": {
        "colab_type": "code",
        "id": "h8BuX46Vf-BF",
        "colab": {
          "base_uri": "https://localhost:8080/",
          "height": 323
        },
        "outputId": "e7863804-1012-428f-8b8b-b447132289bb"
      },
      "cell_type": "code",
      "source": [
        "BeautyTest['Category'] = B_y_pred\n",
        "FashionTest['Category'] = F_y_pred\n",
        "MobileTest['Category'] = M_y_pred\n"
      ],
      "execution_count": 71,
      "outputs": [
        {
          "output_type": "stream",
          "text": [
            "/usr/local/lib/python3.6/dist-packages/ipykernel_launcher.py:1: SettingWithCopyWarning: \n",
            "A value is trying to be set on a copy of a slice from a DataFrame.\n",
            "Try using .loc[row_indexer,col_indexer] = value instead\n",
            "\n",
            "See the caveats in the documentation: http://pandas.pydata.org/pandas-docs/stable/indexing.html#indexing-view-versus-copy\n",
            "  \"\"\"Entry point for launching an IPython kernel.\n",
            "/usr/local/lib/python3.6/dist-packages/ipykernel_launcher.py:2: SettingWithCopyWarning: \n",
            "A value is trying to be set on a copy of a slice from a DataFrame.\n",
            "Try using .loc[row_indexer,col_indexer] = value instead\n",
            "\n",
            "See the caveats in the documentation: http://pandas.pydata.org/pandas-docs/stable/indexing.html#indexing-view-versus-copy\n",
            "  \n",
            "/usr/local/lib/python3.6/dist-packages/ipykernel_launcher.py:3: SettingWithCopyWarning: \n",
            "A value is trying to be set on a copy of a slice from a DataFrame.\n",
            "Try using .loc[row_indexer,col_indexer] = value instead\n",
            "\n",
            "See the caveats in the documentation: http://pandas.pydata.org/pandas-docs/stable/indexing.html#indexing-view-versus-copy\n",
            "  This is separate from the ipykernel package so we can avoid doing imports until\n"
          ],
          "name": "stderr"
        }
      ]
    },
    {
      "metadata": {
        "colab_type": "text",
        "id": "2bNvhS8XjX3j"
      },
      "cell_type": "markdown",
      "source": [
        "## 6- Result"
      ]
    },
    {
      "metadata": {
        "colab_type": "code",
        "id": "tHGPfI54gQRa",
        "colab": {}
      },
      "cell_type": "code",
      "source": [
        "resDf = BeautyTest.append(FashionTest).append(MobileTest)\n"
      ],
      "execution_count": 0,
      "outputs": []
    },
    {
      "metadata": {
        "colab_type": "code",
        "id": "4SdtRA4pjQs7",
        "colab": {}
      },
      "cell_type": "code",
      "source": [
        "FinalResult = pd.concat([resDf['itemid'], resDf['Category']], axis=1, \n",
        "                        keys=['itemid', 'Category'])\n",
        "FinalResult.to_csv(path + '{}_NDSC_Res.csv'.format(datetime.datetime.today().strftime('%Y%m%d%H%M')\n",
        "                                                  ), index=False)"
      ],
      "execution_count": 0,
      "outputs": []
    },
    {
      "metadata": {
        "colab_type": "code",
        "id": "VGzSnqY6jrhG",
        "colab": {}
      },
      "cell_type": "code",
      "source": [
        ""
      ],
      "execution_count": 0,
      "outputs": []
    }
  ]
}