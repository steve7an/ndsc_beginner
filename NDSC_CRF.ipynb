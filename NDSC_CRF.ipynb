{
 "cells": [
  {
   "cell_type": "markdown",
   "metadata": {
    "colab_type": "text",
    "id": "Jztrs1XjL_B0"
   },
   "source": [
    "### Using LC CRF"
   ]
  },
  {
   "cell_type": "code",
   "execution_count": 1,
   "metadata": {
    "colab": {
     "base_uri": "https://localhost:8080/",
     "height": 34
    },
    "colab_type": "code",
    "id": "Np5AhCCfNbkX",
    "outputId": "a8442000-0fcb-4bec-c645-05f4d10a77c9"
   },
   "outputs": [
    {
     "name": "stdout",
     "output_type": "stream",
     "text": [
      "Default GPU Device: /device:GPU:0\n"
     ]
    }
   ],
   "source": [
    "import tensorflow as tf\n",
    "if tf.test.gpu_device_name():\n",
    "    print('Default GPU Device: {}'.format(tf.test.gpu_device_name()))\n",
    "else:\n",
    "    print(\"Please install GPU version of TF\")"
   ]
  },
  {
   "cell_type": "markdown",
   "metadata": {
    "colab_type": "text",
    "id": "wqneb_yvJsHZ"
   },
   "source": [
    "### 1- Importing libraries\n"
   ]
  },
  {
   "cell_type": "code",
   "execution_count": 30,
   "metadata": {
    "colab": {
     "base_uri": "https://localhost:8080/",
     "height": 34
    },
    "colab_type": "code",
    "id": "2AzbGGgyQlXc",
    "outputId": "be7f61da-c20e-4185-c3dd-21ec08152d5e"
   },
   "outputs": [
    {
     "name": "stdout",
     "output_type": "stream",
     "text": [
      "Requirement already satisfied: Sastrawi in /home/ndsc-user/anaconda3/envs/tf_gpu/lib/python3.6/site-packages (1.0.1)\r\n"
     ]
    }
   ],
   "source": [
    "!pip install Sastrawi"
   ]
  },
  {
   "cell_type": "code",
   "execution_count": 31,
   "metadata": {
    "colab": {
     "base_uri": "https://localhost:8080/",
     "height": 34
    },
    "colab_type": "code",
    "id": "AiA378o0emG3",
    "outputId": "74da2b1f-57e7-4b96-d6c5-2e20d1eabda4"
   },
   "outputs": [
    {
     "name": "stdout",
     "output_type": "stream",
     "text": [
      "Requirement already satisfied: python-crfsuite in /home/ndsc-user/anaconda3/envs/tf_gpu/lib/python3.6/site-packages (0.9.6)\r\n"
     ]
    }
   ],
   "source": [
    "!pip install python-crfsuite"
   ]
  },
  {
   "cell_type": "code",
   "execution_count": 32,
   "metadata": {},
   "outputs": [
    {
     "name": "stdout",
     "output_type": "stream",
     "text": [
      "Requirement already satisfied: wordcloud in /home/ndsc-user/anaconda3/envs/tf_gpu/lib/python3.6/site-packages (1.5.0)\r\n",
      "Requirement already satisfied: pillow in /home/ndsc-user/anaconda3/envs/tf_gpu/lib/python3.6/site-packages (from wordcloud) (5.4.1)\r\n",
      "Requirement already satisfied: numpy>=1.6.1 in /home/ndsc-user/anaconda3/envs/tf_gpu/lib/python3.6/site-packages (from wordcloud) (1.16.2)\r\n"
     ]
    }
   ],
   "source": [
    "!pip install wordcloud"
   ]
  },
  {
   "cell_type": "code",
   "execution_count": 33,
   "metadata": {
    "colab": {
     "base_uri": "https://localhost:8080/",
     "height": 51
    },
    "colab_type": "code",
    "id": "Knyl3IOjFl1p",
    "outputId": "ebbee92b-41cd-45ae-b5cc-b0f789a0bf1e"
   },
   "outputs": [
    {
     "name": "stderr",
     "output_type": "stream",
     "text": [
      "[nltk_data] Downloading package stopwords to /home/ndsc-\n",
      "[nltk_data]     user/nltk_data...\n",
      "[nltk_data]   Package stopwords is already up-to-date!\n"
     ]
    }
   ],
   "source": [
    "#Load all the needed libraries\n",
    "from sklearn.feature_extraction.text import CountVectorizer\n",
    "from sklearn.linear_model import SGDClassifier\n",
    "from sklearn.naive_bayes import MultinomialNB\n",
    "from sklearn import metrics\n",
    "from sklearn.linear_model import LogisticRegression\n",
    "from sklearn.multiclass import OneVsRestClassifier\n",
    "from sklearn.ensemble import RandomForestClassifier\n",
    "from sklearn.feature_extraction.text import TfidfVectorizer\n",
    "from sklearn import svm\n",
    "import seaborn as sns\n",
    "import pandas as pd\n",
    "import numpy as np\n",
    "import matplotlib.pyplot as plt\n",
    "from wordcloud import WordCloud\n",
    "import os\n",
    "import json\n",
    "from pprint import pprint\n",
    "from Sastrawi.StopWordRemover.StopWordRemoverFactory import StopWordRemoverFactory\n",
    "import nltk\n",
    "nltk.download('stopwords')\n",
    "from nltk.corpus import stopwords\n",
    "import datetime\n",
    "from sklearn.model_selection import StratifiedKFold\n",
    "from sklearn.base import clone\n",
    "from sklearn.linear_model import SGDClassifier\n",
    "import pycrfsuite\n",
    "\n",
    "%matplotlib inline"
   ]
  },
  {
   "cell_type": "code",
   "execution_count": 34,
   "metadata": {
    "colab": {},
    "colab_type": "code",
    "id": "9uhlq6Z3AEbg"
   },
   "outputs": [],
   "source": [
    "plt.style.use('seaborn-ticks')"
   ]
  },
  {
   "cell_type": "code",
   "execution_count": 35,
   "metadata": {
    "colab": {
     "base_uri": "https://localhost:8080/",
     "height": 54
    },
    "colab_type": "code",
    "id": "h76BVT_T8TBx",
    "outputId": "2c516156-af23-40eb-f44a-c97fd0027c2e"
   },
   "outputs": [],
   "source": [
    "#from google.colab import drive\n",
    "#drive.mount('/content/drive')"
   ]
  },
  {
   "cell_type": "markdown",
   "metadata": {
    "colab_type": "text",
    "id": "HrMAW2IJJ44P"
   },
   "source": [
    "## 2- Loading Train/test data"
   ]
  },
  {
   "cell_type": "code",
   "execution_count": 36,
   "metadata": {
    "colab": {},
    "colab_type": "code",
    "id": "qJ2wb-eG87FK"
   },
   "outputs": [],
   "source": [
    "#path = '/content/drive/My Drive/GitHub/nsdc_beginner/Data'\n",
    "\n",
    "path = './Data'\n",
    "dftrain = pd.read_csv(os.path.join(path, 'train.csv'))\n",
    "dftest = pd.read_csv(os.path.join(path, 'test.csv'))\n"
   ]
  },
  {
   "cell_type": "code",
   "execution_count": 37,
   "metadata": {
    "colab": {
     "base_uri": "https://localhost:8080/",
     "height": 1003
    },
    "colab_type": "code",
    "id": "5ipaogR0NblT",
    "outputId": "94953f8f-7ecb-400c-d68f-21427ac9dedc"
   },
   "outputs": [
    {
     "name": "stdout",
     "output_type": "stream",
     "text": [
      "{'Beauty': {'BB & CC Cream': 5,\n",
      "            'Blush On': 2,\n",
      "            'Bronzer': 11,\n",
      "            'Concealer': 7,\n",
      "            'Contour': 6,\n",
      "            'Face Palette': 0,\n",
      "            'Foundation': 1,\n",
      "            'Highlighter': 8,\n",
      "            'Lip Gloss': 14,\n",
      "            'Lip Liner': 15,\n",
      "            'Lip Tint': 13,\n",
      "            'Lipstick': 12,\n",
      "            'Other Face Cosmetics': 4,\n",
      "            'Other Lip Cosmetics': 16,\n",
      "            'Powder': 3,\n",
      "            'Primer': 9,\n",
      "            'Setting Spray': 10},\n",
      " 'Fashion': {'A Line Dress': 21,\n",
      "             'Big Size Dress': 24,\n",
      "             'Big Size Top': 30,\n",
      "             'Blouse': 26,\n",
      "             'Bodycon Dress': 22,\n",
      "             'Casual Dress': 18,\n",
      "             'Crop Top': 29,\n",
      "             'Maxi Dress': 20,\n",
      "             'Others': 17,\n",
      "             'Party Dress': 19,\n",
      "             'Shirt': 27,\n",
      "             'Tanktop': 28,\n",
      "             'Tshirt': 25,\n",
      "             'Wedding Dress': 23},\n",
      " 'Mobile': {'Advan': 45,\n",
      "            'Alcatel': 55,\n",
      "            'Asus': 43,\n",
      "            'Blackberry': 36,\n",
      "            'Brandcode': 39,\n",
      "            'Evercoss': 44,\n",
      "            'Honor': 54,\n",
      "            'Huawei': 47,\n",
      "            'Icherry': 52,\n",
      "            'Infinix': 40,\n",
      "            'Iphone': 31,\n",
      "            'Lenovo': 37,\n",
      "            'Maxtron': 56,\n",
      "            'Mito': 46,\n",
      "            'Motorola': 49,\n",
      "            'Nokia': 38,\n",
      "            'Oppo': 41,\n",
      "            'Others Mobile & Tablet': 35,\n",
      "            'Realme': 51,\n",
      "            'SPC': 57,\n",
      "            'Samsung': 32,\n",
      "            'Sharp': 48,\n",
      "            'Smartfren': 53,\n",
      "            'Sony': 33,\n",
      "            'Strawberry': 50,\n",
      "            'Vivo': 42,\n",
      "            'Xiaomi': 34}}\n"
     ]
    }
   ],
   "source": [
    "with open(os.path.join(path,'categories.json')) as f:\n",
    "    categories = json.load(f)\n",
    "\n",
    "pprint(categories)"
   ]
  },
  {
   "cell_type": "markdown",
   "metadata": {
    "colab_type": "text",
    "id": "PYHUhcn9SnC8"
   },
   "source": [
    "Swap the key and value"
   ]
  },
  {
   "cell_type": "code",
   "execution_count": 38,
   "metadata": {
    "colab": {
     "base_uri": "https://localhost:8080/",
     "height": 255
    },
    "colab_type": "code",
    "id": "H2-Mje0ISuOg",
    "outputId": "684443ec-0259-434a-c13b-bedf9339e84a"
   },
   "outputs": [
    {
     "data": {
      "text/plain": [
       "{23: 'Wedding Dress',\n",
       " 27: 'Shirt',\n",
       " 18: 'Casual Dress',\n",
       " 20: 'Maxi Dress',\n",
       " 24: 'Big Size Dress',\n",
       " 22: 'Bodycon Dress',\n",
       " 19: 'Party Dress',\n",
       " 26: 'Blouse',\n",
       " 25: 'Tshirt',\n",
       " 29: 'Crop Top',\n",
       " 28: 'Tanktop',\n",
       " 17: 'Others',\n",
       " 21: 'A Line Dress',\n",
       " 30: 'Big Size Top'}"
      ]
     },
     "execution_count": 38,
     "metadata": {},
     "output_type": "execute_result"
    }
   ],
   "source": [
    "F_cat_dict = dict((v,k.strip()) for k,v in categories['Fashion'].items())\n",
    "F_cat_dict"
   ]
  },
  {
   "cell_type": "markdown",
   "metadata": {
    "colab_type": "text",
    "id": "uCDKIHFJKfGW"
   },
   "source": [
    "## 3- Feature Engineering"
   ]
  },
  {
   "cell_type": "markdown",
   "metadata": {
    "colab_type": "text",
    "id": "uMAZArjwKBmt"
   },
   "source": [
    "### 3.1 Divide the training data into Big categories containers (Beauty/Fashion/Mobile)"
   ]
  },
  {
   "cell_type": "code",
   "execution_count": 39,
   "metadata": {
    "colab": {},
    "colab_type": "code",
    "id": "cbPM_2lX9KeC"
   },
   "outputs": [],
   "source": [
    "# 1. add a new col that contins the big category (beauty, fashion, mobile)\n",
    "\n",
    "newCol = dftrain.image_path.apply(lambda x : x.split('_')[0])\n",
    "dftrain['mainCat'] = newCol\n",
    "# dftrain.head()"
   ]
  },
  {
   "cell_type": "markdown",
   "metadata": {
    "colab_type": "text",
    "id": "ZnpwLkwQNbl1"
   },
   "source": [
    "Check for unique values"
   ]
  },
  {
   "cell_type": "code",
   "execution_count": 40,
   "metadata": {
    "colab": {
     "base_uri": "https://localhost:8080/",
     "height": 34
    },
    "colab_type": "code",
    "id": "-darfSXJNbl5",
    "outputId": "549a9a82-5e00-415d-e39a-2f7ce84004e7"
   },
   "outputs": [
    {
     "data": {
      "text/plain": [
       "{'beauty', 'fashion', 'mobile'}"
      ]
     },
     "execution_count": 40,
     "metadata": {},
     "output_type": "execute_result"
    }
   ],
   "source": [
    "set(dftrain['mainCat'])"
   ]
  },
  {
   "cell_type": "markdown",
   "metadata": {
    "colab_type": "text",
    "id": "cwHS6FuAKRd2"
   },
   "source": [
    "### 3.2 Display the total number of samples under each category"
   ]
  },
  {
   "cell_type": "code",
   "execution_count": 41,
   "metadata": {
    "colab": {},
    "colab_type": "code",
    "id": "LN2eHDj49xcE"
   },
   "outputs": [],
   "source": [
    "Beautydf= dftrain[dftrain['mainCat'] == 'beauty']\n",
    "Fashiondf= dftrain[dftrain['mainCat'] == 'fashion']\n",
    "Mobiledf= dftrain[dftrain['mainCat'] == 'mobile']"
   ]
  },
  {
   "cell_type": "markdown",
   "metadata": {
    "colab_type": "text",
    "id": "XKBIlRuYLCvw"
   },
   "source": [
    "### 3.3 Randomize the train-dataset\n",
    "\n",
    "To avoid bias in the training dataset, it is a good practice"
   ]
  },
  {
   "cell_type": "code",
   "execution_count": 42,
   "metadata": {
    "colab": {},
    "colab_type": "code",
    "id": "-E7rZ5DABFv1"
   },
   "outputs": [],
   "source": [
    "# randomize datasets\n",
    "\n",
    "Beautydf = Beautydf.reindex(np.random.permutation(Beautydf.index))\n",
    "Fashiondf = Fashiondf.reindex(np.random.permutation(Fashiondf.index))\n",
    "Mobiledf = Mobiledf.reindex(np.random.permutation(Mobiledf.index))"
   ]
  },
  {
   "cell_type": "markdown",
   "metadata": {
    "colab_type": "text",
    "id": "Y_wvv61oLR9d"
   },
   "source": [
    "### 3.4 Remove any number with more than 3 digits in the dataset\n",
    "\n",
    "For example : `02854323232` which could be an id or something\n"
   ]
  },
  {
   "cell_type": "code",
   "execution_count": 43,
   "metadata": {
    "colab": {
     "base_uri": "https://localhost:8080/",
     "height": 1071
    },
    "colab_type": "code",
    "id": "Omco1mHbA0ay",
    "outputId": "5e0f837b-f8d1-4e30-ada0-6fc07dd62de2"
   },
   "outputs": [
    {
     "data": {
      "text/plain": [
       "580357                                    iphone 4 32gb gsm\n",
       "589884    ao slim silicone matte soft samsung j7 pro j5 ...\n",
       "636381    promo spesial asus zenfone max pro 3g 32gb wa ...\n",
       "540972                           oppo f7 128gb diamon black\n",
       "527302                                     iphone 6s  gb bm\n",
       "515918    advan hammer hape senter camera 5 mp duos sim ...\n",
       "666208    clear view standing cover samsung galaxy s8 or...\n",
       "631205    promo beli 2 gratis 1 iphone x 256gb asli orig...\n",
       "635596    stok terbatas samsung galaxy note9 128gb midni...\n",
       "559384                                             oppo a39\n",
       "522029    promo gajian seru 26 28 seb ready stock terbar...\n",
       "546678    promo nokia  dual sim black garansi resmi term...\n",
       "613828          resmi tam redmi 4a prime 32gb grey new bnib\n",
       "621560                                         iphone 6  gb\n",
       "529546    beli 2 dapat 3 dell vostro 14  notebook hitam ...\n",
       "664474                                   iphone x 64gb gray\n",
       "515821     big ramadhan sale beli limited dijual oppo f5...\n",
       "629398                                  iphone 5s 32gb gold\n",
       "656292    promo thr beli 2 gratis 1  original airpods ai...\n",
       "592718                                  iphone 8 plus 256gb\n",
       "552187    promo terbaru anica a9 lucu ponsel murah terku...\n",
       "581526                       lenovo a2010 4g ram 1 gb rom 8\n",
       "562212                               samsung galaxy a8 star\n",
       "640252                                 hp docomo regza t01d\n",
       "577786    ready xiaomi mi 5 black ram 4gb rom 6128gb gar...\n",
       "521593    xiaomi mi 5 mi5 3 64 gold baru new grs distrib...\n",
       "581047                     promo toko iphone 6s plus 6splus\n",
       "594064                                      nokia  dual sim\n",
       "543707                                       iphone 6s gold\n",
       "610076    stock samsung galaxy note 8 6gb 64gb like new ...\n",
       "                                ...                        \n",
       "619640     samsung galaxy note 8 masih garansi sein 4 bulan\n",
       "508141                                        xiaomi note 5\n",
       "509353                                  xiaomi pocophone f1\n",
       "521502    oppo a37 16gb bisa kredit praktis proses cepat...\n",
       "507772    big sale beli 2 bonus 1 samsung s7 flat 32gb g...\n",
       "635128              hp android tv murah chat my via wa .tks\n",
       "602080                                              oppo f5\n",
       "517534        big promo cuci gudang awal tahun xiaomi mi a1\n",
       "584526                     iphone 5s silver 64gb second ori\n",
       "622489    termurah kabel cable data ori  lightning iphon...\n",
       "574908                   haier g7 dc limited edition series\n",
       "581538               big promo second samsung s7 edge 128gb\n",
       "584799    promo murah beli 1 dapat kamera canon 1300d ki...\n",
       "618298    minat chat kami di wa    big sale spesial rham...\n",
       "656870                                   iphone 6 gold 64gb\n",
       "654143    promo cuci gudang beli 2 gratis 1 chat wa  xiaomi\n",
       "656223    wa    promo penghabisan stock beli 2 gratis 1 ...\n",
       "583202            special sandisk 32gb microsd 98mbps hitam\n",
       "620364    promo khusus bulan suci ramadan new hot iphone...\n",
       "514969                                  iphone 7 32gb black\n",
       "661583                               nokia  4g ta 1059ds hk\n",
       "626541                     promo terbaru iphone 6 16gb gold\n",
       "603920    promo himax h classic ram 2 rom 16 garansi res...\n",
       "606983    khusus hari ini beli 1 gratis coocaa 40e2a22g ...\n",
       "549524                                   iphone 5 64gb grey\n",
       "632495            samsung galaxy c9 pro black garansi resmi\n",
       "555924                            sony z2 big mulus ram 3gb\n",
       "630195    promo samsung galaxy tab 3v white garansi resm...\n",
       "551647    promo hubungi  nokia x2 00 original garansi 1 ...\n",
       "651705    big promo cuci gudang  untuk menyambut tahun b...\n",
       "Name: title, Length: 160330, dtype: object"
      ]
     },
     "execution_count": 43,
     "metadata": {},
     "output_type": "execute_result"
    }
   ],
   "source": [
    "# Remove any number in the dataset with more than or equal to 3 digits. \n",
    "\n",
    "Beautydf.title.replace(r'\\b[0-9]{3,}\\b', '', regex=True)\n",
    "Fashiondf.title.replace(r'\\b[0-9]{3,}\\b', '', regex=True)\n",
    "Mobiledf.title.replace(r'\\b[0-9]{3,}\\b', '', regex=True)"
   ]
  },
  {
   "cell_type": "code",
   "execution_count": 44,
   "metadata": {
    "colab": {},
    "colab_type": "code",
    "id": "1qYlNXNTBVnN"
   },
   "outputs": [],
   "source": [
    "### 3.5 Doing further analysis on the Fashion category"
   ]
  },
  {
   "cell_type": "code",
   "execution_count": 45,
   "metadata": {
    "colab": {
     "base_uri": "https://localhost:8080/",
     "height": 272
    },
    "colab_type": "code",
    "id": "Yt7pTgEENboM",
    "outputId": "71648ae3-9065-4824-9398-29fd6809034f"
   },
   "outputs": [
    {
     "data": {
      "text/plain": [
       "18    56598\n",
       "25    33922\n",
       "26    33845\n",
       "20    19978\n",
       "27    16199\n",
       "22    15225\n",
       "19    13493\n",
       "21    10483\n",
       "28     6493\n",
       "24     4251\n",
       "29     3338\n",
       "17     2765\n",
       "23     1671\n",
       "30     1441\n",
       "Name: Category, dtype: int64"
      ]
     },
     "execution_count": 45,
     "metadata": {},
     "output_type": "execute_result"
    }
   ],
   "source": [
    "Fashiondf['Category'].value_counts()"
   ]
  },
  {
   "cell_type": "code",
   "execution_count": 46,
   "metadata": {
    "colab": {
     "base_uri": "https://localhost:8080/",
     "height": 279
    },
    "colab_type": "code",
    "id": "BU4di_HjNboX",
    "outputId": "4591506b-f1e1-4f75-84ef-acdbcbce60dc"
   },
   "outputs": [
    {
     "data": {
      "image/png": "[encoded data removed]",
      "text/plain": [
       "<Figure size 432x288 with 1 Axes>"
      ]
     },
     "metadata": {},
     "output_type": "display_data"
    }
   ],
   "source": [
    "Fashiondf['Category'].value_counts().plot(kind='bar');"
   ]
  },
  {
   "cell_type": "markdown",
   "metadata": {
    "colab_type": "text",
    "id": "UkqjCd92Nboh"
   },
   "source": [
    "### 4.0 Starting with LC CRF"
   ]
  },
  {
   "cell_type": "code",
   "execution_count": 47,
   "metadata": {
    "colab": {},
    "colab_type": "code",
    "id": "GtmsYDEtTS74"
   },
   "outputs": [],
   "source": [
    "F_18_df = Fashiondf[Fashiondf['Category']==18]\n",
    "F_18_data = tuple(zip(F_18_df.title, F_18_df.Category))"
   ]
  },
  {
   "cell_type": "code",
   "execution_count": 48,
   "metadata": {
    "colab": {
     "base_uri": "https://localhost:8080/",
     "height": 221
    },
    "colab_type": "code",
    "id": "0dAqrxLBVpUx",
    "outputId": "e18d201c-dde9-45b1-af6d-0b0532efd7a7"
   },
   "outputs": [
    {
     "data": {
      "text/html": [
       "<div>\n",
       "<style scoped>\n",
       "    .dataframe tbody tr th:only-of-type {\n",
       "        vertical-align: middle;\n",
       "    }\n",
       "\n",
       "    .dataframe tbody tr th {\n",
       "        vertical-align: top;\n",
       "    }\n",
       "\n",
       "    .dataframe thead th {\n",
       "        text-align: right;\n",
       "    }\n",
       "</style>\n",
       "<table border=\"1\" class=\"dataframe\">\n",
       "  <thead>\n",
       "    <tr style=\"text-align: right;\">\n",
       "      <th></th>\n",
       "      <th>itemid</th>\n",
       "      <th>title</th>\n",
       "      <th>Category</th>\n",
       "      <th>image_path</th>\n",
       "      <th>mainCat</th>\n",
       "    </tr>\n",
       "  </thead>\n",
       "  <tbody>\n",
       "    <tr>\n",
       "      <th>397722</th>\n",
       "      <td>1685070620</td>\n",
       "      <td>dress sexy model deep v neck warna polos bahan...</td>\n",
       "      <td>18</td>\n",
       "      <td>fashion_image/c2b23fa478645dc3ed67ac124c741203</td>\n",
       "      <td>fashion</td>\n",
       "    </tr>\n",
       "    <tr>\n",
       "      <th>386465</th>\n",
       "      <td>1483509789</td>\n",
       "      <td>dress fit and flare motif print bunga bahan la...</td>\n",
       "      <td>18</td>\n",
       "      <td>fashion_image/50ff780cb5ded54b08cd1593d80a1ba3</td>\n",
       "      <td>fashion</td>\n",
       "    </tr>\n",
       "    <tr>\n",
       "      <th>322351</th>\n",
       "      <td>1635374027</td>\n",
       "      <td>lapangan gas panjang selutut rok sweater jahit...</td>\n",
       "      <td>18</td>\n",
       "      <td>fashion_image/e2e098f687826ac533f1d36492170b95</td>\n",
       "      <td>fashion</td>\n",
       "    </tr>\n",
       "    <tr>\n",
       "      <th>292496</th>\n",
       "      <td>1600415573</td>\n",
       "      <td>gogo dress mini lengan panjang model off shoul...</td>\n",
       "      <td>18</td>\n",
       "      <td>fashion_image/bd4c42e87c2194d75801ad07f69eb39c</td>\n",
       "      <td>fashion</td>\n",
       "    </tr>\n",
       "    <tr>\n",
       "      <th>304564</th>\n",
       "      <td>416590369</td>\n",
       "      <td>hcl dress wanita eliva brukat minidress pesta</td>\n",
       "      <td>18</td>\n",
       "      <td>fashion_image/204128113025fda29a34186deccc1a02</td>\n",
       "      <td>fashion</td>\n",
       "    </tr>\n",
       "  </tbody>\n",
       "</table>\n",
       "</div>"
      ],
      "text/plain": [
       "            itemid                                              title  \\\n",
       "397722  1685070620  dress sexy model deep v neck warna polos bahan...   \n",
       "386465  1483509789  dress fit and flare motif print bunga bahan la...   \n",
       "322351  1635374027  lapangan gas panjang selutut rok sweater jahit...   \n",
       "292496  1600415573  gogo dress mini lengan panjang model off shoul...   \n",
       "304564   416590369      hcl dress wanita eliva brukat minidress pesta   \n",
       "\n",
       "        Category                                      image_path  mainCat  \n",
       "397722        18  fashion_image/c2b23fa478645dc3ed67ac124c741203  fashion  \n",
       "386465        18  fashion_image/50ff780cb5ded54b08cd1593d80a1ba3  fashion  \n",
       "322351        18  fashion_image/e2e098f687826ac533f1d36492170b95  fashion  \n",
       "292496        18  fashion_image/bd4c42e87c2194d75801ad07f69eb39c  fashion  \n",
       "304564        18  fashion_image/204128113025fda29a34186deccc1a02  fashion  "
      ]
     },
     "execution_count": 48,
     "metadata": {},
     "output_type": "execute_result"
    }
   ],
   "source": [
    "F_18_df.head()"
   ]
  },
  {
   "cell_type": "code",
   "execution_count": 49,
   "metadata": {
    "colab": {
     "base_uri": "https://localhost:8080/",
     "height": 170
    },
    "colab_type": "code",
    "id": "NVv0Lwp-V9Fg",
    "outputId": "1c19e1a8-5cd9-4aff-cb82-28941e44aecd"
   },
   "outputs": [
    {
     "data": {
      "text/plain": [
       "(('dress sexy model deep v neck warna polos bahan lace untuk wanita', 18),\n",
       " ('dress fit and flare motif print bunga bahan lace warna putih susu', 18),\n",
       " ('lapangan gas panjang selutut rok sweater jahitan renda pinggang rajut gaun untuk',\n",
       "  18),\n",
       " ('gogo dress mini lengan panjang model off shoulder longgar dengan kancing untuk wanita',\n",
       "  18),\n",
       " ('hcl dress wanita eliva brukat minidress pesta', 18))"
      ]
     },
     "execution_count": 49,
     "metadata": {},
     "output_type": "execute_result"
    }
   ],
   "source": [
    "F_18_data[0:5]"
   ]
  },
  {
   "cell_type": "markdown",
   "metadata": {
    "colab_type": "text",
    "id": "jgKXrn-64mbk"
   },
   "source": [
    "#### 4.1 Using FLAIR"
   ]
  },
  {
   "cell_type": "code",
   "execution_count": 50,
   "metadata": {
    "colab": {
     "base_uri": "https://localhost:8080/",
     "height": 751
    },
    "colab_type": "code",
    "id": "YvdrzFWi4rKH",
    "outputId": "9119da71-237f-4adb-8898-afd6e515dea0"
   },
   "outputs": [
    {
     "name": "stdout",
     "output_type": "stream",
     "text": [
      "Requirement already satisfied: flair in /home/ndsc-user/anaconda3/envs/tf_gpu/lib/python3.6/site-packages (0.4.1)\n",
      "Requirement already satisfied: matplotlib>=2.2.3 in /home/ndsc-user/anaconda3/envs/tf_gpu/lib/python3.6/site-packages (from flair) (2.2.3)\n",
      "Requirement already satisfied: mpld3>=0.3 in /home/ndsc-user/anaconda3/envs/tf_gpu/lib/python3.6/site-packages (from flair) (0.3)\n",
      "Requirement already satisfied: deprecated>=1.2.4 in /home/ndsc-user/anaconda3/envs/tf_gpu/lib/python3.6/site-packages (from flair) (1.2.5)\n",
      "Requirement already satisfied: sqlitedict>=1.6.0 in /home/ndsc-user/anaconda3/envs/tf_gpu/lib/python3.6/site-packages (from flair) (1.6.0)\n",
      "Requirement already satisfied: torch>=1.0.0 in /home/ndsc-user/anaconda3/envs/tf_gpu/lib/python3.6/site-packages (from flair) (1.0.1.post2)\n",
      "Requirement already satisfied: tqdm>=4.26.0 in /home/ndsc-user/anaconda3/envs/tf_gpu/lib/python3.6/site-packages (from flair) (4.31.1)\n",
      "Requirement already satisfied: gensim>=3.4.0 in /home/ndsc-user/anaconda3/envs/tf_gpu/lib/python3.6/site-packages (from flair) (3.7.1)\n",
      "Requirement already satisfied: segtok>=1.5.7 in /home/ndsc-user/anaconda3/envs/tf_gpu/lib/python3.6/site-packages (from flair) (1.5.7)\n",
      "Requirement already satisfied: sklearn in /home/ndsc-user/anaconda3/envs/tf_gpu/lib/python3.6/site-packages (from flair) (0.0)\n",
      "Requirement already satisfied: hyperopt>=0.1.1 in /home/ndsc-user/anaconda3/envs/tf_gpu/lib/python3.6/site-packages (from flair) (0.1.2)\n",
      "Requirement already satisfied: bpemb>=0.2.9 in /home/ndsc-user/anaconda3/envs/tf_gpu/lib/python3.6/site-packages (from flair) (0.2.11)\n",
      "Requirement already satisfied: pytorch-pretrained-bert>=0.6.1 in /home/ndsc-user/anaconda3/envs/tf_gpu/lib/python3.6/site-packages (from flair) (0.6.1)\n",
      "Requirement already satisfied: regex==2018.1.10 in /home/ndsc-user/anaconda3/envs/tf_gpu/lib/python3.6/site-packages (from flair) (2018.1.10)\n",
      "Requirement already satisfied: pyparsing!=2.0.4,!=2.1.2,!=2.1.6,>=2.0.1 in /home/ndsc-user/anaconda3/envs/tf_gpu/lib/python3.6/site-packages (from matplotlib>=2.2.3->flair) (2.3.1)\n",
      "Requirement already satisfied: six>=1.10 in /home/ndsc-user/anaconda3/envs/tf_gpu/lib/python3.6/site-packages (from matplotlib>=2.2.3->flair) (1.12.0)\n",
      "Requirement already satisfied: kiwisolver>=1.0.1 in /home/ndsc-user/anaconda3/envs/tf_gpu/lib/python3.6/site-packages (from matplotlib>=2.2.3->flair) (1.0.1)\n",
      "Requirement already satisfied: numpy>=1.7.1 in /home/ndsc-user/anaconda3/envs/tf_gpu/lib/python3.6/site-packages (from matplotlib>=2.2.3->flair) (1.16.2)\n",
      "Requirement already satisfied: cycler>=0.10 in /home/ndsc-user/anaconda3/envs/tf_gpu/lib/python3.6/site-packages (from matplotlib>=2.2.3->flair) (0.10.0)\n",
      "Requirement already satisfied: python-dateutil>=2.1 in /home/ndsc-user/anaconda3/envs/tf_gpu/lib/python3.6/site-packages (from matplotlib>=2.2.3->flair) (2.8.0)\n",
      "Requirement already satisfied: pytz in /home/ndsc-user/anaconda3/envs/tf_gpu/lib/python3.6/site-packages (from matplotlib>=2.2.3->flair) (2017.3)\n",
      "Requirement already satisfied: wrapt<2,>=1 in /home/ndsc-user/anaconda3/envs/tf_gpu/lib/python3.6/site-packages (from deprecated>=1.2.4->flair) (1.10.11)\n",
      "Requirement already satisfied: scipy>=0.18.1 in /home/ndsc-user/anaconda3/envs/tf_gpu/lib/python3.6/site-packages (from gensim>=3.4.0->flair) (1.2.1)\n",
      "Requirement already satisfied: smart-open>=1.7.0 in /home/ndsc-user/anaconda3/envs/tf_gpu/lib/python3.6/site-packages (from gensim>=3.4.0->flair) (1.8.0)\n",
      "Requirement already satisfied: scikit-learn in /home/ndsc-user/anaconda3/envs/tf_gpu/lib/python3.6/site-packages (from sklearn->flair) (0.20.3)\n",
      "Requirement already satisfied: networkx in /home/ndsc-user/anaconda3/envs/tf_gpu/lib/python3.6/site-packages (from hyperopt>=0.1.1->flair) (2.2)\n",
      "Requirement already satisfied: future in /home/ndsc-user/anaconda3/envs/tf_gpu/lib/python3.6/site-packages (from hyperopt>=0.1.1->flair) (0.17.1)\n",
      "Requirement already satisfied: pymongo in /home/ndsc-user/anaconda3/envs/tf_gpu/lib/python3.6/site-packages (from hyperopt>=0.1.1->flair) (3.7.2)\n",
      "Requirement already satisfied: sentencepiece in /home/ndsc-user/anaconda3/envs/tf_gpu/lib/python3.6/site-packages (from bpemb>=0.2.9->flair) (0.1.8)\n",
      "Requirement already satisfied: requests in /home/ndsc-user/anaconda3/envs/tf_gpu/lib/python3.6/site-packages (from bpemb>=0.2.9->flair) (2.21.0)\n",
      "Requirement already satisfied: boto3 in /home/ndsc-user/anaconda3/envs/tf_gpu/lib/python3.6/site-packages (from pytorch-pretrained-bert>=0.6.1->flair) (1.9.115)\n",
      "Requirement already satisfied: setuptools in /home/ndsc-user/anaconda3/envs/tf_gpu/lib/python3.6/site-packages (from kiwisolver>=1.0.1->matplotlib>=2.2.3->flair) (40.8.0)\n",
      "Requirement already satisfied: bz2file in /home/ndsc-user/anaconda3/envs/tf_gpu/lib/python3.6/site-packages (from smart-open>=1.7.0->gensim>=3.4.0->flair) (0.98)\n",
      "Requirement already satisfied: boto>=2.32 in /home/ndsc-user/anaconda3/envs/tf_gpu/lib/python3.6/site-packages (from smart-open>=1.7.0->gensim>=3.4.0->flair) (2.49.0)\n",
      "Requirement already satisfied: decorator>=4.3.0 in /home/ndsc-user/anaconda3/envs/tf_gpu/lib/python3.6/site-packages (from networkx->hyperopt>=0.1.1->flair) (4.3.2)\n",
      "Requirement already satisfied: urllib3<1.25,>=1.21.1 in /home/ndsc-user/anaconda3/envs/tf_gpu/lib/python3.6/site-packages (from requests->bpemb>=0.2.9->flair) (1.24.1)\n",
      "Requirement already satisfied: idna<2.9,>=2.5 in /home/ndsc-user/anaconda3/envs/tf_gpu/lib/python3.6/site-packages (from requests->bpemb>=0.2.9->flair) (2.8)\n",
      "Requirement already satisfied: chardet<3.1.0,>=3.0.2 in /home/ndsc-user/anaconda3/envs/tf_gpu/lib/python3.6/site-packages (from requests->bpemb>=0.2.9->flair) (3.0.4)\n",
      "Requirement already satisfied: certifi>=2017.4.17 in /home/ndsc-user/anaconda3/envs/tf_gpu/lib/python3.6/site-packages (from requests->bpemb>=0.2.9->flair) (2018.11.29)\n",
      "Requirement already satisfied: botocore<1.13.0,>=1.12.115 in /home/ndsc-user/anaconda3/envs/tf_gpu/lib/python3.6/site-packages (from boto3->pytorch-pretrained-bert>=0.6.1->flair) (1.12.115)\n",
      "Requirement already satisfied: jmespath<1.0.0,>=0.7.1 in /home/ndsc-user/anaconda3/envs/tf_gpu/lib/python3.6/site-packages (from boto3->pytorch-pretrained-bert>=0.6.1->flair) (0.9.4)\n",
      "Requirement already satisfied: s3transfer<0.3.0,>=0.2.0 in /home/ndsc-user/anaconda3/envs/tf_gpu/lib/python3.6/site-packages (from boto3->pytorch-pretrained-bert>=0.6.1->flair) (0.2.0)\n",
      "Requirement already satisfied: docutils>=0.10 in /home/ndsc-user/anaconda3/envs/tf_gpu/lib/python3.6/site-packages (from botocore<1.13.0,>=1.12.115->boto3->pytorch-pretrained-bert>=0.6.1->flair) (0.14)\n"
     ]
    }
   ],
   "source": [
    "!pip install flair"
   ]
  },
  {
   "cell_type": "code",
   "execution_count": 51,
   "metadata": {
    "colab": {
     "base_uri": "https://localhost:8080/",
     "height": 1023
    },
    "colab_type": "code",
    "id": "wtwbCZK95EAS",
    "outputId": "b9699b9c-1b81-43d0-dbb6-97e083fa5d5b"
   },
   "outputs": [
    {
     "name": "stdout",
     "output_type": "stream",
     "text": [
      "Collecting apex\n",
      "Requirement already satisfied: zope.sqlalchemy in /home/ndsc-user/anaconda3/envs/tf_gpu/lib/python3.6/site-packages (from apex) (1.1)\n",
      "Collecting cryptacular (from apex)\n",
      "  Using cached https://files.pythonhosted.org/packages/73/bd/714b3fbfb3392d6b4e658638d9b74f77ce1072725209c08a6becd90836a7/cryptacular-1.4.1.tar.gz\n",
      "Requirement already satisfied: pyramid-mailer in /home/ndsc-user/anaconda3/envs/tf_gpu/lib/python3.6/site-packages (from apex) (0.15.1)\n",
      "Requirement already satisfied: velruse>=1.0.3 in /home/ndsc-user/anaconda3/envs/tf_gpu/lib/python3.6/site-packages (from apex) (1.1.1)\n",
      "Requirement already satisfied: wtforms in /home/ndsc-user/anaconda3/envs/tf_gpu/lib/python3.6/site-packages (from apex) (2.2.1)\n",
      "Requirement already satisfied: wtforms-recaptcha in /home/ndsc-user/anaconda3/envs/tf_gpu/lib/python3.6/site-packages (from apex) (0.3.2)\n",
      "Requirement already satisfied: requests in /home/ndsc-user/anaconda3/envs/tf_gpu/lib/python3.6/site-packages (from apex) (2.21.0)\n",
      "Requirement already satisfied: pyramid>1.1.2 in /home/ndsc-user/anaconda3/envs/tf_gpu/lib/python3.6/site-packages (from apex) (1.10.2)\n",
      "Requirement already satisfied: zope.interface>=3.6.0 in /home/ndsc-user/anaconda3/envs/tf_gpu/lib/python3.6/site-packages (from zope.sqlalchemy->apex) (4.6.0)\n",
      "Requirement already satisfied: SQLAlchemy>=0.5.1 in /home/ndsc-user/anaconda3/envs/tf_gpu/lib/python3.6/site-packages (from zope.sqlalchemy->apex) (1.3.1)\n",
      "Requirement already satisfied: setuptools in /home/ndsc-user/anaconda3/envs/tf_gpu/lib/python3.6/site-packages (from zope.sqlalchemy->apex) (40.8.0)\n",
      "Requirement already satisfied: transaction>=1.6.0 in /home/ndsc-user/anaconda3/envs/tf_gpu/lib/python3.6/site-packages (from zope.sqlalchemy->apex) (2.4.0)\n",
      "Requirement already satisfied: pbkdf2 in /home/ndsc-user/anaconda3/envs/tf_gpu/lib/python3.6/site-packages (from cryptacular->apex) (1.3)\n",
      "Requirement already satisfied: repoze.sendmail>=4.1 in /home/ndsc-user/anaconda3/envs/tf_gpu/lib/python3.6/site-packages (from pyramid-mailer->apex) (4.4.1)\n",
      "Requirement already satisfied: requests-oauthlib in /home/ndsc-user/anaconda3/envs/tf_gpu/lib/python3.6/site-packages (from velruse>=1.0.3->apex) (1.2.0)\n",
      "Requirement already satisfied: python3-openid in /home/ndsc-user/anaconda3/envs/tf_gpu/lib/python3.6/site-packages (from velruse>=1.0.3->apex) (3.1.0)\n",
      "Requirement already satisfied: anykeystore in /home/ndsc-user/anaconda3/envs/tf_gpu/lib/python3.6/site-packages (from velruse>=1.0.3->apex) (0.2)\n",
      "Requirement already satisfied: urllib3<1.25,>=1.21.1 in /home/ndsc-user/anaconda3/envs/tf_gpu/lib/python3.6/site-packages (from requests->apex) (1.24.1)\n",
      "Requirement already satisfied: idna<2.9,>=2.5 in /home/ndsc-user/anaconda3/envs/tf_gpu/lib/python3.6/site-packages (from requests->apex) (2.8)\n",
      "Requirement already satisfied: chardet<3.1.0,>=3.0.2 in /home/ndsc-user/anaconda3/envs/tf_gpu/lib/python3.6/site-packages (from requests->apex) (3.0.4)\n",
      "Requirement already satisfied: certifi>=2017.4.17 in /home/ndsc-user/anaconda3/envs/tf_gpu/lib/python3.6/site-packages (from requests->apex) (2018.11.29)\n",
      "Requirement already satisfied: zope.deprecation>=3.5.0 in /home/ndsc-user/anaconda3/envs/tf_gpu/lib/python3.6/site-packages (from pyramid>1.1.2->apex) (4.4.0)\n",
      "Requirement already satisfied: hupper in /home/ndsc-user/anaconda3/envs/tf_gpu/lib/python3.6/site-packages (from pyramid>1.1.2->apex) (1.6.1)\n",
      "Requirement already satisfied: venusian>=1.0 in /home/ndsc-user/anaconda3/envs/tf_gpu/lib/python3.6/site-packages (from pyramid>1.1.2->apex) (1.2.0)\n",
      "Requirement already satisfied: plaster in /home/ndsc-user/anaconda3/envs/tf_gpu/lib/python3.6/site-packages (from pyramid>1.1.2->apex) (1.0)\n",
      "Requirement already satisfied: translationstring>=0.4 in /home/ndsc-user/anaconda3/envs/tf_gpu/lib/python3.6/site-packages (from pyramid>1.1.2->apex) (1.3)\n",
      "Requirement already satisfied: plaster-pastedeploy in /home/ndsc-user/anaconda3/envs/tf_gpu/lib/python3.6/site-packages (from pyramid>1.1.2->apex) (0.6)\n",
      "Requirement already satisfied: webob>=1.8.3 in /home/ndsc-user/anaconda3/envs/tf_gpu/lib/python3.6/site-packages (from pyramid>1.1.2->apex) (1.8.5)\n",
      "Requirement already satisfied: oauthlib>=3.0.0 in /home/ndsc-user/anaconda3/envs/tf_gpu/lib/python3.6/site-packages (from requests-oauthlib->velruse>=1.0.3->apex) (3.0.1)\n",
      "Requirement already satisfied: defusedxml in /home/ndsc-user/anaconda3/envs/tf_gpu/lib/python3.6/site-packages (from python3-openid->velruse>=1.0.3->apex) (0.5.0)\n",
      "Requirement already satisfied: PasteDeploy>=1.5.0 in /home/ndsc-user/anaconda3/envs/tf_gpu/lib/python3.6/site-packages (from plaster-pastedeploy->pyramid>1.1.2->apex) (2.0.1)\n",
      "Building wheels for collected packages: cryptacular\n",
      "  Building wheel for cryptacular (setup.py) ... \u001b[?25lerror\n",
      "  Complete output from command /home/ndsc-user/anaconda3/envs/tf_gpu/bin/python -u -c \"import setuptools, tokenize;__file__='/tmp/pip-install-tagu_yh4/cryptacular/setup.py';f=getattr(tokenize, 'open', open)(__file__);code=f.read().replace('\\r\\n', '\\n');f.close();exec(compile(code, __file__, 'exec'))\" bdist_wheel -d /tmp/pip-wheel-t_lqsx7_ --python-tag cp36:\n",
      "  running bdist_wheel\n",
      "  running build\n",
      "  running build_py\n",
      "  creating build\n",
      "  creating build/lib.linux-x86_64-3.6\n",
      "  creating build/lib.linux-x86_64-3.6/cryptacular\n",
      "  copying cryptacular/__init__.py -> build/lib.linux-x86_64-3.6/cryptacular\n",
      "  creating build/lib.linux-x86_64-3.6/cryptacular/crypt\n",
      "  copying cryptacular/crypt/__init__.py -> build/lib.linux-x86_64-3.6/cryptacular/crypt\n",
      "  copying cryptacular/crypt/test_crypt.py -> build/lib.linux-x86_64-3.6/cryptacular/crypt\n",
      "  creating build/lib.linux-x86_64-3.6/cryptacular/pbkdf2\n",
      "  copying cryptacular/pbkdf2/test_pbkdf2.py -> build/lib.linux-x86_64-3.6/cryptacular/pbkdf2\n",
      "  copying cryptacular/pbkdf2/__init__.py -> build/lib.linux-x86_64-3.6/cryptacular/pbkdf2\n",
      "  creating build/lib.linux-x86_64-3.6/cryptacular/core\n",
      "  copying cryptacular/core/test_core.py -> build/lib.linux-x86_64-3.6/cryptacular/core\n",
      "  copying cryptacular/core/__init__.py -> build/lib.linux-x86_64-3.6/cryptacular/core\n",
      "  creating build/lib.linux-x86_64-3.6/cryptacular/bcrypt\n",
      "  copying cryptacular/bcrypt/__init__.py -> build/lib.linux-x86_64-3.6/cryptacular/bcrypt\n",
      "  copying cryptacular/bcrypt/test_bcrypt.py -> build/lib.linux-x86_64-3.6/cryptacular/bcrypt\n",
      "  running egg_info\n",
      "  writing cryptacular.egg-info/PKG-INFO\n",
      "  writing dependency_links to cryptacular.egg-info/dependency_links.txt\n",
      "  writing namespace_packages to cryptacular.egg-info/namespace_packages.txt\n",
      "  writing requirements to cryptacular.egg-info/requires.txt\n",
      "  writing top-level names to cryptacular.egg-info/top_level.txt\n",
      "  reading manifest file 'cryptacular.egg-info/SOURCES.txt'\n",
      "  reading manifest template 'MANIFEST.in'\n",
      "  writing manifest file 'cryptacular.egg-info/SOURCES.txt'\n",
      "  copying cryptacular/bcrypt/_bcrypt.c -> build/lib.linux-x86_64-3.6/cryptacular/bcrypt\n",
      "  running build_ext\n",
      "  building 'cryptacular.bcrypt._bcrypt' extension\n",
      "  creating build/temp.linux-x86_64-3.6\n",
      "  creating build/temp.linux-x86_64-3.6/crypt_blowfish-1.2\n",
      "  creating build/temp.linux-x86_64-3.6/cryptacular\n",
      "  creating build/temp.linux-x86_64-3.6/cryptacular/bcrypt\n",
      "  gcc -pthread -B /home/ndsc-user/anaconda3/envs/tf_gpu/compiler_compat -Wl,--sysroot=/ -Wsign-compare -DNDEBUG -g -fwrapv -O3 -Wall -Wstrict-prototypes -fPIC -DNO_BF_ASM -Icrypt_blowfish-1.2/ -I/home/ndsc-user/anaconda3/envs/tf_gpu/include/python3.6m -c crypt_blowfish-1.2/crypt_blowfish.c -o build/temp.linux-x86_64-3.6/crypt_blowfish-1.2/crypt_blowfish.o\n",
      "  gcc -pthread -B /home/ndsc-user/anaconda3/envs/tf_gpu/compiler_compat -Wl,--sysroot=/ -Wsign-compare -DNDEBUG -g -fwrapv -O3 -Wall -Wstrict-prototypes -fPIC -DNO_BF_ASM -Icrypt_blowfish-1.2/ -I/home/ndsc-user/anaconda3/envs/tf_gpu/include/python3.6m -c crypt_blowfish-1.2/crypt_gensalt.c -o build/temp.linux-x86_64-3.6/crypt_blowfish-1.2/crypt_gensalt.o\n",
      "  gcc -pthread -B /home/ndsc-user/anaconda3/envs/tf_gpu/compiler_compat -Wl,--sysroot=/ -Wsign-compare -DNDEBUG -g -fwrapv -O3 -Wall -Wstrict-prototypes -fPIC -DNO_BF_ASM -Icrypt_blowfish-1.2/ -I/home/ndsc-user/anaconda3/envs/tf_gpu/include/python3.6m -c crypt_blowfish-1.2/wrapper.c -o build/temp.linux-x86_64-3.6/crypt_blowfish-1.2/wrapper.o\n",
      "  gcc -pthread -B /home/ndsc-user/anaconda3/envs/tf_gpu/compiler_compat -Wl,--sysroot=/ -Wsign-compare -DNDEBUG -g -fwrapv -O3 -Wall -Wstrict-prototypes -fPIC -DNO_BF_ASM -Icrypt_blowfish-1.2/ -I/home/ndsc-user/anaconda3/envs/tf_gpu/include/python3.6m -c cryptacular/bcrypt/_bcrypt.c -o build/temp.linux-x86_64-3.6/cryptacular/bcrypt/_bcrypt.o\n",
      "  In file included from /home/ndsc-user/anaconda3/envs/tf_gpu/include/python3.6m/Python.h:39:0,\n",
      "                   from cryptacular/bcrypt/_bcrypt.c:26:\n",
      "  crypt_blowfish-1.2/crypt.h:17:23: fatal error: gnu-crypt.h: No such file or directory\n",
      "   #include <gnu-crypt.h>\n",
      "                         ^\n",
      "  compilation terminated.\n",
      "  error: command 'gcc' failed with exit status 1\n",
      "  \n",
      "  ----------------------------------------\n",
      "\u001b[31m  Failed building wheel for cryptacular\u001b[0m\n",
      "\u001b[?25h  Running setup.py clean for cryptacular\n"
     ]
    },
    {
     "name": "stdout",
     "output_type": "stream",
     "text": [
      "Failed to build cryptacular\n",
      "Installing collected packages: cryptacular, apex\n",
      "  Running setup.py install for cryptacular ... \u001b[?25lerror\n",
      "    Complete output from command /home/ndsc-user/anaconda3/envs/tf_gpu/bin/python -u -c \"import setuptools, tokenize;__file__='/tmp/pip-install-tagu_yh4/cryptacular/setup.py';f=getattr(tokenize, 'open', open)(__file__);code=f.read().replace('\\r\\n', '\\n');f.close();exec(compile(code, __file__, 'exec'))\" install --record /tmp/pip-record-7layo4lr/install-record.txt --single-version-externally-managed --compile:\n",
      "    running install\n",
      "    running build\n",
      "    running build_py\n",
      "    creating build\n",
      "    creating build/lib.linux-x86_64-3.6\n",
      "    creating build/lib.linux-x86_64-3.6/cryptacular\n",
      "    copying cryptacular/__init__.py -> build/lib.linux-x86_64-3.6/cryptacular\n",
      "    creating build/lib.linux-x86_64-3.6/cryptacular/crypt\n",
      "    copying cryptacular/crypt/__init__.py -> build/lib.linux-x86_64-3.6/cryptacular/crypt\n",
      "    copying cryptacular/crypt/test_crypt.py -> build/lib.linux-x86_64-3.6/cryptacular/crypt\n",
      "    creating build/lib.linux-x86_64-3.6/cryptacular/pbkdf2\n",
      "    copying cryptacular/pbkdf2/test_pbkdf2.py -> build/lib.linux-x86_64-3.6/cryptacular/pbkdf2\n",
      "    copying cryptacular/pbkdf2/__init__.py -> build/lib.linux-x86_64-3.6/cryptacular/pbkdf2\n",
      "    creating build/lib.linux-x86_64-3.6/cryptacular/core\n",
      "    copying cryptacular/core/test_core.py -> build/lib.linux-x86_64-3.6/cryptacular/core\n",
      "    copying cryptacular/core/__init__.py -> build/lib.linux-x86_64-3.6/cryptacular/core\n",
      "    creating build/lib.linux-x86_64-3.6/cryptacular/bcrypt\n",
      "    copying cryptacular/bcrypt/__init__.py -> build/lib.linux-x86_64-3.6/cryptacular/bcrypt\n",
      "    copying cryptacular/bcrypt/test_bcrypt.py -> build/lib.linux-x86_64-3.6/cryptacular/bcrypt\n",
      "    running egg_info\n",
      "    writing cryptacular.egg-info/PKG-INFO\n",
      "    writing dependency_links to cryptacular.egg-info/dependency_links.txt\n",
      "    writing namespace_packages to cryptacular.egg-info/namespace_packages.txt\n",
      "    writing requirements to cryptacular.egg-info/requires.txt\n",
      "    writing top-level names to cryptacular.egg-info/top_level.txt\n",
      "    reading manifest file 'cryptacular.egg-info/SOURCES.txt'\n",
      "    reading manifest template 'MANIFEST.in'\n",
      "    writing manifest file 'cryptacular.egg-info/SOURCES.txt'\n",
      "    copying cryptacular/bcrypt/_bcrypt.c -> build/lib.linux-x86_64-3.6/cryptacular/bcrypt\n",
      "    running build_ext\n",
      "    building 'cryptacular.bcrypt._bcrypt' extension\n",
      "    creating build/temp.linux-x86_64-3.6\n",
      "    creating build/temp.linux-x86_64-3.6/crypt_blowfish-1.2\n",
      "    creating build/temp.linux-x86_64-3.6/cryptacular\n",
      "    creating build/temp.linux-x86_64-3.6/cryptacular/bcrypt\n",
      "    gcc -pthread -B /home/ndsc-user/anaconda3/envs/tf_gpu/compiler_compat -Wl,--sysroot=/ -Wsign-compare -DNDEBUG -g -fwrapv -O3 -Wall -Wstrict-prototypes -fPIC -DNO_BF_ASM -Icrypt_blowfish-1.2/ -I/home/ndsc-user/anaconda3/envs/tf_gpu/include/python3.6m -c crypt_blowfish-1.2/crypt_blowfish.c -o build/temp.linux-x86_64-3.6/crypt_blowfish-1.2/crypt_blowfish.o\n",
      "    gcc -pthread -B /home/ndsc-user/anaconda3/envs/tf_gpu/compiler_compat -Wl,--sysroot=/ -Wsign-compare -DNDEBUG -g -fwrapv -O3 -Wall -Wstrict-prototypes -fPIC -DNO_BF_ASM -Icrypt_blowfish-1.2/ -I/home/ndsc-user/anaconda3/envs/tf_gpu/include/python3.6m -c crypt_blowfish-1.2/crypt_gensalt.c -o build/temp.linux-x86_64-3.6/crypt_blowfish-1.2/crypt_gensalt.o\n",
      "    gcc -pthread -B /home/ndsc-user/anaconda3/envs/tf_gpu/compiler_compat -Wl,--sysroot=/ -Wsign-compare -DNDEBUG -g -fwrapv -O3 -Wall -Wstrict-prototypes -fPIC -DNO_BF_ASM -Icrypt_blowfish-1.2/ -I/home/ndsc-user/anaconda3/envs/tf_gpu/include/python3.6m -c crypt_blowfish-1.2/wrapper.c -o build/temp.linux-x86_64-3.6/crypt_blowfish-1.2/wrapper.o\n",
      "    gcc -pthread -B /home/ndsc-user/anaconda3/envs/tf_gpu/compiler_compat -Wl,--sysroot=/ -Wsign-compare -DNDEBUG -g -fwrapv -O3 -Wall -Wstrict-prototypes -fPIC -DNO_BF_ASM -Icrypt_blowfish-1.2/ -I/home/ndsc-user/anaconda3/envs/tf_gpu/include/python3.6m -c cryptacular/bcrypt/_bcrypt.c -o build/temp.linux-x86_64-3.6/cryptacular/bcrypt/_bcrypt.o\n",
      "    In file included from /home/ndsc-user/anaconda3/envs/tf_gpu/include/python3.6m/Python.h:39:0,\n",
      "                     from cryptacular/bcrypt/_bcrypt.c:26:\n",
      "    crypt_blowfish-1.2/crypt.h:17:23: fatal error: gnu-crypt.h: No such file or directory\n",
      "     #include <gnu-crypt.h>\n",
      "                           ^\n",
      "    compilation terminated.\n",
      "    error: command 'gcc' failed with exit status 1\n",
      "    \n",
      "    ----------------------------------------\n",
      "\u001b[31mCommand \"/home/ndsc-user/anaconda3/envs/tf_gpu/bin/python -u -c \"import setuptools, tokenize;__file__='/tmp/pip-install-tagu_yh4/cryptacular/setup.py';f=getattr(tokenize, 'open', open)(__file__);code=f.read().replace('\\r\\n', '\\n');f.close();exec(compile(code, __file__, 'exec'))\" install --record /tmp/pip-record-7layo4lr/install-record.txt --single-version-externally-managed --compile\" failed with error code 1 in /tmp/pip-install-tagu_yh4/cryptacular/\u001b[0m\n",
      "\u001b[?25h"
     ]
    }
   ],
   "source": [
    "!pip install apex"
   ]
  },
  {
   "cell_type": "markdown",
   "metadata": {
    "colab_type": "text",
    "id": "dr8gf-Su_pMq"
   },
   "source": [
    "Using stacked embeddings"
   ]
  },
  {
   "cell_type": "markdown",
   "metadata": {
    "colab_type": "text",
    "id": "t1Rb610H9O9L"
   },
   "source": [
    "Running this on our data"
   ]
  },
  {
   "cell_type": "code",
   "execution_count": 52,
   "metadata": {
    "colab": {},
    "colab_type": "code",
    "id": "qLoAX-vI9Qld"
   },
   "outputs": [],
   "source": [
    "#flair_path = '/content/drive/My Drive/GitHub/nsdc_beginner/Flair'\n",
    "flair_path = './Flair'\n",
    "\n",
    "\n",
    "train_path = os.path.join(flair_path, \"train.csv\")\n",
    "test_path = os.path.join(flair_path, \"test.csv\")\n",
    "dev_path = os.path.join(flair_path, \"dev.csv\")\n",
    "\n",
    "data = Fashiondf[['Category', 'title']].rename(columns={\"Category\":\"label\", \"title\":\"text\"})\n",
    "\n"
   ]
  },
  {
   "cell_type": "code",
   "execution_count": 53,
   "metadata": {
    "colab": {
     "base_uri": "https://localhost:8080/",
     "height": 204
    },
    "colab_type": "code",
    "id": "DWfEIUgO-LZ8",
    "outputId": "ad69f23b-bd08-427a-f045-946f2a2baa20"
   },
   "outputs": [
    {
     "data": {
      "text/html": [
       "<div>\n",
       "<style scoped>\n",
       "    .dataframe tbody tr th:only-of-type {\n",
       "        vertical-align: middle;\n",
       "    }\n",
       "\n",
       "    .dataframe tbody tr th {\n",
       "        vertical-align: top;\n",
       "    }\n",
       "\n",
       "    .dataframe thead th {\n",
       "        text-align: right;\n",
       "    }\n",
       "</style>\n",
       "<table border=\"1\" class=\"dataframe\">\n",
       "  <thead>\n",
       "    <tr style=\"text-align: right;\">\n",
       "      <th></th>\n",
       "      <th>label</th>\n",
       "      <th>text</th>\n",
       "    </tr>\n",
       "  </thead>\n",
       "  <tbody>\n",
       "    <tr>\n",
       "      <th>462261</th>\n",
       "      <td>26</td>\n",
       "      <td>loose programmer php world sweater kaos lengan...</td>\n",
       "    </tr>\n",
       "    <tr>\n",
       "      <th>397722</th>\n",
       "      <td>18</td>\n",
       "      <td>dress sexy model deep v neck warna polos bahan...</td>\n",
       "    </tr>\n",
       "    <tr>\n",
       "      <th>386465</th>\n",
       "      <td>18</td>\n",
       "      <td>dress fit and flare motif print bunga bahan la...</td>\n",
       "    </tr>\n",
       "    <tr>\n",
       "      <th>322351</th>\n",
       "      <td>18</td>\n",
       "      <td>lapangan gas panjang selutut rok sweater jahit...</td>\n",
       "    </tr>\n",
       "    <tr>\n",
       "      <th>292496</th>\n",
       "      <td>18</td>\n",
       "      <td>gogo dress mini lengan panjang model off shoul...</td>\n",
       "    </tr>\n",
       "  </tbody>\n",
       "</table>\n",
       "</div>"
      ],
      "text/plain": [
       "        label                                               text\n",
       "462261     26  loose programmer php world sweater kaos lengan...\n",
       "397722     18  dress sexy model deep v neck warna polos bahan...\n",
       "386465     18  dress fit and flare motif print bunga bahan la...\n",
       "322351     18  lapangan gas panjang selutut rok sweater jahit...\n",
       "292496     18  gogo dress mini lengan panjang model off shoul..."
      ]
     },
     "execution_count": 53,
     "metadata": {},
     "output_type": "execute_result"
    }
   ],
   "source": [
    "data.head()"
   ]
  },
  {
   "cell_type": "code",
   "execution_count": 54,
   "metadata": {
    "colab": {},
    "colab_type": "code",
    "id": "klGDSfS8-I1W"
   },
   "outputs": [],
   "source": [
    "data['label'] = '__label__' + data['label'].astype(str)\n",
    "\n",
    "data.iloc[0:int(len(data)*0.8)].to_csv(train_path, sep='\\t', index = False, header = False)\n",
    "data.iloc[int(len(data)*0.8):int(len(data)*0.9)].to_csv(test_path, sep='\\t', index = False, header = False)\n",
    "data.iloc[int(len(data)*0.9):].to_csv(dev_path, sep='\\t', index = False, header = False);"
   ]
  },
  {
   "cell_type": "markdown",
   "metadata": {
    "colab_type": "text",
    "id": "XHGUSz0i-eGR"
   },
   "source": [
    "#### 4.2 Training custom text\n",
    "\n",
    "Get the corpus"
   ]
  },
  {
   "cell_type": "code",
   "execution_count": 58,
   "metadata": {},
   "outputs": [
    {
     "name": "stdout",
     "output_type": "stream",
     "text": [
      "Requirement already satisfied: google-compute-engine in /home/ndsc-user/anaconda3/envs/tf_gpu/lib/python3.6/site-packages (2.8.13)\r\n",
      "Requirement already satisfied: distro in /home/ndsc-user/anaconda3/envs/tf_gpu/lib/python3.6/site-packages (from google-compute-engine) (1.4.0)\r\n",
      "Requirement already satisfied: boto in /home/ndsc-user/anaconda3/envs/tf_gpu/lib/python3.6/site-packages (from google-compute-engine) (2.49.0)\r\n",
      "Requirement already satisfied: setuptools in /home/ndsc-user/anaconda3/envs/tf_gpu/lib/python3.6/site-packages (from google-compute-engine) (40.8.0)\r\n"
     ]
    }
   ],
   "source": [
    "!pip install google-compute-engine"
   ]
  },
  {
   "cell_type": "code",
   "execution_count": 59,
   "metadata": {},
   "outputs": [],
   "source": [
    "from flair.data_fetcher import NLPTaskDataFetcher\n",
    "from flair.embeddings import WordEmbeddings, FlairEmbeddings, \\\n",
    "    DocumentRNNEmbeddings,CharLMEmbeddings,BertEmbeddings, ELMoEmbeddings\n",
    "from flair.models import TextClassifier\n",
    "from flair.trainers import ModelTrainer\n",
    "from pathlib import Path\n",
    "\n",
    "sample_size=1.0"
   ]
  },
  {
   "cell_type": "code",
   "execution_count": null,
   "metadata": {
    "colab": {
     "base_uri": "https://localhost:8080/",
     "height": 85
    },
    "colab_type": "code",
    "id": "zEVF4tZx-gc2",
    "outputId": "c2a4aab7-3ac8-442e-c125-7587edbaf1ed"
   },
   "outputs": [
    {
     "name": "stdout",
     "output_type": "stream",
     "text": [
      "2019-03-18 12:31:33,900 Reading data from Flair\n",
      "2019-03-18 12:31:33,901 Train: Flair/train.csv\n",
      "2019-03-18 12:31:33,902 Dev: Flair/dev.csv\n",
      "2019-03-18 12:31:33,903 Test: Flair/test.csv\n"
     ]
    }
   ],
   "source": [
    "corpus = NLPTaskDataFetcher.load_classification_corpus(Path(flair_path), \n",
    "                                                       test_file='test.csv', \n",
    "                                                       dev_file='dev.csv', \n",
    "                                                       train_file='train.csv')#.downsample(sample_size)\n",
    "\n",
    "#word_embeddings = [WordEmbeddings('glove'), \n",
    "#                   FlairEmbeddings('news-forward'), \n",
    "#                   FlairEmbeddings('news-backward')]\n",
    "\n",
    "#word_embeddings = [WordEmbeddings('en')]\n",
    "\n",
    "word_embeddings = [WordEmbeddings('en'),\n",
    "                   FlairEmbeddings('multi-forward'),\n",
    "                   FlairEmbeddings('multi-backward')]"
   ]
  },
  {
   "cell_type": "code",
   "execution_count": null,
   "metadata": {
    "colab": {},
    "colab_type": "code",
    "id": "lW7O3DpyF-kq"
   },
   "outputs": [],
   "source": [
    "document_embeddings = DocumentRNNEmbeddings(word_embeddings, \n",
    "                                            hidden_size=64, \n",
    "                                             reproject_words=True, \n",
    "                                             reproject_words_dimension=256,\n",
    "                                           #mini_batch_size=128,\n",
    "                                           #learning_rate=0.15,\n",
    "                                           rnn_layers=2,\n",
    "                                           dropout=0.2262)"
   ]
  },
  {
   "cell_type": "markdown",
   "metadata": {
    "colab_type": "text",
    "id": "uuo3R8-tAvbB"
   },
   "source": [
    "Initialize trainer"
   ]
  },
  {
   "cell_type": "code",
   "execution_count": null,
   "metadata": {
    "colab": {},
    "colab_type": "code",
    "id": "qyw12MeDCfF1"
   },
   "outputs": [],
   "source": [
    "#model_path = '/content/drive/My Drive/GitHub/nsdc_beginner/Model'\n",
    "model_path = './Model20190318-2031'\n",
    "if not os.path.exists(model_path):\n",
    "    os.mkdir(model_path)"
   ]
  },
  {
   "cell_type": "code",
   "execution_count": null,
   "metadata": {
    "colab": {
     "base_uri": "https://localhost:8080/",
     "height": 102
    },
    "colab_type": "code",
    "id": "xhP8aKvRAxKN",
    "outputId": "4483743a-b269-48f9-cbc2-209a1dfe9f82"
   },
   "outputs": [],
   "source": [
    "classifier = TextClassifier(document_embeddings, \n",
    "                            label_dictionary=corpus.make_label_dictionary(), \n",
    "                            multi_label=False)\n",
    "\n",
    "trainer = ModelTrainer(classifier, corpus)\n",
    "\n",
    "trainer.train(model_path, \n",
    "              learning_rate =0.15,\n",
    "              mini_batch_size=128,\n",
    "              anneal_factor=0.5,\n",
    "              max_epochs=30, \n",
    "              patience=1,\n",
    "             checkpoint=True)"
   ]
  },
  {
   "cell_type": "markdown",
   "metadata": {
    "colab_type": "text",
    "id": "lU8LgM25B2NO"
   },
   "source": [
    "Plot the training"
   ]
  },
  {
   "cell_type": "code",
   "execution_count": null,
   "metadata": {
    "colab": {},
    "colab_type": "code",
    "id": "t2K6EcOJB31G"
   },
   "outputs": [],
   "source": [
    "from flair.visual.training_curves import Plotter\n",
    "\n",
    "plotter = Plotter()\n",
    "plotter.plot_training_curves(os.path.join(model_path,'loss.tsv'))\n",
    "plotter.plot_weights(os.path.join(model_path, 'weights.txt'))"
   ]
  },
  {
   "cell_type": "markdown",
   "metadata": {},
   "source": [
    "Training progress - with glove and multi flair backward and forward\n",
    "<img src=\"./Model20190318-1859/training.png\"/>"
   ]
  },
  {
   "cell_type": "markdown",
   "metadata": {},
   "source": [
    "Making predictions"
   ]
  },
  {
   "cell_type": "code",
   "execution_count": null,
   "metadata": {},
   "outputs": [],
   "source": [
    "from flair.data import TaggedCorpus, Sentence, Token\n",
    "\n",
    "def predictSentences(sentences, classifier, print_on_pct=0.01):\n",
    "    print (\"Starting progress on prediction work\")\n",
    "    # get the total number of sentences to be processed\n",
    "    to_proc = len(sentences)\n",
    "    y_preds = []\n",
    "    \n",
    "    processed = 0\n",
    "    count = 0\n",
    "    print_count = to_proc*print_on_pct\n",
    "\n",
    "    for sentence in sentences:\n",
    "        sentence = Sentence(sentence)\n",
    "\n",
    "        # predict tags and print\n",
    "        classifier.predict(sentence)\n",
    "    \n",
    "        y_preds.append(int(sentence.labels[0].value))\n",
    "        processed += 1\n",
    "        count += 1\n",
    "        if (count >= print_count):\n",
    "            count = 0\n",
    "\n",
    "            # print the current status\n",
    "            pct = round((float(processed)/float(to_proc))*100, 3)\n",
    "            print (\"{} {}% finished\".format(datetime.datetime.now(), pct))\n",
    "            \n",
    "    return y_preds\n",
    "\n",
    "        \n",
    "classifier = TextClassifier.load_from_file(os.path.join(model_path,'final-model.pt'))    \n",
    "# create example sentence\n",
    "sentences = ['zaful long dress vintage wanita v neck lengan panjang hollow bahan sifon motif print bunga',\n",
    "            'terlaris best seller basic shirt square motif bl4834 new',\n",
    "            \"dress bodycon wanita model lengan panjang bahan velvet untuk musim dingin prom cocktail\"]\n",
    "print(predictSentences(sentences, classifier))"
   ]
  },
  {
   "cell_type": "markdown",
   "metadata": {},
   "source": [
    "#### 4.3 Hyperopt it"
   ]
  },
  {
   "cell_type": "code",
   "execution_count": null,
   "metadata": {},
   "outputs": [],
   "source": [
    "!pip install allennlp"
   ]
  },
  {
   "cell_type": "code",
   "execution_count": null,
   "metadata": {},
   "outputs": [],
   "source": [
    "from hyperopt import hp\n",
    "from flair.hyperparameter.param_selection import SearchSpace, Parameter\n",
    "\n",
    "# define your search space\n",
    "search_space = SearchSpace()\n",
    "search_space.add(Parameter.EMBEDDINGS, hp.choice, options=[\n",
    "    [ WordEmbeddings('en') ], \n",
    "    [ CharLMEmbeddings('news-forward'), CharLMEmbeddings('news-backward') ],\n",
    "    [ WordEmbeddings('glove'), FlairEmbeddings('news-forward'),\n",
    "     FlairEmbeddings('news-backward')],\n",
    "    [BertEmbeddings('bert-base-multilingual-cased')],\n",
    "    [ELMoEmbeddings('original')],\n",
    "    [FlairEmbeddings('multi-forward'),FlairEmbeddings('multi-backward'),\n",
    "     BertEmbeddings('bert-base-multilingual-cased')]\n",
    "])\n",
    "search_space.add(Parameter.HIDDEN_SIZE, hp.choice, options=[64, 128, 256, 512])\n",
    "search_space.add(Parameter.RNN_LAYERS, hp.choice, options=[1, 2])\n",
    "search_space.add(Parameter.DROPOUT, hp.uniform, low=0.0, high=0.5)\n",
    "search_space.add(Parameter.LEARNING_RATE, hp.choice, options=[0.05, 0.1, 0.15, 0.2])\n",
    "search_space.add(Parameter.MINI_BATCH_SIZE, hp.choice, options=[8, 16, 32, 64, 128])"
   ]
  },
  {
   "cell_type": "markdown",
   "metadata": {},
   "source": [
    "Create the actual parameter selector"
   ]
  },
  {
   "cell_type": "code",
   "execution_count": null,
   "metadata": {},
   "outputs": [],
   "source": [
    "from flair.hyperparameter.param_selection import TextClassifierParamSelector,\\\n",
    "    OptimizationValue\n",
    "\n",
    "# create the parameter selector\n",
    "param_selector = TextClassifierParamSelector(\n",
    "    corpus, \n",
    "    False, \n",
    "    model_path, \n",
    "    'lstm',\n",
    "    max_epochs=50, \n",
    "    training_runs=3,\n",
    "    optimization_value=OptimizationValue.DEV_SCORE\n",
    ")\n",
    "\n",
    "# start the optimization\n",
    "param_selector.optimize(search_space, max_evals=100)"
   ]
  },
  {
   "cell_type": "markdown",
   "metadata": {},
   "source": [
    "#### 4.3 Finding the best learning rate"
   ]
  },
  {
   "cell_type": "code",
   "execution_count": null,
   "metadata": {},
   "outputs": [],
   "source": [
    "# 7. find learning rate\n",
    "learning_rate_tsv = trainer.find_learning_rate(model_path,                                                    'learning_rate.tsv')\n",
    "\n",
    "# 8. plot the learning rate finder curve\n",
    "plotter = Plotter()\n",
    "plotter.plot_learning_rate(learning_rate_tsv)"
   ]
  },
  {
   "cell_type": "markdown",
   "metadata": {},
   "source": [
    "#### 4.3 Manually validate the accuracy"
   ]
  },
  {
   "cell_type": "code",
   "execution_count": null,
   "metadata": {},
   "outputs": [],
   "source": []
  },
  {
   "cell_type": "code",
   "execution_count": null,
   "metadata": {},
   "outputs": [],
   "source": [
    "valid_data = Fashiondf.sample(frac=0.1)"
   ]
  },
  {
   "cell_type": "code",
   "execution_count": null,
   "metadata": {},
   "outputs": [],
   "source": [
    "valid_data.shape"
   ]
  },
  {
   "cell_type": "code",
   "execution_count": null,
   "metadata": {},
   "outputs": [],
   "source": [
    "y_true = list(valid_data.Category)"
   ]
  },
  {
   "cell_type": "code",
   "execution_count": null,
   "metadata": {},
   "outputs": [],
   "source": [
    "type(y_true)"
   ]
  },
  {
   "cell_type": "code",
   "execution_count": null,
   "metadata": {},
   "outputs": [],
   "source": [
    "list(valid_data[0:10].title)"
   ]
  },
  {
   "cell_type": "code",
   "execution_count": null,
   "metadata": {},
   "outputs": [],
   "source": [
    "y_pred = predictSentences(list(valid_data.title), classifier)"
   ]
  },
  {
   "cell_type": "code",
   "execution_count": null,
   "metadata": {},
   "outputs": [],
   "source": [
    "y_pred[0:10]"
   ]
  },
  {
   "cell_type": "code",
   "execution_count": null,
   "metadata": {},
   "outputs": [],
   "source": [
    "y_true[0:10]"
   ]
  },
  {
   "cell_type": "code",
   "execution_count": null,
   "metadata": {},
   "outputs": [],
   "source": [
    "from sklearn.metrics import accuracy_score\n",
    "accuracy_score(y_true, y_pred)"
   ]
  },
  {
   "cell_type": "markdown",
   "metadata": {
    "colab_type": "text",
    "id": "haSx19EUSbId"
   },
   "source": [
    "## 5- Modelling\n",
    "\n",
    "1. Divide the test dataset into 3 Categories\n",
    "2. Remove numbers more than 3 Digits from the test dataset.\n",
    "3. Train + Predict.\n"
   ]
  },
  {
   "cell_type": "markdown",
   "metadata": {
    "colab_type": "text",
    "id": "wnMVtuLnTUyg"
   },
   "source": [
    "### 5.1 Divide the test dataset into 3 Categories"
   ]
  },
  {
   "cell_type": "code",
   "execution_count": null,
   "metadata": {
    "colab": {},
    "colab_type": "code",
    "id": "70V6GmZGSeyO"
   },
   "outputs": [],
   "source": [
    "#add category col\n",
    "newTestCol = dftest.image_path.apply(lambda x: x.split('_')[0])\n",
    "dftest['newCat'] = newTestCol"
   ]
  },
  {
   "cell_type": "code",
   "execution_count": null,
   "metadata": {
    "colab": {},
    "colab_type": "code",
    "id": "bvq_8KSCTeD_"
   },
   "outputs": [],
   "source": [
    "dftest.tail()"
   ]
  },
  {
   "cell_type": "code",
   "execution_count": null,
   "metadata": {
    "colab": {},
    "colab_type": "code",
    "id": "ntxgP7EAWiXE"
   },
   "outputs": [],
   "source": [
    "MobileTest = dftest[dftest['newCat'] == 'mobile']\n",
    "BeautyTest = dftest[dftest['newCat'] == 'beauty']\n",
    "FashionTest = dftest[dftest['newCat'] == 'fashion']\n",
    "\n",
    "fig, axt = plt.subplots(1,1)\n",
    "axt.bar(['beauty', 'fashion', 'mobile'], [len(BeautyTest), len(FashionTest), len(MobileTest)], width=0.5)\n"
   ]
  },
  {
   "cell_type": "markdown",
   "metadata": {
    "colab_type": "text",
    "id": "6sumGyDEdFCe"
   },
   "source": [
    "### 5.3 Prediction Dataset"
   ]
  },
  {
   "cell_type": "code",
   "execution_count": null,
   "metadata": {
    "colab": {},
    "colab_type": "code",
    "id": "KyRvw_4cdKCe"
   },
   "outputs": [],
   "source": [
    "B_X_test = BeautyTest.title\n",
    "F_X_test = FashionTest.title\n",
    "M_X_test = MobileTest.title"
   ]
  },
  {
   "cell_type": "markdown",
   "metadata": {
    "colab_type": "text",
    "id": "UdlKUH1Bdhyg"
   },
   "source": [
    "### 5.4 Prediction Function"
   ]
  },
  {
   "cell_type": "code",
   "execution_count": null,
   "metadata": {
    "colab": {},
    "colab_type": "code",
    "id": "2YSoyUN8Nb0g"
   },
   "outputs": [],
   "source": [
    "def modelPredict(X_train, y_train, X_test, vect, \n",
    "                 clf=SGDClassifier(random_state=42,max_iter=5000, \n",
    "                                            tol=1e-3,loss='hinge')):\n",
    "    ''' Train a classifier using CV'''\n",
    "    #clf = SGDClassifier(random_state=random_state)\n",
    "    \n",
    "    X_train_dtm,X_test_dtm = tokenize_data(vect, X_train, X_test)\n",
    "    clf.fit(X_train_dtm, y_train)\n",
    "    y_pred = clf.predict(X_test_dtm)\n",
    "    return y_pred"
   ]
  },
  {
   "cell_type": "code",
   "execution_count": null,
   "metadata": {
    "colab": {},
    "colab_type": "code",
    "id": "DbpBm3lZNb0t"
   },
   "outputs": [],
   "source": [
    "B_y_pred = modelPredict(B_X_train, B_y_train, B_X_test, Bs_vect, clf=ovr_clf)"
   ]
  },
  {
   "cell_type": "code",
   "execution_count": null,
   "metadata": {
    "colab": {},
    "colab_type": "code",
    "id": "bw_2h8h6Nb0z"
   },
   "outputs": [],
   "source": [
    "F_y_pred = modelPredict(F_X_train, F_y_train, F_X_test, Fs_vect, clf=ovr_clf)"
   ]
  },
  {
   "cell_type": "code",
   "execution_count": null,
   "metadata": {
    "colab": {},
    "colab_type": "code",
    "id": "apyrV8BFNb05"
   },
   "outputs": [],
   "source": [
    "M_y_pred = modelPredict(M_X_train, M_y_train, M_X_test, Ms_vect, clf=ovr_clf)"
   ]
  },
  {
   "cell_type": "markdown",
   "metadata": {
    "colab_type": "text",
    "id": "swwqXL5sfgkR"
   },
   "source": [
    "### 5.5 Run Prediction"
   ]
  },
  {
   "cell_type": "code",
   "execution_count": null,
   "metadata": {
    "colab": {},
    "colab_type": "code",
    "id": "h8BuX46Vf-BF"
   },
   "outputs": [],
   "source": [
    "BeautyTest['Category'] = B_y_pred\n",
    "FashionTest['Category'] = F_y_pred\n",
    "MobileTest['Category'] = M_y_pred\n"
   ]
  },
  {
   "cell_type": "markdown",
   "metadata": {
    "colab_type": "text",
    "id": "2bNvhS8XjX3j"
   },
   "source": [
    "## 6- Result"
   ]
  },
  {
   "cell_type": "code",
   "execution_count": null,
   "metadata": {
    "colab": {},
    "colab_type": "code",
    "id": "tHGPfI54gQRa"
   },
   "outputs": [],
   "source": [
    "resDf = BeautyTest.append(FashionTest).append(MobileTest)\n"
   ]
  },
  {
   "cell_type": "code",
   "execution_count": null,
   "metadata": {
    "colab": {},
    "colab_type": "code",
    "id": "4SdtRA4pjQs7"
   },
   "outputs": [],
   "source": [
    "FinalResult = pd.concat([resDf['itemid'], resDf['Category']], axis=1, \n",
    "                        keys=['itemid', 'Category'])\n",
    "FinalResult.to_csv(path + '{}_NDSC_Res.csv'.format(datetime.datetime.today().strftime('%Y%m%d')\n",
    "                                                  ), index=False)"
   ]
  },
  {
   "cell_type": "code",
   "execution_count": null,
   "metadata": {
    "colab": {},
    "colab_type": "code",
    "id": "VGzSnqY6jrhG"
   },
   "outputs": [],
   "source": []
  }
 ],
 "metadata": {
  "accelerator": "GPU",
  "colab": {
   "collapsed_sections": [],
   "name": "NDSC_CRF.ipynb",
   "provenance": [],
   "toc_visible": true,
   "version": "0.3.2"
  },
  "kernelspec": {
   "display_name": "Python 3",
   "language": "python",
   "name": "python3"
  },
  "language_info": {
   "codemirror_mode": {
    "name": "ipython",
    "version": 3
   },
   "file_extension": ".py",
   "mimetype": "text/x-python",
   "name": "python",
   "nbconvert_exporter": "python",
   "pygments_lexer": "ipython3",
   "version": "3.6.8"
  }
 },
 "nbformat": 4,
 "nbformat_minor": 1
}
