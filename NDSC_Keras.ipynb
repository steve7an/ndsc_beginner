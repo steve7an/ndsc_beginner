{
  "nbformat": 4,
  "nbformat_minor": 0,
  "metadata": {
    "colab": {
      "name": "NDSC_Keras.ipynb",
      "version": "0.3.2",
      "provenance": [],
      "collapsed_sections": [],
      "toc_visible": true
    },
    "kernelspec": {
      "name": "python3",
      "display_name": "Python 3"
    },
    "accelerator": "GPU"
  },
  "cells": [
    {
      "metadata": {
        "colab_type": "text",
        "id": "wqneb_yvJsHZ"
      },
      "cell_type": "markdown",
      "source": [
        "## 1- Importing libraries\n",
        "\n",
        "also doing some logistics"
      ]
    },
    {
      "metadata": {
        "id": "-LUHE_-46bM2",
        "colab_type": "code",
        "outputId": "8ea5131a-dc0c-4c6c-e433-c72a269b6673",
        "colab": {
          "base_uri": "https://localhost:8080/",
          "height": 34
        }
      },
      "cell_type": "code",
      "source": [
        "!pip install Sastrawi"
      ],
      "execution_count": 0,
      "outputs": [
        {
          "output_type": "stream",
          "text": [
            "Requirement already satisfied: Sastrawi in /usr/local/lib/python3.6/dist-packages (1.0.1)\n"
          ],
          "name": "stdout"
        }
      ]
    },
    {
      "metadata": {
        "colab_type": "code",
        "id": "Knyl3IOjFl1p",
        "outputId": "07b10ca4-1fb1-4fec-d6bd-f2efd585bc39",
        "colab": {
          "base_uri": "https://localhost:8080/",
          "height": 51
        }
      },
      "cell_type": "code",
      "source": [
        "#Load all the needed libraries\n",
        "from sklearn.feature_extraction.text import CountVectorizer\n",
        "from sklearn.linear_model import SGDClassifier\n",
        "from sklearn.naive_bayes import MultinomialNB\n",
        "from sklearn import metrics\n",
        "from sklearn.linear_model import LogisticRegression\n",
        "from sklearn.multiclass import OneVsRestClassifier\n",
        "from sklearn.ensemble import RandomForestClassifier\n",
        "from sklearn.feature_extraction.text import TfidfVectorizer\n",
        "from sklearn import svm\n",
        "import seaborn as sns\n",
        "import pandas as pd\n",
        "import numpy as np\n",
        "import matplotlib.pyplot as plt\n",
        "from wordcloud import WordCloud\n",
        "import os\n",
        "import json\n",
        "from pprint import pprint\n",
        "from Sastrawi.StopWordRemover.StopWordRemoverFactory import StopWordRemoverFactory\n",
        "import nltk\n",
        "nltk.download('stopwords')\n",
        "from nltk.corpus import stopwords\n",
        "import datetime as dt\n",
        "from sklearn.model_selection import StratifiedKFold\n",
        "from sklearn.base import clone\n",
        "from sklearn.linear_model import SGDClassifier\n",
        "import pickle\n",
        "from time import monotonic\n",
        "from datetime import timedelta\n",
        "import sklearn.metrics as metrics\n",
        "import sys\n",
        "from sklearn.model_selection import GridSearchCV, RandomizedSearchCV\n",
        "from sklearn.metrics import accuracy_score\n",
        "from sklearn.model_selection import train_test_split\n",
        "from time import time\n",
        "\n",
        "%matplotlib inline"
      ],
      "execution_count": 0,
      "outputs": [
        {
          "output_type": "stream",
          "text": [
            "[nltk_data] Downloading package stopwords to /root/nltk_data...\n",
            "[nltk_data]   Package stopwords is already up-to-date!\n"
          ],
          "name": "stdout"
        }
      ]
    },
    {
      "metadata": {
        "colab_type": "code",
        "id": "9uhlq6Z3AEbg",
        "colab": {}
      },
      "cell_type": "code",
      "source": [
        "plt.style.use('seaborn-ticks')"
      ],
      "execution_count": 0,
      "outputs": []
    },
    {
      "metadata": {
        "colab_type": "code",
        "id": "h76BVT_T8TBx",
        "outputId": "79bca1cb-6190-4f75-c2a7-3f6a91025ad8",
        "colab": {
          "base_uri": "https://localhost:8080/",
          "height": 34
        }
      },
      "cell_type": "code",
      "source": [
        "from google.colab import drive\n",
        "drive.mount('/content/drive')"
      ],
      "execution_count": 0,
      "outputs": [
        {
          "output_type": "stream",
          "text": [
            "Drive already mounted at /content/drive; to attempt to forcibly remount, call drive.mount(\"/content/drive\", force_remount=True).\n"
          ],
          "name": "stdout"
        }
      ]
    },
    {
      "metadata": {
        "colab_type": "text",
        "id": "HrMAW2IJJ44P"
      },
      "cell_type": "markdown",
      "source": [
        "## 2- Loading Train/test data"
      ]
    },
    {
      "metadata": {
        "colab_type": "code",
        "id": "qJ2wb-eG87FK",
        "colab": {}
      },
      "cell_type": "code",
      "source": [
        "path = '/content/drive/My Drive/GitHub/nsdc_beginner/Data'\n",
        "\n",
        "#path = './Data'\n",
        "dftrain = pd.read_csv(os.path.join(path, 'train.csv'))\n",
        "dftest = pd.read_csv(os.path.join(path, 'test.csv'))\n"
      ],
      "execution_count": 0,
      "outputs": []
    },
    {
      "metadata": {
        "id": "EkrAoEfx3R90",
        "colab_type": "code",
        "outputId": "a7abbb21-84e6-4415-f8ce-1f10a4185514",
        "colab": {
          "base_uri": "https://localhost:8080/",
          "height": 1003
        }
      },
      "cell_type": "code",
      "source": [
        "with open(os.path.join(path,'categories.json')) as f:\n",
        "    categories = json.load(f)\n",
        "\n",
        "pprint(categories)"
      ],
      "execution_count": 0,
      "outputs": [
        {
          "output_type": "stream",
          "text": [
            "{'Beauty': {'BB & CC Cream': 5,\n",
            "            'Blush On': 2,\n",
            "            'Bronzer': 11,\n",
            "            'Concealer': 7,\n",
            "            'Contour': 6,\n",
            "            'Face Palette': 0,\n",
            "            'Foundation': 1,\n",
            "            'Highlighter': 8,\n",
            "            'Lip Gloss': 14,\n",
            "            'Lip Liner': 15,\n",
            "            'Lip Tint': 13,\n",
            "            'Lipstick': 12,\n",
            "            'Other Face Cosmetics': 4,\n",
            "            'Other Lip Cosmetics': 16,\n",
            "            'Powder': 3,\n",
            "            'Primer': 9,\n",
            "            'Setting Spray': 10},\n",
            " 'Fashion': {'A Line Dress': 21,\n",
            "             'Big Size Dress': 24,\n",
            "             'Big Size Top': 30,\n",
            "             'Blouse': 26,\n",
            "             'Bodycon Dress': 22,\n",
            "             'Casual Dress': 18,\n",
            "             'Crop Top': 29,\n",
            "             'Maxi Dress': 20,\n",
            "             'Others': 17,\n",
            "             'Party Dress': 19,\n",
            "             'Shirt': 27,\n",
            "             'Tanktop': 28,\n",
            "             'Tshirt': 25,\n",
            "             'Wedding Dress': 23},\n",
            " 'Mobile': {'Advan': 45,\n",
            "            'Alcatel': 55,\n",
            "            'Asus': 43,\n",
            "            'Blackberry': 36,\n",
            "            'Brandcode': 39,\n",
            "            'Evercoss': 44,\n",
            "            'Honor': 54,\n",
            "            'Huawei': 47,\n",
            "            'Icherry': 52,\n",
            "            'Infinix': 40,\n",
            "            'Iphone': 31,\n",
            "            'Lenovo': 37,\n",
            "            'Maxtron': 56,\n",
            "            'Mito': 46,\n",
            "            'Motorola': 49,\n",
            "            'Nokia': 38,\n",
            "            'Oppo': 41,\n",
            "            'Others Mobile & Tablet': 35,\n",
            "            'Realme': 51,\n",
            "            'SPC': 57,\n",
            "            'Samsung': 32,\n",
            "            'Sharp': 48,\n",
            "            'Smartfren': 53,\n",
            "            'Sony': 33,\n",
            "            'Strawberry': 50,\n",
            "            'Vivo': 42,\n",
            "            'Xiaomi': 34}}\n"
          ],
          "name": "stdout"
        }
      ]
    },
    {
      "metadata": {
        "colab_type": "text",
        "id": "uCDKIHFJKfGW"
      },
      "cell_type": "markdown",
      "source": [
        "## 3- Feature Engineering"
      ]
    },
    {
      "metadata": {
        "colab_type": "text",
        "id": "uMAZArjwKBmt"
      },
      "cell_type": "markdown",
      "source": [
        "### 3.1 Divide the training data into Big categories containers (Beauty/Fashion/Mobile)"
      ]
    },
    {
      "metadata": {
        "colab_type": "code",
        "id": "cbPM_2lX9KeC",
        "colab": {}
      },
      "cell_type": "code",
      "source": [
        "# 1. add a new col that contins the big category (beauty, fashion, mobile)\n",
        "\n",
        "newCol = dftrain.image_path.apply(lambda x : x.split('_')[0])\n",
        "dftrain['mainCat'] = newCol\n",
        "# dftrain.head()"
      ],
      "execution_count": 0,
      "outputs": []
    },
    {
      "metadata": {
        "id": "H08rvdo13R9-",
        "colab_type": "text"
      },
      "cell_type": "markdown",
      "source": [
        "Check for unique values"
      ]
    },
    {
      "metadata": {
        "id": "4iK-RfMY3R-A",
        "colab_type": "code",
        "outputId": "a8dc7d7d-76f1-4920-afa2-7be281d4fe09",
        "colab": {
          "base_uri": "https://localhost:8080/",
          "height": 34
        }
      },
      "cell_type": "code",
      "source": [
        "set(dftrain['mainCat'])"
      ],
      "execution_count": 0,
      "outputs": [
        {
          "output_type": "execute_result",
          "data": {
            "text/plain": [
              "{'beauty', 'fashion', 'mobile'}"
            ]
          },
          "metadata": {
            "tags": []
          },
          "execution_count": 8
        }
      ]
    },
    {
      "metadata": {
        "colab_type": "text",
        "id": "cwHS6FuAKRd2"
      },
      "cell_type": "markdown",
      "source": [
        "### 3.2 Display the total number of samples under each category"
      ]
    },
    {
      "metadata": {
        "colab_type": "code",
        "id": "LN2eHDj49xcE",
        "outputId": "cc753768-4dde-40c1-eade-34d95574199f",
        "colab": {
          "base_uri": "https://localhost:8080/",
          "height": 277
        }
      },
      "cell_type": "code",
      "source": [
        "Beautydf= dftrain[dftrain['mainCat'] == 'beauty']\n",
        "Fashiondf= dftrain[dftrain['mainCat'] == 'fashion']\n",
        "Mobiledf= dftrain[dftrain['mainCat'] == 'mobile']\n",
        "\n",
        "plt.bar(['beauty', 'fashion', 'mobile'],[Beautydf.shape[0],Fashiondf.shape[0],Mobiledf.shape[0]],width=0.2, color='black');"
      ],
      "execution_count": 0,
      "outputs": [
        {
          "output_type": "display_data",
          "data": {
            "image/png": "[encoded data removed]",
            "text/plain": [
              "<Figure size 432x288 with 1 Axes>"
            ]
          },
          "metadata": {
            "tags": []
          }
        }
      ]
    },
    {
      "metadata": {
        "colab_type": "text",
        "id": "AmwUhgE5DqvY"
      },
      "cell_type": "markdown",
      "source": [
        "#### 3.2.1 EDA"
      ]
    },
    {
      "metadata": {
        "colab_type": "code",
        "id": "vTMye7hy-FJP",
        "outputId": "7739c888-7e3c-4169-e613-49ee22b0a87f",
        "colab": {
          "base_uri": "https://localhost:8080/",
          "height": 204
        }
      },
      "cell_type": "code",
      "source": [
        "Fashiondf.head()"
      ],
      "execution_count": 0,
      "outputs": [
        {
          "output_type": "execute_result",
          "data": {
            "text/html": [
              "<div>\n",
              "<style scoped>\n",
              "    .dataframe tbody tr th:only-of-type {\n",
              "        vertical-align: middle;\n",
              "    }\n",
              "\n",
              "    .dataframe tbody tr th {\n",
              "        vertical-align: top;\n",
              "    }\n",
              "\n",
              "    .dataframe thead th {\n",
              "        text-align: right;\n",
              "    }\n",
              "</style>\n",
              "<table border=\"1\" class=\"dataframe\">\n",
              "  <thead>\n",
              "    <tr style=\"text-align: right;\">\n",
              "      <th></th>\n",
              "      <th>itemid</th>\n",
              "      <th>title</th>\n",
              "      <th>Category</th>\n",
              "      <th>image_path</th>\n",
              "      <th>mainCat</th>\n",
              "    </tr>\n",
              "  </thead>\n",
              "  <tbody>\n",
              "    <tr>\n",
              "      <th>286583</th>\n",
              "      <td>2282553</td>\n",
              "      <td>retro floral dress</td>\n",
              "      <td>17</td>\n",
              "      <td>fashion_image/78d17fdb159bba51a4250dc3d583245e</td>\n",
              "      <td>fashion</td>\n",
              "    </tr>\n",
              "    <tr>\n",
              "      <th>286584</th>\n",
              "      <td>13822218</td>\n",
              "      <td>dress floral sifon</td>\n",
              "      <td>18</td>\n",
              "      <td>fashion_image/2f77dac9965bbfdb03cbd3724b3552c5</td>\n",
              "      <td>fashion</td>\n",
              "    </tr>\n",
              "    <tr>\n",
              "      <th>286585</th>\n",
              "      <td>33555935</td>\n",
              "      <td>korean white chiffon collar dress</td>\n",
              "      <td>18</td>\n",
              "      <td>fashion_image/6dbe2e7cba5ddbb750d2144d8f248f11</td>\n",
              "      <td>fashion</td>\n",
              "    </tr>\n",
              "    <tr>\n",
              "      <th>286586</th>\n",
              "      <td>65755120</td>\n",
              "      <td>women s trendy apricot o neck solid chiffon bl...</td>\n",
              "      <td>19</td>\n",
              "      <td>fashion_image/dc9b21429604148fc0342d12694f3294</td>\n",
              "      <td>fashion</td>\n",
              "    </tr>\n",
              "    <tr>\n",
              "      <th>286587</th>\n",
              "      <td>65857438</td>\n",
              "      <td>big sale baju gamis pesta india aysilla pancar...</td>\n",
              "      <td>20</td>\n",
              "      <td>fashion_image/6c25c578dd8edce742a805f891f1a51f</td>\n",
              "      <td>fashion</td>\n",
              "    </tr>\n",
              "  </tbody>\n",
              "</table>\n",
              "</div>"
            ],
            "text/plain": [
              "          itemid                                              title  Category  \\\n",
              "286583   2282553                                 retro floral dress        17   \n",
              "286584  13822218                                 dress floral sifon        18   \n",
              "286585  33555935                  korean white chiffon collar dress        18   \n",
              "286586  65755120  women s trendy apricot o neck solid chiffon bl...        19   \n",
              "286587  65857438  big sale baju gamis pesta india aysilla pancar...        20   \n",
              "\n",
              "                                            image_path  mainCat  \n",
              "286583  fashion_image/78d17fdb159bba51a4250dc3d583245e  fashion  \n",
              "286584  fashion_image/2f77dac9965bbfdb03cbd3724b3552c5  fashion  \n",
              "286585  fashion_image/6dbe2e7cba5ddbb750d2144d8f248f11  fashion  \n",
              "286586  fashion_image/dc9b21429604148fc0342d12694f3294  fashion  \n",
              "286587  fashion_image/6c25c578dd8edce742a805f891f1a51f  fashion  "
            ]
          },
          "metadata": {
            "tags": []
          },
          "execution_count": 10
        }
      ]
    },
    {
      "metadata": {
        "colab_type": "code",
        "id": "fRXttglcJKfM",
        "outputId": "3c15e5b9-ff02-4647-81a1-265b6d00816d",
        "colab": {
          "base_uri": "https://localhost:8080/",
          "height": 34
        }
      },
      "cell_type": "code",
      "source": [
        "Fashiondf.shape"
      ],
      "execution_count": 0,
      "outputs": [
        {
          "output_type": "execute_result",
          "data": {
            "text/plain": [
              "(219702, 5)"
            ]
          },
          "metadata": {
            "tags": []
          },
          "execution_count": 11
        }
      ]
    },
    {
      "metadata": {
        "colab_type": "text",
        "id": "XKBIlRuYLCvw"
      },
      "cell_type": "markdown",
      "source": [
        "### 3.3 Randomize the train-dataset\n",
        "\n",
        "To avoid bias in the training dataset, it is a good practice"
      ]
    },
    {
      "metadata": {
        "id": "IMB0Kw103R-Y",
        "colab_type": "code",
        "outputId": "32785e16-0142-4752-a019-04c67a83c96f",
        "colab": {
          "base_uri": "https://localhost:8080/",
          "height": 119
        }
      },
      "cell_type": "code",
      "source": [
        "Beautydf.index"
      ],
      "execution_count": 0,
      "outputs": [
        {
          "output_type": "execute_result",
          "data": {
            "text/plain": [
              "Int64Index([     0,      1,      2,      3,      4,      5,      6,      7,\n",
              "                 8,      9,\n",
              "            ...\n",
              "            286573, 286574, 286575, 286576, 286577, 286578, 286579, 286580,\n",
              "            286581, 286582],\n",
              "           dtype='int64', length=286583)"
            ]
          },
          "metadata": {
            "tags": []
          },
          "execution_count": 12
        }
      ]
    },
    {
      "metadata": {
        "colab_type": "code",
        "id": "-E7rZ5DABFv1",
        "outputId": "709329a6-47de-4c92-ff9e-a33ee004d92b",
        "colab": {
          "base_uri": "https://localhost:8080/",
          "height": 277
        }
      },
      "cell_type": "code",
      "source": [
        "# randomize datasets\n",
        "\n",
        "Beautydf = Beautydf.reindex(np.random.permutation(Beautydf.index))\n",
        "Fashiondf = Fashiondf.reindex(np.random.permutation(Fashiondf.index))\n",
        "Mobiledf = Mobiledf.reindex(np.random.permutation(Mobiledf.index))\n",
        "\n",
        "# Beautydf.Category.hist(width = 0.5)\n",
        "# Fashiondf.Category.hist(width = 0.5)\n",
        "# Mobiledf.Category.hist(width = 0.5)\n",
        "\n",
        "fig, catAx = plt.subplots(1, 1)\n",
        "\n",
        "catAx.hist(Beautydf.Category, label='Beauty', width=0.5)\n",
        "catAx.hist(Fashiondf.Category, label='Fashion', width=0.5)\n",
        "catAx.hist(Mobiledf.Category , label='Mobile', width=0.5)\n",
        "\n",
        "catAx.legend()\n",
        "plt.show()"
      ],
      "execution_count": 0,
      "outputs": [
        {
          "output_type": "display_data",
          "data": {
            "image/png": "[encoded data removed]",
            "text/plain": [
              "<Figure size 432x288 with 1 Axes>"
            ]
          },
          "metadata": {
            "tags": []
          }
        }
      ]
    },
    {
      "metadata": {
        "colab_type": "text",
        "id": "Y_wvv61oLR9d"
      },
      "cell_type": "markdown",
      "source": [
        "### 3.4 Remove any number with more than 3 digits in the dataset\n",
        "\n",
        "For example : `02854323232` which could be an id or something\n"
      ]
    },
    {
      "metadata": {
        "colab_type": "code",
        "id": "Omco1mHbA0ay",
        "outputId": "0bb9e2fd-0b72-4fff-8460-0131bb9d2571",
        "colab": {
          "base_uri": "https://localhost:8080/",
          "height": 1071
        }
      },
      "cell_type": "code",
      "source": [
        "# Remove any number in the dataset with more than or equal to 3 digits. \n",
        "\n",
        "Beautydf.title.replace(r'\\b[0-9]{3,}\\b', '', regex=True)\n",
        "Fashiondf.title.replace(r'\\b[0-9]{3,}\\b', '', regex=True)\n",
        "Mobiledf.title.replace(r'\\b[0-9]{3,}\\b', '', regex=True)"
      ],
      "execution_count": 0,
      "outputs": [
        {
          "output_type": "execute_result",
          "data": {
            "text/plain": [
              "546923           discount fastival luna g8 bets electronics\n",
              "628136     beli 1 gratis samsung galaxy a8  blue resmi sein\n",
              "513593    ready stock micro sd v gen 8gb microsd hc vgen...\n",
              "587712                                                himax\n",
              "660939                                       ori bm vivo v7\n",
              "509177             lg q6 3 32 garansi resmi indonesia hitam\n",
              "555139    promo asus rog gl552vx i7 7700hq 12gb 1tb gtx9...\n",
              "522653    handphone bm black market super promo beli 2 g...\n",
              "608583    converter adapter lightning to jack iphone 7 8...\n",
              "519121                            sony xperia z4 au z3 plus\n",
              "538395                                   iphone 6 64gb grey\n",
              "546300    diskon 50 xiomi redmi s2 4 64 promo terbatas s...\n",
              "522852    promo akbar piala dunia samsung s7 edge 32gb s...\n",
              "537782           promo samsung galaxy alpha garansi 1 tahun\n",
              "532553    wa  beli 2 bonus 1 minat serius chat  gratis i...\n",
              "548322                                         vivo v11 pro\n",
              "536877                      oppo a57 2nd smartphone android\n",
              "655987          hot promo terlaris brandcode b3 neo android\n",
              "618420                                           smartphone\n",
              "593710    termurah moto g5s plus 4g lte ram 4gb 32gb gar...\n",
              "515036    aukey pa t16 dual port usb quick charging 3 0 ...\n",
              "554692           promo serba murah mi a1 64gb garansi resmi\n",
              "622072    baca dulu baru membeli promo awaltahun kami me...\n",
              "575447                                         supercopy s7\n",
              "560147    handphone xiaomi mi 5x 4 64 gb ram 4gb interna...\n",
              "594818    acer e5  31tq core i3  4gb 1tb dvdrw 14 intel ...\n",
              "644343                        7 inch tablet hd  p quad core\n",
              "642313    promo khusus hari ini ready handphone iphone 5...\n",
              "637938                                    samsung galaxy s7\n",
              "587480                   xiaomi mi mix 6  termurah surabaya\n",
              "                                ...                        \n",
              "612347                         samsung galaxy s9 plus specs\n",
              "636315    samsung galaxy note 8 black dualsim fullset ga...\n",
              "592269    salju m2 plus lte 4g network wifi ip68 android...\n",
              "558685    diskon original kabel data charger iphone ipad...\n",
              "598347                                 oppo f9 stary purple\n",
              "545122         promo hut ri diskon vivo y71 3gb cuci gudang\n",
              "516562    promo tahun baru tablet advan s7c ram 1gb warn...\n",
              "525280    new iphone 5s 16gb original garansi distributo...\n",
              "599755    whatsapp  promo hari ini beli 2 gratis 1 samsu...\n",
              "596938    big diskon cuci gudang penghabisan headphone s...\n",
              "639265    asus zenfone max pro m1 zb620kl 3gb 32gb resmi...\n",
              "636817                                       oppo f1 selfie\n",
              "595540    garansi 1 tahun bantu claim samsung galaxy not...\n",
              "615162                                     xiaomi mi a1 tam\n",
              "520492        oppo f1s a59 3d cartoon stitch 4 soft silicon\n",
              "517087                      realme 2 4gb 64gb garansi resmi\n",
              "545010    baterai original samsung galaxy note 5 battrey...\n",
              "637324                     ramadhan sale asus zenfone go 3g\n",
              "580170    spesial ramadhan diskon thr 80 mesin cutting s...\n",
              "608791    special case black matte iphone 8 plus murah m...\n",
              "651531    model baru golf 2 meter kabel data lightning i...\n",
              "605895    promo khusus hari ini chat wa  beli 2 gratis 1...\n",
              "556929             samsung galaxy s9 4gb 64gb garansi resmi\n",
              "566035               iphone 5g 32gb black 4g lte new jnoaz6\n",
              "516031                            lg g6 dual sim card 64 gb\n",
              "602656                                samsung galaxy j5 pro\n",
              "610668    cantik boskuu tempered glass 3d samsung s9 plu...\n",
              "560511                     samsung galaxy s8 docomo plus s4\n",
              "514506    diskon seru samsung galaxy c5 ram 4gb rom 32gb...\n",
              "599721                  jakarta huawei mate 10 64gb ram 4gb\n",
              "Name: title, Length: 160330, dtype: object"
            ]
          },
          "metadata": {
            "tags": []
          },
          "execution_count": 14
        }
      ]
    },
    {
      "metadata": {
        "id": "_taxa2Hg3R-q",
        "colab_type": "code",
        "outputId": "7e9f81a6-e5e9-4b61-91a2-78bfbca5673e",
        "colab": {
          "base_uri": "https://localhost:8080/",
          "height": 272
        }
      },
      "cell_type": "code",
      "source": [
        "Fashiondf['Category'].value_counts()"
      ],
      "execution_count": 0,
      "outputs": [
        {
          "output_type": "execute_result",
          "data": {
            "text/plain": [
              "18    56598\n",
              "25    33922\n",
              "26    33845\n",
              "20    19978\n",
              "27    16199\n",
              "22    15225\n",
              "19    13493\n",
              "21    10483\n",
              "28     6493\n",
              "24     4251\n",
              "29     3338\n",
              "17     2765\n",
              "23     1671\n",
              "30     1441\n",
              "Name: Category, dtype: int64"
            ]
          },
          "metadata": {
            "tags": []
          },
          "execution_count": 15
        }
      ]
    },
    {
      "metadata": {
        "id": "GdAJxppw3R-v",
        "colab_type": "text"
      },
      "cell_type": "markdown",
      "source": [
        "#### 3.5.1 Check the phrase of the length"
      ]
    },
    {
      "metadata": {
        "id": "vfKYRN9Y3R_Q",
        "colab_type": "text"
      },
      "cell_type": "markdown",
      "source": [
        "#### 3.8 Remove the top common words across all categories which may not be helping with the classification"
      ]
    },
    {
      "metadata": {
        "colab_type": "text",
        "id": "wGJGU8K-LrFu"
      },
      "cell_type": "markdown",
      "source": [
        "## 4- Cross Validation"
      ]
    },
    {
      "metadata": {
        "colab_type": "text",
        "id": "C2s_QXTvL71M"
      },
      "cell_type": "markdown",
      "source": [
        "### 4.1 Split the training dataset into train/test"
      ]
    },
    {
      "metadata": {
        "colab_type": "code",
        "id": "78ITO1LDGDQ5",
        "colab": {}
      },
      "cell_type": "code",
      "source": [
        "B_X_train = Beautydf.title\n",
        "B_y_train = Beautydf.Category\n",
        "\n",
        "F_X_train = Fashiondf.title\n",
        "F_y_train = Fashiondf.Category\n",
        "\n",
        "M_X_train = Mobiledf.title\n",
        "M_y_train = Mobiledf.Category"
      ],
      "execution_count": 0,
      "outputs": []
    },
    {
      "metadata": {
        "id": "qLBDGgbK3R_W",
        "colab_type": "code",
        "colab": {}
      },
      "cell_type": "code",
      "source": [
        "def tokenize_data(vect, X_train, X_test):\n",
        "    ''' Tokenize the training and test set'''\n",
        "    # create document-term matrices using the vectorizer\n",
        "    X_train_dtm = vect.fit_transform(X_train)\n",
        "    X_test_dtm = vect.transform(X_test)\n",
        "\n",
        "    # print the number of features that were generated\n",
        "    #print('Features: ', X_train_dtm.shape[1])\n",
        "    \n",
        "    return X_train_dtm, X_test_dtm"
      ],
      "execution_count": 0,
      "outputs": []
    },
    {
      "metadata": {
        "id": "F5tb7wnB3R_h",
        "colab_type": "code",
        "colab": {}
      },
      "cell_type": "code",
      "source": [
        "def trainCV(X_train, y_train, vect, folds = 3, random_state=42, \n",
        "            clf=SGDClassifier(random_state=42, max_iter=5000, tol=1e-3, \n",
        "                              loss='hinge', verbose=1)):\n",
        "    ''' Train a classifier using CV'''\n",
        "    #clf = SGDClassifier(random_state=random_state)\n",
        "\n",
        "    skfolds = StratifiedKFold(n_splits=folds, random_state=random_state)\n",
        "\n",
        "    cv_start_time = monotonic()\n",
        "    \n",
        "    scores = []\n",
        "    features = []\n",
        "    for train_index, test_index in skfolds.split(X_train, y_train):\n",
        "        start_time = monotonic()\n",
        "        \n",
        "        clone_clf = clone(clf)\n",
        "        #X_train_folds = X_train[train_index]\n",
        "        y_train_folds = y_train.iloc[train_index]\n",
        "        #X_test_fold = X_train[test_index]\n",
        "        y_test_fold = y_train.iloc[test_index]\n",
        "        \n",
        "        X_train_folds,X_test_fold = tokenize_data(vect, \n",
        "                                                  X_train.iloc[train_index], \n",
        "                                                  X_train.iloc[test_index])\n",
        "        features.append(X_train_folds.shape[1])\n",
        "        \n",
        "        print (\"{} Starting the training \".format(dt.datetime.now()))\n",
        "        clone_clf.fit(X_train_folds, y_train_folds)\n",
        "        y_pred = clone_clf.predict(X_test_fold)\n",
        "        print (\"{} Completed the training \".format(dt.datetime.now()))\n",
        "\n",
        "        n_correct = sum(y_pred == y_test_fold)\n",
        "        scores.append(n_correct / len(y_pred))\n",
        "        \n",
        "        end_time = monotonic()\n",
        "        print(\"{} Training time per fold: {}\".format(dt.datetime.now(),\n",
        "                                       timedelta(seconds=end_time - start_time)))\n",
        "\n",
        "        \n",
        "    print (\"Features: {}\".format(features))\n",
        "    print(\"Features variance: %0.2f (+/- %0.2f)\" % (np.mean(features), \n",
        "                                                    np.std(features) * 2))\n",
        "    print (\"Scores: {}\".format(scores))\n",
        "    print(\"Accuracy: %0.5f (+/- %0.5f)\" % (np.mean(scores), \n",
        "                                           np.std(scores) * 2))\n",
        "    \n",
        "    cv_end_time = monotonic()\n",
        "    print(\"Total Training time: {}\".format(timedelta(seconds=cv_end_time - cv_start_time)))\n",
        "    \n",
        "    return clone_clf, scores, features"
      ],
      "execution_count": 0,
      "outputs": []
    },
    {
      "metadata": {
        "id": "QxNzzdX23R_n",
        "colab_type": "text"
      },
      "cell_type": "markdown",
      "source": [
        "### 4.2 Defining Stop words"
      ]
    },
    {
      "metadata": {
        "id": "8i-PLTDN3R_o",
        "colab_type": "code",
        "outputId": "881ade96-ab43-411a-baf6-70e5ed832a68",
        "colab": {
          "base_uri": "https://localhost:8080/",
          "height": 340
        }
      },
      "cell_type": "code",
      "source": [
        "factory = StopWordRemoverFactory()\n",
        "id_stopwords = factory.get_stop_words()\n",
        "en_stopwords  = list(stopwords.words('english'))\n",
        "stopwords = id_stopwords + en_stopwords\n",
        "stopwords[1:20]"
      ],
      "execution_count": 0,
      "outputs": [
        {
          "output_type": "execute_result",
          "data": {
            "text/plain": [
              "['untuk',\n",
              " 'pada',\n",
              " 'ke',\n",
              " 'para',\n",
              " 'namun',\n",
              " 'menurut',\n",
              " 'antara',\n",
              " 'dia',\n",
              " 'dua',\n",
              " 'ia',\n",
              " 'seperti',\n",
              " 'jika',\n",
              " 'jika',\n",
              " 'sehingga',\n",
              " 'kembali',\n",
              " 'dan',\n",
              " 'tidak',\n",
              " 'ini',\n",
              " 'karena']"
            ]
          },
          "metadata": {
            "tags": []
          },
          "execution_count": 19
        }
      ]
    },
    {
      "metadata": {
        "id": "-2pT3sxy3R_q",
        "colab_type": "text"
      },
      "cell_type": "markdown",
      "source": [
        "### 4.3 Model Training for Beauty\n",
        "\n",
        "#### 4.3.1 Optiming for nrange"
      ]
    },
    {
      "metadata": {
        "id": "c5qlwuRH3R_1",
        "colab_type": "text"
      },
      "cell_type": "markdown",
      "source": [
        "Optimal hyperparam is at nrange 1,8 with Accuracy: 0.78536 (+/- 0.00335)\n",
        "\n",
        "With slight improvement seen using One vs Rest with Accuracy: 0.78557 (+/- 0.00376)\n",
        "\n",
        "And with stop words Accuracy: 0.78435 (+/- 0.00327)\n",
        "\n",
        "* Features: [2060519, 2059314, 2055361, 2059141, 2059118]\n",
        "* Features variance: 2058690.60 (+/- 3487.51)\n",
        "* Scores: [0.7866127034523664, 0.787446355674959, 0.7855958965053998, 0.784320910106086, 0.7857579088799316]\n",
        "* Accuracy: 0.78595 (+/- 0.00210)\n",
        "* Total Training time: 0:04:07.240765"
      ]
    },
    {
      "metadata": {
        "id": "FK1TZcRmzfyE",
        "colab_type": "text"
      },
      "cell_type": "markdown",
      "source": [
        "2019-03-21 05:41:18.444888 Training time per fold: 1:09:01.194346\n",
        "\n",
        "Features: [500000, 500000]\n",
        "\n",
        "Features variance: 500000.00 (+/- 0.00)\n",
        "\n",
        "Scores: [0.7542185995226597, 0.7548590610584204]\n",
        "\n",
        "Accuracy: 0.75454 (+/- 0.00064)\n",
        "\n",
        "Total Training time: 2:30:41.566123"
      ]
    },
    {
      "metadata": {
        "id": "zswWoAGj3SAl",
        "colab_type": "text"
      },
      "cell_type": "markdown",
      "source": [
        "#### 4.4.2 Training for Optimal Model for Mobile"
      ]
    },
    {
      "metadata": {
        "colab_type": "text",
        "id": "-aY7yXcXiA5V"
      },
      "cell_type": "markdown",
      "source": [
        "Optimal hyperparam for Mobile is with nrange of 1,5 with Accuracy: 0.82828 (+/- 0.00265)\n",
        "\n",
        "Using One vs Rest is seeing slight improvement with Accuracy: 0.82856 (+/- 0.00143).\n",
        "\n",
        "And with stop words: Accuracy: 0.82006 (+/- 0.00239).\n",
        "\n",
        "* Features: [1030842, 1029869, 1029107, 1030184, 1027609]\n",
        "* Features variance: 1029522.20 (+/- 2215.01)\n",
        "* Scores: [0.8285375814446488, 0.8311040438998535, 0.8259784812100421, 0.8314981752394024, 0.8282692787621662]\n",
        "* Accuracy: 0.82908 (+/- 0.00405)\n",
        "* Total Training time: 0:02:20.155520\n",
        "\n"
      ]
    },
    {
      "metadata": {
        "id": "C7wF3MvhIOCq",
        "colab_type": "text"
      },
      "cell_type": "markdown",
      "source": [
        ""
      ]
    },
    {
      "metadata": {
        "id": "Os5KjQbx3SA0",
        "colab_type": "text"
      },
      "cell_type": "markdown",
      "source": [
        "### 4.5 Model Training for Fashion\n",
        "\n",
        "#### 4.5.1 Optiming for the nrange for Fashion"
      ]
    },
    {
      "metadata": {
        "id": "Zd_4EH8A3SA9",
        "colab_type": "text"
      },
      "cell_type": "markdown",
      "source": [
        "Optimal for Fashion is Ngram range of 1,14 with Accuracy: 0.64612 (+/- 0.00261)\n",
        "\n",
        "And using One vs Rest with Accuracy: 0.64587 (+/- 0.00192).\n",
        "\n",
        "With stop words with Accuracy: 0.64569 (+/- 0.00502).\n",
        "\n",
        "Using RandomizedGridSearch with SGD\n",
        "* Features: [2574193, 2573700, 2572438, 2571429, 2575672]\n",
        "* Features variance: 2573486.40 (+/- 2919.42)\n",
        "* Scores: [0.6499567651208301, 0.6513210295155087, 0.6532929771061854, 0.6549754187909687, 0.6576988733356094]\n",
        "* Accuracy: 0.65345 (+/- 0.00545)\n",
        "* Total Training time: 0:04:32.68714\n",
        "\n",
        "Using Logistic Regression: content/drive/My Drive/GitHub/nsdc_beginner/ModelLogR_F201903202347\n",
        "* Training time per fold: 1:14:58.622968\n",
        "* Features: [50000, 50000, 50000, 50000, 50000]\n",
        "* Features variance: 50000.00 (+/- 0.00)\n",
        "* Scores: [0.6173258089473445, 0.624695628427736, 0.620294934231487, 0.6225873998543335, 0.6203482417207238]\n",
        "* Accuracy: 0.62105 (+/- 0.00495)\n",
        "* Total Training time: 7:17:53.833652\n",
        "\n",
        "#### 4.5.2 Find Optimal Model for Fashion"
      ]
    },
    {
      "metadata": {
        "id": "PRYLLtp1LyAZ",
        "colab_type": "text"
      },
      "cell_type": "markdown",
      "source": [
        "RandomizedSearchCV took 3123.99 seconds for 3 candidates parameter settings.\n",
        "\n",
        "Model with rank: 1\n",
        "Mean validation score: 0.573 (std: 0.000)\n",
        "Parameters: {'solver': 'lbfgs', 'C': 100}\n",
        "\n",
        "Model with rank: 2\n",
        "Mean validation score: 0.573 (std: 0.000)\n",
        "Parameters: {'solver': 'sag', 'C': 100}\n",
        "\n",
        "Model with rank: 3\n",
        "Mean validation score: 0.568 (std: 0.001)\n",
        "Parameters: {'solver': 'sag', 'C': 0.01}\n",
        "\n",
        "Best score 0.5728683733118323\n",
        "\n",
        "Best estimator\n",
        "\n",
        "      LogisticRegression(C=100, class_weight=None, dual=False, fit_intercept=True,\n",
        "          intercept_scaling=1, max_iter=50000, multi_class='multinomial',\n",
        "          n_jobs=None, penalty='l2', random_state=None, solver='lbfgs',\n",
        "          tol=0.0001, verbose=2, warm_start=False)"
      ]
    },
    {
      "metadata": {
        "id": "-jgjxngLByoY",
        "colab_type": "text"
      },
      "cell_type": "markdown",
      "source": [
        "2019-03-21 06:42:15.947567 Training time per fold: 1:43:06.952375\n",
        "\n",
        "Features: [500000, 500000]\n",
        "\n",
        "Features variance: 500000.00 (+/- 0.00)\n",
        "\n",
        "Scores: [0.593522429362074, 0.5952606376199406]\n",
        "\n",
        "Accuracy: 0.59439 (+/- 0.00174)\n",
        "\n",
        "Total Training time: 3:34:55.249190"
      ]
    },
    {
      "metadata": {
        "id": "i9r37V053SB1",
        "colab_type": "text"
      },
      "cell_type": "markdown",
      "source": [
        "Best count vectorizer param appears to be at min df =1, max df = 0.6 and max features at 100,000.\n",
        "\n",
        "#### 4.5.5 Testing stemming next"
      ]
    },
    {
      "metadata": {
        "id": "kZz7xFDP3SB4",
        "colab_type": "text"
      },
      "cell_type": "markdown",
      "source": [
        "### 1.0 Fashion Optimization"
      ]
    },
    {
      "metadata": {
        "id": "aEtVuglo3SB5",
        "colab_type": "code",
        "colab": {}
      },
      "cell_type": "code",
      "source": [
        ""
      ],
      "execution_count": 0,
      "outputs": []
    },
    {
      "metadata": {
        "id": "fxbKCAfpY8Vv",
        "colab_type": "code",
        "colab": {}
      },
      "cell_type": "code",
      "source": [
        "# Utility function to report best scores\n",
        "def report(results, n_top=3):\n",
        "    for i in range(1, n_top + 1):\n",
        "        candidates = np.flatnonzero(results['rank_test_score'] == i)\n",
        "        for candidate in candidates:\n",
        "            print(\"Model with rank: {0}\".format(i))\n",
        "            print(\"Mean validation score: {0:.3f} (std: {1:.3f})\".format(\n",
        "                  results['mean_test_score'][candidate],\n",
        "                  results['std_test_score'][candidate]))\n",
        "            print(\"Parameters: {0}\".format(results['params'][candidate]))\n",
        "            print(\"\")"
      ],
      "execution_count": 0,
      "outputs": []
    },
    {
      "metadata": {
        "id": "ffGRdx3OryQj",
        "colab_type": "code",
        "colab": {}
      },
      "cell_type": "code",
      "source": [
        "F_vect = CountVectorizer(ngram_range=(1,6), analyzer='word', \n",
        "                         max_features=100000)\n",
        "Ftest_vect = CountVectorizer(ngram_range=(1,6), analyzer='word',\n",
        "                         max_features=1000)\n"
      ],
      "execution_count": 0,
      "outputs": []
    },
    {
      "metadata": {
        "id": "AMcmh3aLl2tE",
        "colab_type": "code",
        "colab": {}
      },
      "cell_type": "code",
      "source": [
        "Mtest_vect = CountVectorizer(ngram_range=(1,5),analyzer='word',\n",
        "                          max_features=1000)\n",
        "M_vect = CountVectorizer(ngram_range=(1,5), analyzer='word',\n",
        "                         max_features=100000)"
      ],
      "execution_count": 0,
      "outputs": []
    },
    {
      "metadata": {
        "colab_type": "code",
        "id": "veli5Y6Oqyxx",
        "colab": {}
      },
      "cell_type": "code",
      "source": [
        "B_vect = CountVectorizer(ngram_range=(1,8), analyzer='word',\n",
        "                         max_features=100000)\n",
        "Btest_vect = CountVectorizer(ngram_range=(1,8), analyzer='word',\n",
        "                             max_features=1000)"
      ],
      "execution_count": 0,
      "outputs": []
    },
    {
      "metadata": {
        "id": "AuHo7Pj9iZjV",
        "colab_type": "code",
        "colab": {}
      },
      "cell_type": "code",
      "source": [
        "def randomSearch(X, y, vect):\n",
        "  X_train, X_test, y_train, y_test = train_test_split(X, y, \n",
        "                                               test_size=0.33, random_state=42)\n",
        "  n_iter_search = 1\n",
        "\n",
        "  X_train_dtm, X_test_dtm = tokenize_data(vect, X_train, X_test)\n",
        "  \n",
        "  model = LogisticRegression(penalty=\"l2\", max_iter=50000, \n",
        "                             multi_class='multinomial')\n",
        "\n",
        "  params = {\n",
        "    \"C\" : [0.001,0.01,0.1,1,10,100],\n",
        "    #\"penalty\" : [\"l2\", \"l1\"],\n",
        "     \"solver\": [\"newton-cg\"] #, \"sag\", \"saga\", \"lbfgs\"]\n",
        "  }\n",
        "  \n",
        "  clf = RandomizedSearchCV(model, \n",
        "                         param_distributions=params, \n",
        "                         cv=1,\n",
        "                   scoring='accuracy',\n",
        "                   error_score='raise',\n",
        "                   verbose =2,\n",
        "                   n_jobs=-1,\n",
        "                   n_iter=n_iter_search,\n",
        "                  #loss=\"hinge\",\n",
        "                  #penalty=\"l2\"\n",
        "                  )\n",
        "  \n",
        "  start = time()\n",
        "\n",
        "  clf.fit(X_train_dtm, y_train)\n",
        "\n",
        "  print(\"RandomizedSearchCV took %.2f seconds for %d candidates\"\n",
        "        \" parameter settings.\" % ((time() - start), n_iter_search))\n",
        "  report(clf.cv_results_)\n",
        "  \n",
        "  return clf\n",
        "\n",
        "def printBestScore(clf):\n",
        "  print(\"Best score {}\".format(clf.best_score_))\n",
        "  print(\"Best estimator {}\".format(clf.best_estimator_))"
      ],
      "execution_count": 0,
      "outputs": []
    },
    {
      "metadata": {
        "id": "wPg5reFFkh5i",
        "colab_type": "code",
        "colab": {}
      },
      "cell_type": "code",
      "source": [
        "X_train, X_test, y_train, y_test = train_test_split(F_X_train, F_y_train, \n",
        "                                               test_size=0.3, random_state=42)"
      ],
      "execution_count": 0,
      "outputs": []
    },
    {
      "metadata": {
        "id": "MA8WCao0pk0x",
        "colab_type": "code",
        "outputId": "c9611a0e-602f-4ff1-e6fb-68bc9c8d826b",
        "colab": {
          "base_uri": "https://localhost:8080/",
          "height": 119
        }
      },
      "cell_type": "code",
      "source": [
        "X_train.head()"
      ],
      "execution_count": 0,
      "outputs": [
        {
          "output_type": "execute_result",
          "data": {
            "text/plain": [
              "439488    blus sexy model off shoulder kerah halter moti...\n",
              "392937    dress mini skinny sexy lengan panjang crew nec...\n",
              "366671      korean women slim thin plaid long sleeved dress\n",
              "370689    gaun pesta tanpa lengan dengan hiasan pita dan...\n",
              "318709    dress wanita sexy model off shoulder untuk mus...\n",
              "Name: title, dtype: object"
            ]
          },
          "metadata": {
            "tags": []
          },
          "execution_count": 26
        }
      ]
    },
    {
      "metadata": {
        "id": "zx-OaQk1oz0_",
        "colab_type": "text"
      },
      "cell_type": "markdown",
      "source": [
        "BOW with KERAS"
      ]
    },
    {
      "metadata": {
        "id": "6j1xwL6Ro1Ty",
        "colab_type": "code",
        "outputId": "eda0145e-f5bb-499e-f1f5-758c7ca673c6",
        "colab": {
          "base_uri": "https://localhost:8080/",
          "height": 34
        }
      },
      "cell_type": "code",
      "source": [
        "import itertools\n",
        "import os\n",
        "\n",
        "%matplotlib inline\n",
        "import matplotlib.pyplot as plt\n",
        "import numpy as np\n",
        "import pandas as pd\n",
        "import tensorflow as tf\n",
        "\n",
        "from sklearn.preprocessing import LabelBinarizer, LabelEncoder\n",
        "from sklearn.metrics import confusion_matrix\n",
        "\n",
        "from tensorflow import keras\n",
        "from keras.models import Sequential\n",
        "from keras.layers import Dense, Activation, Dropout\n",
        "from keras.preprocessing import text, sequence\n",
        "from keras import utils"
      ],
      "execution_count": 0,
      "outputs": [
        {
          "output_type": "stream",
          "text": [
            "Using TensorFlow backend.\n"
          ],
          "name": "stderr"
        }
      ]
    },
    {
      "metadata": {
        "id": "meSg7n1-o5B8",
        "colab_type": "code",
        "colab": {}
      },
      "cell_type": "code",
      "source": [
        "max_words = 1000\n",
        "tokenize = text.Tokenizer(num_words=max_words, char_level=False)"
      ],
      "execution_count": 0,
      "outputs": []
    },
    {
      "metadata": {
        "id": "9gkwcj04pDDT",
        "colab_type": "code",
        "colab": {}
      },
      "cell_type": "code",
      "source": [
        "tokenize.fit_on_texts(X_train) # only fit on train\n",
        "x_train = tokenize.texts_to_matrix(X_train)\n",
        "x_test = tokenize.texts_to_matrix(X_test)"
      ],
      "execution_count": 0,
      "outputs": []
    },
    {
      "metadata": {
        "id": "HOXPBRdYp6gu",
        "colab_type": "code",
        "colab": {}
      },
      "cell_type": "code",
      "source": [
        "num_classes = np.max(y_train) + 1\n",
        "y_train = utils.to_categorical(y_train, num_classes)\n",
        "y_test = utils.to_categorical(y_test, num_classes)"
      ],
      "execution_count": 0,
      "outputs": []
    },
    {
      "metadata": {
        "id": "UflphiIap3X-",
        "colab_type": "code",
        "outputId": "65ec0bf3-b9dd-45ce-d8c9-a3c538751f7b",
        "colab": {
          "base_uri": "https://localhost:8080/",
          "height": 85
        }
      },
      "cell_type": "code",
      "source": [
        "print('x_train shape:', x_train.shape)\n",
        "print('x_test shape:', x_test.shape)\n",
        "print('y_train shape:', y_train.shape)\n",
        "print('y_test shape:', y_test.shape)"
      ],
      "execution_count": 0,
      "outputs": [
        {
          "output_type": "stream",
          "text": [
            "x_train shape: (153791, 1000)\n",
            "x_test shape: (65911, 1000)\n",
            "y_train shape: (153791, 31)\n",
            "y_test shape: (65911, 31)\n"
          ],
          "name": "stdout"
        }
      ]
    },
    {
      "metadata": {
        "id": "_tWAWfcEqA0i",
        "colab_type": "code",
        "colab": {}
      },
      "cell_type": "code",
      "source": [
        "batch_size = 64\n",
        "epochs = 30"
      ],
      "execution_count": 0,
      "outputs": []
    },
    {
      "metadata": {
        "id": "6kSCJVCko5Nt",
        "colab_type": "text"
      },
      "cell_type": "markdown",
      "source": [
        ""
      ]
    },
    {
      "metadata": {
        "id": "v0DWP4JTqERo",
        "colab_type": "code",
        "colab": {}
      },
      "cell_type": "code",
      "source": [
        "from keras import optimizers\n",
        "from keras.layers import LeakyReLU\n",
        "\n",
        "\n",
        "# Build the model\n",
        "model = Sequential()\n",
        "model.add(Dense(512, input_shape=(max_words,)))\n",
        "sgd = optimizers.SGD(lr=0.01, decay=1e-6, momentum=0.9, nesterov=True)\n",
        "\n",
        "model.add(Activation('relu')) #'relu'))\n",
        "#model.add(LeakyReLU(alpha=0.1))\n",
        "\n",
        "model.add(Dropout(0.5))\n",
        "model.add(Dense(num_classes))\n",
        "model.add(Activation('softmax'))\n",
        "\n",
        "\n",
        "\n",
        "model.compile(loss='categorical_crossentropy',\n",
        "              optimizer= 'adam',\n",
        "              metrics=['accuracy'])"
      ],
      "execution_count": 0,
      "outputs": []
    },
    {
      "metadata": {
        "id": "6CxXzXqXqHd7",
        "colab_type": "code",
        "outputId": "c0e4744a-391d-4269-a1aa-2941aad08d31",
        "colab": {
          "base_uri": "https://localhost:8080/",
          "height": 965
        }
      },
      "cell_type": "code",
      "source": [
        "history = model.fit(x_train, y_train,\n",
        "                    batch_size=batch_size,\n",
        "                    epochs=epochs,\n",
        "                    verbose=1,\n",
        "                    validation_split=0.1)"
      ],
      "execution_count": 0,
      "outputs": [
        {
          "output_type": "stream",
          "text": [
            "Train on 138411 samples, validate on 15380 samples\n",
            "Epoch 1/30\n",
            "138411/138411 [==============================] - 12s 86us/step - loss: 2.0454 - acc: 0.3203 - val_loss: 1.9599 - val_acc: 0.3413\n",
            "Epoch 2/30\n",
            "138411/138411 [==============================] - 11s 82us/step - loss: 1.9810 - acc: 0.3401 - val_loss: 1.9376 - val_acc: 0.3528\n",
            "Epoch 3/30\n",
            "138411/138411 [==============================] - 11s 82us/step - loss: 1.9622 - acc: 0.3467 - val_loss: 1.9262 - val_acc: 0.3549\n",
            "Epoch 4/30\n",
            "102912/138411 [=====================>........] - ETA: 2s - loss: 1.9505 - acc: 0.3504"
          ],
          "name": "stdout"
        },
        {
          "output_type": "error",
          "ename": "KeyboardInterrupt",
          "evalue": "ignored",
          "traceback": [
            "\u001b[0;31m---------------------------------------------------------------------------\u001b[0m",
            "\u001b[0;31mKeyboardInterrupt\u001b[0m                         Traceback (most recent call last)",
            "\u001b[0;32m<ipython-input-60-db849873d73b>\u001b[0m in \u001b[0;36m<module>\u001b[0;34m()\u001b[0m\n\u001b[1;32m      3\u001b[0m                     \u001b[0mepochs\u001b[0m\u001b[0;34m=\u001b[0m\u001b[0mepochs\u001b[0m\u001b[0;34m,\u001b[0m\u001b[0;34m\u001b[0m\u001b[0;34m\u001b[0m\u001b[0m\n\u001b[1;32m      4\u001b[0m                     \u001b[0mverbose\u001b[0m\u001b[0;34m=\u001b[0m\u001b[0;36m1\u001b[0m\u001b[0;34m,\u001b[0m\u001b[0;34m\u001b[0m\u001b[0;34m\u001b[0m\u001b[0m\n\u001b[0;32m----> 5\u001b[0;31m                     validation_split=0.1)\n\u001b[0m",
            "\u001b[0;32m/usr/local/lib/python3.6/dist-packages/keras/engine/training.py\u001b[0m in \u001b[0;36mfit\u001b[0;34m(self, x, y, batch_size, epochs, verbose, callbacks, validation_split, validation_data, shuffle, class_weight, sample_weight, initial_epoch, steps_per_epoch, validation_steps, **kwargs)\u001b[0m\n\u001b[1;32m   1037\u001b[0m                                         \u001b[0minitial_epoch\u001b[0m\u001b[0;34m=\u001b[0m\u001b[0minitial_epoch\u001b[0m\u001b[0;34m,\u001b[0m\u001b[0;34m\u001b[0m\u001b[0;34m\u001b[0m\u001b[0m\n\u001b[1;32m   1038\u001b[0m                                         \u001b[0msteps_per_epoch\u001b[0m\u001b[0;34m=\u001b[0m\u001b[0msteps_per_epoch\u001b[0m\u001b[0;34m,\u001b[0m\u001b[0;34m\u001b[0m\u001b[0;34m\u001b[0m\u001b[0m\n\u001b[0;32m-> 1039\u001b[0;31m                                         validation_steps=validation_steps)\n\u001b[0m\u001b[1;32m   1040\u001b[0m \u001b[0;34m\u001b[0m\u001b[0m\n\u001b[1;32m   1041\u001b[0m     def evaluate(self, x=None, y=None,\n",
            "\u001b[0;32m/usr/local/lib/python3.6/dist-packages/keras/engine/training_arrays.py\u001b[0m in \u001b[0;36mfit_loop\u001b[0;34m(model, f, ins, out_labels, batch_size, epochs, verbose, callbacks, val_f, val_ins, shuffle, callback_metrics, initial_epoch, steps_per_epoch, validation_steps)\u001b[0m\n\u001b[1;32m    197\u001b[0m                     \u001b[0mins_batch\u001b[0m\u001b[0;34m[\u001b[0m\u001b[0mi\u001b[0m\u001b[0;34m]\u001b[0m \u001b[0;34m=\u001b[0m \u001b[0mins_batch\u001b[0m\u001b[0;34m[\u001b[0m\u001b[0mi\u001b[0m\u001b[0;34m]\u001b[0m\u001b[0;34m.\u001b[0m\u001b[0mtoarray\u001b[0m\u001b[0;34m(\u001b[0m\u001b[0;34m)\u001b[0m\u001b[0;34m\u001b[0m\u001b[0;34m\u001b[0m\u001b[0m\n\u001b[1;32m    198\u001b[0m \u001b[0;34m\u001b[0m\u001b[0m\n\u001b[0;32m--> 199\u001b[0;31m                 \u001b[0mouts\u001b[0m \u001b[0;34m=\u001b[0m \u001b[0mf\u001b[0m\u001b[0;34m(\u001b[0m\u001b[0mins_batch\u001b[0m\u001b[0;34m)\u001b[0m\u001b[0;34m\u001b[0m\u001b[0;34m\u001b[0m\u001b[0m\n\u001b[0m\u001b[1;32m    200\u001b[0m                 \u001b[0mouts\u001b[0m \u001b[0;34m=\u001b[0m \u001b[0mto_list\u001b[0m\u001b[0;34m(\u001b[0m\u001b[0mouts\u001b[0m\u001b[0;34m)\u001b[0m\u001b[0;34m\u001b[0m\u001b[0;34m\u001b[0m\u001b[0m\n\u001b[1;32m    201\u001b[0m                 \u001b[0;32mfor\u001b[0m \u001b[0ml\u001b[0m\u001b[0;34m,\u001b[0m \u001b[0mo\u001b[0m \u001b[0;32min\u001b[0m \u001b[0mzip\u001b[0m\u001b[0;34m(\u001b[0m\u001b[0mout_labels\u001b[0m\u001b[0;34m,\u001b[0m \u001b[0mouts\u001b[0m\u001b[0;34m)\u001b[0m\u001b[0;34m:\u001b[0m\u001b[0;34m\u001b[0m\u001b[0;34m\u001b[0m\u001b[0m\n",
            "\u001b[0;32m/usr/local/lib/python3.6/dist-packages/keras/backend/tensorflow_backend.py\u001b[0m in \u001b[0;36m__call__\u001b[0;34m(self, inputs)\u001b[0m\n\u001b[1;32m   2713\u001b[0m                 \u001b[0;32mreturn\u001b[0m \u001b[0mself\u001b[0m\u001b[0;34m.\u001b[0m\u001b[0m_legacy_call\u001b[0m\u001b[0;34m(\u001b[0m\u001b[0minputs\u001b[0m\u001b[0;34m)\u001b[0m\u001b[0;34m\u001b[0m\u001b[0;34m\u001b[0m\u001b[0m\n\u001b[1;32m   2714\u001b[0m \u001b[0;34m\u001b[0m\u001b[0m\n\u001b[0;32m-> 2715\u001b[0;31m             \u001b[0;32mreturn\u001b[0m \u001b[0mself\u001b[0m\u001b[0;34m.\u001b[0m\u001b[0m_call\u001b[0m\u001b[0;34m(\u001b[0m\u001b[0minputs\u001b[0m\u001b[0;34m)\u001b[0m\u001b[0;34m\u001b[0m\u001b[0;34m\u001b[0m\u001b[0m\n\u001b[0m\u001b[1;32m   2716\u001b[0m         \u001b[0;32melse\u001b[0m\u001b[0;34m:\u001b[0m\u001b[0;34m\u001b[0m\u001b[0;34m\u001b[0m\u001b[0m\n\u001b[1;32m   2717\u001b[0m             \u001b[0;32mif\u001b[0m \u001b[0mpy_any\u001b[0m\u001b[0;34m(\u001b[0m\u001b[0mis_tensor\u001b[0m\u001b[0;34m(\u001b[0m\u001b[0mx\u001b[0m\u001b[0;34m)\u001b[0m \u001b[0;32mfor\u001b[0m \u001b[0mx\u001b[0m \u001b[0;32min\u001b[0m \u001b[0minputs\u001b[0m\u001b[0;34m)\u001b[0m\u001b[0;34m:\u001b[0m\u001b[0;34m\u001b[0m\u001b[0;34m\u001b[0m\u001b[0m\n",
            "\u001b[0;32m/usr/local/lib/python3.6/dist-packages/keras/backend/tensorflow_backend.py\u001b[0m in \u001b[0;36m_call\u001b[0;34m(self, inputs)\u001b[0m\n\u001b[1;32m   2673\u001b[0m             \u001b[0mfetched\u001b[0m \u001b[0;34m=\u001b[0m \u001b[0mself\u001b[0m\u001b[0;34m.\u001b[0m\u001b[0m_callable_fn\u001b[0m\u001b[0;34m(\u001b[0m\u001b[0;34m*\u001b[0m\u001b[0marray_vals\u001b[0m\u001b[0;34m,\u001b[0m \u001b[0mrun_metadata\u001b[0m\u001b[0;34m=\u001b[0m\u001b[0mself\u001b[0m\u001b[0;34m.\u001b[0m\u001b[0mrun_metadata\u001b[0m\u001b[0;34m)\u001b[0m\u001b[0;34m\u001b[0m\u001b[0;34m\u001b[0m\u001b[0m\n\u001b[1;32m   2674\u001b[0m         \u001b[0;32melse\u001b[0m\u001b[0;34m:\u001b[0m\u001b[0;34m\u001b[0m\u001b[0;34m\u001b[0m\u001b[0m\n\u001b[0;32m-> 2675\u001b[0;31m             \u001b[0mfetched\u001b[0m \u001b[0;34m=\u001b[0m \u001b[0mself\u001b[0m\u001b[0;34m.\u001b[0m\u001b[0m_callable_fn\u001b[0m\u001b[0;34m(\u001b[0m\u001b[0;34m*\u001b[0m\u001b[0marray_vals\u001b[0m\u001b[0;34m)\u001b[0m\u001b[0;34m\u001b[0m\u001b[0;34m\u001b[0m\u001b[0m\n\u001b[0m\u001b[1;32m   2676\u001b[0m         \u001b[0;32mreturn\u001b[0m \u001b[0mfetched\u001b[0m\u001b[0;34m[\u001b[0m\u001b[0;34m:\u001b[0m\u001b[0mlen\u001b[0m\u001b[0;34m(\u001b[0m\u001b[0mself\u001b[0m\u001b[0;34m.\u001b[0m\u001b[0moutputs\u001b[0m\u001b[0;34m)\u001b[0m\u001b[0;34m]\u001b[0m\u001b[0;34m\u001b[0m\u001b[0;34m\u001b[0m\u001b[0m\n\u001b[1;32m   2677\u001b[0m \u001b[0;34m\u001b[0m\u001b[0m\n",
            "\u001b[0;32m/usr/local/lib/python3.6/dist-packages/tensorflow/python/client/session.py\u001b[0m in \u001b[0;36m__call__\u001b[0;34m(self, *args, **kwargs)\u001b[0m\n\u001b[1;32m   1437\u001b[0m           ret = tf_session.TF_SessionRunCallable(\n\u001b[1;32m   1438\u001b[0m               \u001b[0mself\u001b[0m\u001b[0;34m.\u001b[0m\u001b[0m_session\u001b[0m\u001b[0;34m.\u001b[0m\u001b[0m_session\u001b[0m\u001b[0;34m,\u001b[0m \u001b[0mself\u001b[0m\u001b[0;34m.\u001b[0m\u001b[0m_handle\u001b[0m\u001b[0;34m,\u001b[0m \u001b[0margs\u001b[0m\u001b[0;34m,\u001b[0m \u001b[0mstatus\u001b[0m\u001b[0;34m,\u001b[0m\u001b[0;34m\u001b[0m\u001b[0;34m\u001b[0m\u001b[0m\n\u001b[0;32m-> 1439\u001b[0;31m               run_metadata_ptr)\n\u001b[0m\u001b[1;32m   1440\u001b[0m         \u001b[0;32mif\u001b[0m \u001b[0mrun_metadata\u001b[0m\u001b[0;34m:\u001b[0m\u001b[0;34m\u001b[0m\u001b[0;34m\u001b[0m\u001b[0m\n\u001b[1;32m   1441\u001b[0m           \u001b[0mproto_data\u001b[0m \u001b[0;34m=\u001b[0m \u001b[0mtf_session\u001b[0m\u001b[0;34m.\u001b[0m\u001b[0mTF_GetBuffer\u001b[0m\u001b[0;34m(\u001b[0m\u001b[0mrun_metadata_ptr\u001b[0m\u001b[0;34m)\u001b[0m\u001b[0;34m\u001b[0m\u001b[0;34m\u001b[0m\u001b[0m\n",
            "\u001b[0;31mKeyboardInterrupt\u001b[0m: "
          ]
        }
      ]
    },
    {
      "metadata": {
        "id": "r6wWDm3QqK-X",
        "colab_type": "code",
        "colab": {}
      },
      "cell_type": "code",
      "source": [
        "score = model.evaluate(x_test, y_test,\n",
        "                       batch_size=batch_size, verbose=1)\n",
        "print('Test accuracy:', score[1])"
      ],
      "execution_count": 0,
      "outputs": []
    },
    {
      "metadata": {
        "id": "y9lCYUVMtnu-",
        "colab_type": "text"
      },
      "cell_type": "markdown",
      "source": [
        "with default:\n",
        "\n",
        "Test accuracy: 0.6328078772863587"
      ]
    },
    {
      "metadata": {
        "id": "SpD8ONJLttA1",
        "colab_type": "text"
      },
      "cell_type": "markdown",
      "source": [
        "with momentum nesterov\n",
        "\n",
        "Test accuracy: 0.6246605270572061"
      ]
    },
    {
      "metadata": {
        "id": "yzRdb_FBuq9i",
        "colab_type": "text"
      },
      "cell_type": "markdown",
      "source": [
        "with elu\n",
        "\n",
        "Test accuracy: 0.603556310773679"
      ]
    },
    {
      "metadata": {
        "id": "gSCRyzAHvsEr",
        "colab_type": "text"
      },
      "cell_type": "markdown",
      "source": [
        "with leaky relu\n",
        "\n",
        "Test accuracy: 0.6293638391281404"
      ]
    },
    {
      "metadata": {
        "id": "lzgG-Xmoo46f",
        "colab_type": "code",
        "colab": {}
      },
      "cell_type": "code",
      "source": [
        ""
      ],
      "execution_count": 0,
      "outputs": []
    },
    {
      "metadata": {
        "id": "oUDjGAZpqRXs",
        "colab_type": "text"
      },
      "cell_type": "markdown",
      "source": [
        ""
      ]
    },
    {
      "metadata": {
        "id": "8SKoz4za3SB8",
        "colab_type": "code",
        "colab": {}
      },
      "cell_type": "code",
      "source": [
        "from sklearn.naive_bayes import MultinomialNB\n",
        "from sklearn.pipeline import Pipeline\n",
        "from sklearn.feature_extraction.text import TfidfTransformer\n",
        "\n",
        "nb = Pipeline([('vect', F_vect),\n",
        "               ('tfidf', TfidfTransformer()),\n",
        "               ('clf', MultinomialNB()),\n",
        "              ])\n",
        "nb.fit(X_train, y_train)"
      ],
      "execution_count": 0,
      "outputs": []
    },
    {
      "metadata": {
        "id": "M-jgVU2qkatA",
        "colab_type": "code",
        "colab": {}
      },
      "cell_type": "code",
      "source": [
        "%%time\n",
        "from sklearn.metrics import classification_report\n",
        "y_pred = nb.predict(X_test)\n",
        "\n",
        "print('accuracy %s' % accuracy_score(y_pred, y_test))\n",
        "print(classification_report(y_test, y_pred))"
      ],
      "execution_count": 0,
      "outputs": []
    },
    {
      "metadata": {
        "id": "yYuiR6KRkEon",
        "colab_type": "text"
      },
      "cell_type": "markdown",
      "source": [
        "Linear support next"
      ]
    },
    {
      "metadata": {
        "id": "OalmXbg9lnUO",
        "colab_type": "code",
        "colab": {}
      },
      "cell_type": "code",
      "source": [
        "from sklearn.linear_model import SGDClassifier\n",
        "\n",
        "sgd = Pipeline([('vect', F_vect),\n",
        "                ('tfidf', TfidfTransformer()),\n",
        "                ('clf', SGDClassifier(loss='hinge', penalty='l2',alpha=1e-3, \n",
        "                                      random_state=42, max_iter=5, tol=None)),\n",
        "               ])\n",
        "sgd.fit(X_train, y_train)"
      ],
      "execution_count": 0,
      "outputs": []
    },
    {
      "metadata": {
        "id": "0KxiKuxkmA0G",
        "colab_type": "code",
        "colab": {}
      },
      "cell_type": "code",
      "source": [
        "%%time\n",
        "\n",
        "y_pred = sgd.predict(X_test)\n",
        "\n",
        "print('accuracy %s' % accuracy_score(y_pred, y_test))\n",
        "print(classification_report(y_test, y_pred))"
      ],
      "execution_count": 0,
      "outputs": []
    },
    {
      "metadata": {
        "id": "XJlAQdoOmRbq",
        "colab_type": "text"
      },
      "cell_type": "markdown",
      "source": [
        "Word2Vec"
      ]
    },
    {
      "metadata": {
        "id": "fCVaMwVcmVMZ",
        "colab_type": "code",
        "colab": {}
      },
      "cell_type": "code",
      "source": [
        "!pip install gensim"
      ],
      "execution_count": 0,
      "outputs": []
    },
    {
      "metadata": {
        "id": "1W_8T9Q3mSs1",
        "colab_type": "code",
        "colab": {}
      },
      "cell_type": "code",
      "source": [
        "%%time\n",
        "import gensim\n",
        "from gensim.models import Word2Vec\n",
        "\n",
        "gnews_vect = '/content/drive/My Drive/GoogleNews-vectors-negative300.bin.gz'\n",
        "wv = gensim.models.KeyedVectors.load_word2vec_format(gnews_vect, binary=True)\n",
        "wv.init_sims(replace=True)"
      ],
      "execution_count": 0,
      "outputs": []
    },
    {
      "metadata": {
        "id": "XYfv8wnDdPLv",
        "colab_type": "text"
      },
      "cell_type": "markdown",
      "source": [
        "Running using the best model"
      ]
    },
    {
      "metadata": {
        "id": "qG706HK64rsp",
        "colab_type": "text"
      },
      "cell_type": "markdown",
      "source": [
        "With 1000 features\n",
        "* Training time per fold: 0:14:10.745222\n",
        "* Features: [1000, 1000, 1000, 1000, 1000]\n",
        "* Features variance: 1000.00 (+/- 0.00)\n",
        "* Scores: [0.5821917808219178, 0.5859863914616662, 0.5845432615720723, 0.5829843408594318, 0.5824741094799135]\n",
        "* Accuracy: 0.58364 (+/- 0.00286)\n",
        "* Total Training time: 1:11:50.006892\n",
        "\n",
        "* Best score 0.5771924234838189\n",
        "* Best estimator \n",
        "          LogisticRegression(C=0.1, class_weight=None, dual=False, fit_intercept=True,\n",
        "          intercept_scaling=1, max_iter=50000, multi_class='multinomial',\n",
        "          n_jobs=None, penalty='l2', random_state=None, solver='newton-cg',\n",
        "          tol=0.0001, verbose=2, warm_start=False)"
      ]
    },
    {
      "metadata": {
        "id": "KcQzzQzqdQw2",
        "colab_type": "code",
        "colab": {}
      },
      "cell_type": "code",
      "source": [
        "#F_bestModel = F_clf.best_estimator_\n",
        "F_bestModel = LogisticRegression(C=100, class_weight=None, dual=False, \n",
        "                                 fit_intercept=True,\n",
        "          intercept_scaling=1, max_iter=50000, multi_class='multinomial',\n",
        "          n_jobs=-1, penalty='l2', random_state=42, solver='lbfgs',\n",
        "          tol=0.0001, verbose=2, warm_start=False)"
      ],
      "execution_count": 0,
      "outputs": []
    },
    {
      "metadata": {
        "id": "RreUGjMLNaug",
        "colab_type": "code",
        "colab": {}
      },
      "cell_type": "code",
      "source": [
        "F5_vect = CountVectorizer(ngram_range=(1,6), analyzer='word', \n",
        "                         max_features=500000)"
      ],
      "execution_count": 0,
      "outputs": []
    },
    {
      "metadata": {
        "id": "YJ547zSwdvb6",
        "colab_type": "code",
        "colab": {}
      },
      "cell_type": "code",
      "source": [
        "Fo_logr, Fo_scores, Fo_features = trainCV(F_X_train, F_y_train, vect=F5_vect, \n",
        "                                         clf=F_bestModel, folds=2)"
      ],
      "execution_count": 0,
      "outputs": []
    },
    {
      "metadata": {
        "id": "7HGXcUdp4XPy",
        "colab_type": "text"
      },
      "cell_type": "markdown",
      "source": [
        "50000 features this time"
      ]
    },
    {
      "metadata": {
        "id": "NX3TkGjld8V6",
        "colab_type": "text"
      },
      "cell_type": "markdown",
      "source": [
        "Save the model"
      ]
    },
    {
      "metadata": {
        "id": "uN57YZgDd9S4",
        "colab_type": "code",
        "colab": {}
      },
      "cell_type": "code",
      "source": [
        "# Save Model Using Pickle\n",
        "\n",
        "\n",
        "if True:\n",
        "  model_path = \"/content/drive/My Drive/GitHub/nsdc_beginner/ModelLogR_F5_{}\".format(dt.datetime.today().strftime('%Y%m%d%H%M'))\n",
        "  if (not os.path.exists(model_path)):\n",
        "    os.mkdir(model_path)\n",
        "\n",
        "  # save the model to disk\n",
        "  filename = 'finalized_model.sav'\n",
        "  pickle.dump(Fo_logr, open(os.path.join(model_path,filename), 'wb'))\n",
        "\n",
        "  # save the vectorizer as well\n",
        "  v_filename = \"vector.pkl\"\n",
        "  pickle.dump(F5_vect, open(os.path.join(model_path,v_filename), \"wb\"))\n",
        "\n",
        "  print (\"Save the model the vectorizer to disk\")\n"
      ],
      "execution_count": 0,
      "outputs": []
    },
    {
      "metadata": {
        "id": "a48qnQI7fJeI",
        "colab_type": "text"
      },
      "cell_type": "markdown",
      "source": [
        "Reload the model and vocabulary"
      ]
    },
    {
      "metadata": {
        "id": "JmNs0LFtfLy5",
        "colab_type": "code",
        "colab": {}
      },
      "cell_type": "code",
      "source": [
        "# load the model from disk\n",
        "F_Logr = pickle.load(open(os.path.join(model_path,filename), 'rb'))\n",
        "F_Logr"
      ],
      "execution_count": 0,
      "outputs": []
    },
    {
      "metadata": {
        "id": "nxj4nNXzg7Hu",
        "colab_type": "code",
        "colab": {}
      },
      "cell_type": "code",
      "source": [
        "F_vec = pickle.load(open(os.path.join(model_path,v_filename), \"rb\"))\n",
        "F_vec"
      ],
      "execution_count": 0,
      "outputs": []
    },
    {
      "metadata": {
        "id": "WflZYBOOjooR",
        "colab_type": "text"
      },
      "cell_type": "markdown",
      "source": [
        "### 2.0 For Beauty"
      ]
    },
    {
      "metadata": {
        "id": "CKKKQ5zXG56g",
        "colab_type": "text"
      },
      "cell_type": "markdown",
      "source": [
        "with 1000 features\n",
        "\n",
        "RandomizedSearchCV took 2464.68 seconds for 3 candidates parameter settings.\n",
        "\n",
        "Model with rank: 1\n",
        "Mean validation score: 0.738 (std: 0.000)\n",
        "Parameters: {'solver': 'newton-cg', 'C': 10}\n",
        "\n",
        "Model with rank: 2\n",
        "Mean validation score: 0.737 (std: 0.001)\n",
        "Parameters: {'solver': 'newton-cg', 'C': 0.1}\n",
        "\n",
        "Model with rank: 3\n",
        "Mean validation score: 0.737 (std: 0.000)\n",
        "Parameters: {'solver': 'sag', 'C': 100}\n",
        "\n",
        "Best score 0.7376226272132717\n",
        "Best estimator LogisticRegression(C=10, class_weight=None, dual=False, fit_intercept=True,\n",
        "          intercept_scaling=1, max_iter=50000, multi_class='multinomial',\n",
        "          n_jobs=None, penalty='l2', random_state=None, solver='newton-cg',\n",
        "          tol=0.0001, verbose=2, warm_start=False)"
      ]
    },
    {
      "metadata": {
        "id": "tPaPvPYrjwiA",
        "colab_type": "code",
        "colab": {}
      },
      "cell_type": "code",
      "source": [
        "B_vect = CountVectorizer(ngram_range=(1,8))\n",
        "Bs_vect = CountVectorizer(ngram_range=(1,8), stop_words=stopwords)"
      ],
      "execution_count": 0,
      "outputs": []
    },
    {
      "metadata": {
        "id": "-8g-kp6Zjqk5",
        "colab_type": "code",
        "colab": {}
      },
      "cell_type": "code",
      "source": [
        "B_clf = randomSearch(B_X_train, B_y_train, Bs_vect)"
      ],
      "execution_count": 0,
      "outputs": []
    },
    {
      "metadata": {
        "id": "mPpNKgDlj9P3",
        "colab_type": "code",
        "colab": {}
      },
      "cell_type": "code",
      "source": [
        "printBestScore(B_clf)"
      ],
      "execution_count": 0,
      "outputs": []
    },
    {
      "metadata": {
        "id": "uYFYqbY_kXFP",
        "colab_type": "code",
        "colab": {}
      },
      "cell_type": "code",
      "source": [
        "B_bestModel = B_clf.best_estimator_"
      ],
      "execution_count": 0,
      "outputs": []
    },
    {
      "metadata": {
        "id": "-EZPrbMfkEuX",
        "colab_type": "code",
        "colab": {}
      },
      "cell_type": "code",
      "source": [
        "Bo_sgd, Bo_scores, Bo_features = trainCV(B_X_train, B_y_train, vect=Bs_vect, \n",
        "                                         clf=B_bestModel)"
      ],
      "execution_count": 0,
      "outputs": []
    },
    {
      "metadata": {
        "colab_type": "text",
        "id": "4caOIWO8k9mL"
      },
      "cell_type": "markdown",
      "source": [
        "### 3.0 For Mobile"
      ]
    },
    {
      "metadata": {
        "id": "zOorQ_xrEgSG",
        "colab_type": "text"
      },
      "cell_type": "markdown",
      "source": [
        "RandomizedSearchCV took 1617.47 seconds for 3 candidates parameter settings.\n",
        "\n",
        "Model with rank: 1\n",
        "Mean validation score: 0.781 (std: 0.000)\n",
        "Parameters: {'solver': 'newton-cg', 'C': 10}\n",
        "\n",
        "Model with rank: 2\n",
        "Mean validation score: 0.754 (std: 0.000)\n",
        "Parameters: {'solver': 'sag', 'C': 0.01}\n",
        "\n",
        "Model with rank: 3\n",
        "Mean validation score: 0.697 (std: 0.001)\n",
        "Parameters: {'solver': 'saga', 'C': 0.001}\n",
        "\n",
        "LogisticRegression(C=10, class_weight=None, dual=False, fit_intercept=True,\n",
        "          intercept_scaling=1, max_iter=50000, multi_class='multinomial',\n",
        "          n_jobs=None, penalty='l2', random_state=None, solver='newton-cg',\n",
        "          tol=0.0001, verbose=2, warm_start=False)"
      ]
    },
    {
      "metadata": {
        "id": "idPYSC4iIb0d",
        "colab_type": "text"
      },
      "cell_type": "markdown",
      "source": [
        "2019-03-21 02:41:10.123337 Training time per fold: 0:04:34.997758\n",
        "\n",
        "Features: [100000, 100000]\n",
        "\n",
        "Features variance: 100000.00 (+/- 0.00)\n",
        "\n",
        "Scores: [0.8110140950480229, 0.8097305389221557]\n",
        "\n",
        "Accuracy: 0.81037 (+/- 0.00128)\n",
        "\n",
        "Total Training time: 0:10:04.989215"
      ]
    },
    {
      "metadata": {
        "colab_type": "code",
        "id": "nCoDXJpbk9mM",
        "colab": {}
      },
      "cell_type": "code",
      "source": [
        "Ms_vect = CountVectorizer(ngram_range=(1,5), stop_words=stopwords)\n",
        "M_vect = CountVectorizer(ngram_range=(1,5))"
      ],
      "execution_count": 0,
      "outputs": []
    },
    {
      "metadata": {
        "colab_type": "code",
        "id": "s4o3tFBJk9mP",
        "colab": {}
      },
      "cell_type": "code",
      "source": [
        "M_clf = randomSearch(M_X_train, M_y_train, Ms_vect)"
      ],
      "execution_count": 0,
      "outputs": []
    },
    {
      "metadata": {
        "colab_type": "code",
        "id": "jVExYkGCk9mX",
        "colab": {}
      },
      "cell_type": "code",
      "source": [
        "printBestScore(M_clf)"
      ],
      "execution_count": 0,
      "outputs": []
    },
    {
      "metadata": {
        "colab_type": "code",
        "id": "VWiCvYrQk9ma",
        "colab": {}
      },
      "cell_type": "code",
      "source": [
        "M_bestModel = M_clf.best_estimator_"
      ],
      "execution_count": 0,
      "outputs": []
    },
    {
      "metadata": {
        "colab_type": "code",
        "id": "jFTr0p-3k9me",
        "colab": {}
      },
      "cell_type": "code",
      "source": [
        "Mo_sgd, Mo_scores, Mo_features = trainCV(M_X_train, M_y_train, vect=Ms_vect, \n",
        "                                         clf=M_bestModel)"
      ],
      "execution_count": 0,
      "outputs": []
    },
    {
      "metadata": {
        "id": "hsuYpNWQk80Q",
        "colab_type": "text"
      },
      "cell_type": "markdown",
      "source": [
        ""
      ]
    },
    {
      "metadata": {
        "id": "IvjXLOr83SCT",
        "colab_type": "text"
      },
      "cell_type": "markdown",
      "source": [
        "### 4.6 Checking the scores"
      ]
    },
    {
      "metadata": {
        "colab_type": "text",
        "id": "j0W0lO17Qyin"
      },
      "cell_type": "markdown",
      "source": [
        "#### 4.6.1 Summary:\n",
        "---\n",
        " \n",
        "\n",
        "1.   **Beauty Category**:    `ngram_range(1, 8) OVR`\n",
        "---\n",
        "2.   **Fashion Category**:    `ngram_range(1, 14) OVR`\n",
        "---\n",
        "3.   **Mobile Category**:    `ngram_range(1,5) OVR`\n",
        "---"
      ]
    },
    {
      "metadata": {
        "id": "UAEdyBB63SCU",
        "colab_type": "code",
        "colab": {}
      },
      "cell_type": "code",
      "source": [
        "total_scores = Bo_scores+ Fo_scores+ Mo_scores\n",
        "print(\"OvO with stopwords Accuracy: %0.5f (+/- %0.5f)\" % (np.mean(total_scores), \n",
        "                                       np.std(total_scores) * 2))"
      ],
      "execution_count": 0,
      "outputs": []
    },
    {
      "metadata": {
        "id": "CCIMqxEV3SCX",
        "colab_type": "text"
      },
      "cell_type": "markdown",
      "source": [
        "#### 4.5.1 Result comparison:\n",
        "* OvO with stopwords Accuracy: 0.75610 (+/- 0.15001)\n",
        "* OvO without stopwords Accuracy: 0.75598 (+/- 0.15262)\n",
        "* OvR with stopwords Accuracy: 0.75615 (+/- 0.14967)\n",
        "\n",
        "Your submission scored 0.76247, which is not an improvement of your best score. Keep trying!\n"
      ]
    },
    {
      "metadata": {
        "colab_type": "text",
        "id": "haSx19EUSbId"
      },
      "cell_type": "markdown",
      "source": [
        "## 5- Modelling\n",
        "\n",
        "1. Divide the test dataset into 3 Categories\n",
        "2. Remove numbers more than 3 Digits from the test dataset.\n",
        "3. Train + Predict.\n"
      ]
    },
    {
      "metadata": {
        "colab_type": "text",
        "id": "wnMVtuLnTUyg"
      },
      "cell_type": "markdown",
      "source": [
        "### 5.1 Divide the test dataset into 3 Categories"
      ]
    },
    {
      "metadata": {
        "colab_type": "code",
        "id": "70V6GmZGSeyO",
        "colab": {}
      },
      "cell_type": "code",
      "source": [
        "#add category col\n",
        "newTestCol = dftest.image_path.apply(lambda x: x.split('_')[0])\n",
        "dftest['newCat'] = newTestCol"
      ],
      "execution_count": 0,
      "outputs": []
    },
    {
      "metadata": {
        "colab_type": "code",
        "id": "bvq_8KSCTeD_",
        "colab": {}
      },
      "cell_type": "code",
      "source": [
        "dftest.tail()"
      ],
      "execution_count": 0,
      "outputs": []
    },
    {
      "metadata": {
        "colab_type": "code",
        "id": "ntxgP7EAWiXE",
        "colab": {}
      },
      "cell_type": "code",
      "source": [
        "MobileTest = dftest[dftest['newCat'] == 'mobile']\n",
        "BeautyTest = dftest[dftest['newCat'] == 'beauty']\n",
        "FashionTest = dftest[dftest['newCat'] == 'fashion']\n",
        "\n",
        "fig, axt = plt.subplots(1,1)\n",
        "axt.bar(['beauty', 'fashion', 'mobile'], [len(BeautyTest), len(FashionTest), len(MobileTest)], width=0.5)\n"
      ],
      "execution_count": 0,
      "outputs": []
    },
    {
      "metadata": {
        "colab_type": "text",
        "id": "6sumGyDEdFCe"
      },
      "cell_type": "markdown",
      "source": [
        "### 5.3 Prediction Dataset"
      ]
    },
    {
      "metadata": {
        "colab_type": "code",
        "id": "KyRvw_4cdKCe",
        "colab": {}
      },
      "cell_type": "code",
      "source": [
        "B_X_test = BeautyTest.title\n",
        "F_X_test = FashionTest.title\n",
        "M_X_test = MobileTest.title"
      ],
      "execution_count": 0,
      "outputs": []
    },
    {
      "metadata": {
        "colab_type": "text",
        "id": "UdlKUH1Bdhyg"
      },
      "cell_type": "markdown",
      "source": [
        "### 5.4 Prediction Function"
      ]
    },
    {
      "metadata": {
        "id": "lcDC_xU_3SCj",
        "colab_type": "code",
        "colab": {}
      },
      "cell_type": "code",
      "source": [
        "def modelPredict(X_train, y_train, X_test, vect, \n",
        "                 clf=SGDClassifier(random_state=42,max_iter=5000, \n",
        "                                            tol=1e-3,loss='hinge')):\n",
        "    ''' Train a classifier using CV'''\n",
        "    #clf = SGDClassifier(random_state=random_state)\n",
        "    \n",
        "    X_train_dtm,X_test_dtm = tokenize_data(vect, X_train, X_test)\n",
        "    clf.fit(X_train_dtm, y_train)\n",
        "    y_pred = clf.predict(X_test_dtm)\n",
        "    return y_pred"
      ],
      "execution_count": 0,
      "outputs": []
    },
    {
      "metadata": {
        "id": "n1SIkf333SCk",
        "colab_type": "code",
        "colab": {}
      },
      "cell_type": "code",
      "source": [
        "B_y_pred = modelPredict(B_X_train, B_y_train, B_X_test, Bs_vect, clf=B_bestModel)"
      ],
      "execution_count": 0,
      "outputs": []
    },
    {
      "metadata": {
        "id": "vyoSF-ox3SCn",
        "colab_type": "code",
        "colab": {}
      },
      "cell_type": "code",
      "source": [
        "F_y_pred = modelPredict(F_X_train, F_y_train, F_X_test, F5_vect, clf=Fo_logr)"
      ],
      "execution_count": 0,
      "outputs": []
    },
    {
      "metadata": {
        "id": "fNIBuPHT3SCp",
        "colab_type": "code",
        "colab": {}
      },
      "cell_type": "code",
      "source": [
        "M_y_pred = modelPredict(M_X_train, M_y_train, M_X_test, Ms_vect, clf=M_bestModel)"
      ],
      "execution_count": 0,
      "outputs": []
    },
    {
      "metadata": {
        "colab_type": "text",
        "id": "swwqXL5sfgkR"
      },
      "cell_type": "markdown",
      "source": [
        "### 5.5 Run Prediction"
      ]
    },
    {
      "metadata": {
        "colab_type": "code",
        "id": "h8BuX46Vf-BF",
        "colab": {}
      },
      "cell_type": "code",
      "source": [
        "BeautyTest['Category'] = B_y_pred\n",
        "FashionTest['Category'] = F_y_pred\n",
        "MobileTest['Category'] = M_y_pred\n"
      ],
      "execution_count": 0,
      "outputs": []
    },
    {
      "metadata": {
        "colab_type": "text",
        "id": "2bNvhS8XjX3j"
      },
      "cell_type": "markdown",
      "source": [
        "## 6- Result"
      ]
    },
    {
      "metadata": {
        "colab_type": "code",
        "id": "tHGPfI54gQRa",
        "colab": {}
      },
      "cell_type": "code",
      "source": [
        "resDf = BeautyTest.append(FashionTest).append(MobileTest)\n"
      ],
      "execution_count": 0,
      "outputs": []
    },
    {
      "metadata": {
        "colab_type": "code",
        "id": "4SdtRA4pjQs7",
        "colab": {}
      },
      "cell_type": "code",
      "source": [
        "FinalResult = pd.concat([resDf['itemid'], resDf['Category']], axis=1, \n",
        "                        keys=['itemid', 'Category'])\n",
        "FinalResult.to_csv(path + '{}_NDSC_Res.csv'.format(datetime.datetime.today().strftime('%Y%m%d%H%M')\n",
        "                                                  ), index=False)"
      ],
      "execution_count": 0,
      "outputs": []
    },
    {
      "metadata": {
        "colab_type": "code",
        "id": "VGzSnqY6jrhG",
        "colab": {}
      },
      "cell_type": "code",
      "source": [
        ""
      ],
      "execution_count": 0,
      "outputs": []
    }
  ]
}