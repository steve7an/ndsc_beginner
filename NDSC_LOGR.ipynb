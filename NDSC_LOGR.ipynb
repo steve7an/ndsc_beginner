{
  "nbformat": 4,
  "nbformat_minor": 0,
  "metadata": {
    "colab": {
      "name": "NDSC_LOGR.ipynb",
      "version": "0.3.2",
      "provenance": [],
      "collapsed_sections": [],
      "toc_visible": true
    },
    "kernelspec": {
      "display_name": "Python 3",
      "language": "python",
      "name": "python3"
    }
  },
  "cells": [
    {
      "metadata": {
        "colab_type": "text",
        "id": "wqneb_yvJsHZ"
      },
      "cell_type": "markdown",
      "source": [
        "## 1- Importing libraries\n",
        "\n",
        "also doing some logistics"
      ]
    },
    {
      "metadata": {
        "id": "-LUHE_-46bM2",
        "colab_type": "code",
        "outputId": "934078f5-3362-4e9e-efc3-1d31f347d29f",
        "colab": {
          "base_uri": "https://localhost:8080/",
          "height": 34
        }
      },
      "cell_type": "code",
      "source": [
        "!pip install Sastrawi"
      ],
      "execution_count": 1,
      "outputs": [
        {
          "output_type": "stream",
          "text": [
            "Requirement already satisfied: Sastrawi in /usr/local/lib/python3.6/dist-packages (1.0.1)\n"
          ],
          "name": "stdout"
        }
      ]
    },
    {
      "metadata": {
        "colab_type": "code",
        "id": "Knyl3IOjFl1p",
        "outputId": "336a17b9-cc3d-4999-81aa-226dae59abb3",
        "colab": {
          "base_uri": "https://localhost:8080/",
          "height": 51
        }
      },
      "cell_type": "code",
      "source": [
        "#Load all the needed libraries\n",
        "from sklearn.feature_extraction.text import CountVectorizer\n",
        "from sklearn.linear_model import SGDClassifier\n",
        "from sklearn.naive_bayes import MultinomialNB\n",
        "from sklearn import metrics\n",
        "from sklearn.linear_model import LogisticRegression\n",
        "from sklearn.multiclass import OneVsRestClassifier\n",
        "from sklearn.ensemble import RandomForestClassifier\n",
        "from sklearn.feature_extraction.text import TfidfVectorizer\n",
        "from sklearn import svm\n",
        "import seaborn as sns\n",
        "import pandas as pd\n",
        "import numpy as np\n",
        "import matplotlib.pyplot as plt\n",
        "from wordcloud import WordCloud\n",
        "import os\n",
        "import json\n",
        "from pprint import pprint\n",
        "from Sastrawi.StopWordRemover.StopWordRemoverFactory import StopWordRemoverFactory\n",
        "import nltk\n",
        "nltk.download('stopwords')\n",
        "from nltk.corpus import stopwords\n",
        "import datetime as dt\n",
        "from sklearn.model_selection import StratifiedKFold\n",
        "from sklearn.base import clone\n",
        "from sklearn.linear_model import SGDClassifier\n",
        "import pickle\n",
        "from time import monotonic\n",
        "from datetime import timedelta\n",
        "import sklearn.metrics as metrics\n",
        "import sys\n",
        "from sklearn.model_selection import GridSearchCV, RandomizedSearchCV\n",
        "from sklearn.metrics import accuracy_score\n",
        "from sklearn.model_selection import train_test_split\n",
        "from time import time\n",
        "\n",
        "%matplotlib inline"
      ],
      "execution_count": 2,
      "outputs": [
        {
          "output_type": "stream",
          "text": [
            "[nltk_data] Downloading package stopwords to /root/nltk_data...\n",
            "[nltk_data]   Package stopwords is already up-to-date!\n"
          ],
          "name": "stdout"
        }
      ]
    },
    {
      "metadata": {
        "colab_type": "code",
        "id": "9uhlq6Z3AEbg",
        "colab": {}
      },
      "cell_type": "code",
      "source": [
        "plt.style.use('seaborn-ticks')"
      ],
      "execution_count": 0,
      "outputs": []
    },
    {
      "metadata": {
        "colab_type": "code",
        "id": "h76BVT_T8TBx",
        "outputId": "fa603e58-b11a-42c4-a86c-b7fa9c986fa0",
        "colab": {
          "base_uri": "https://localhost:8080/",
          "height": 34
        }
      },
      "cell_type": "code",
      "source": [
        "from google.colab import drive\n",
        "drive.mount('/content/drive')"
      ],
      "execution_count": 4,
      "outputs": [
        {
          "output_type": "stream",
          "text": [
            "Drive already mounted at /content/drive; to attempt to forcibly remount, call drive.mount(\"/content/drive\", force_remount=True).\n"
          ],
          "name": "stdout"
        }
      ]
    },
    {
      "metadata": {
        "colab_type": "text",
        "id": "HrMAW2IJJ44P"
      },
      "cell_type": "markdown",
      "source": [
        "## 2- Loading Train/test data"
      ]
    },
    {
      "metadata": {
        "colab_type": "code",
        "id": "qJ2wb-eG87FK",
        "colab": {}
      },
      "cell_type": "code",
      "source": [
        "path = '/content/drive/My Drive/GitHub/nsdc_beginner/Data'\n",
        "\n",
        "#path = './Data'\n",
        "dftrain = pd.read_csv(os.path.join(path, 'train.csv'))\n",
        "dftest = pd.read_csv(os.path.join(path, 'test.csv'))\n"
      ],
      "execution_count": 0,
      "outputs": []
    },
    {
      "metadata": {
        "id": "EkrAoEfx3R90",
        "colab_type": "code",
        "outputId": "bd196dac-3e29-4ec3-9ab2-5ca490f3c130",
        "colab": {
          "base_uri": "https://localhost:8080/",
          "height": 1003
        }
      },
      "cell_type": "code",
      "source": [
        "with open(os.path.join(path,'categories.json')) as f:\n",
        "    categories = json.load(f)\n",
        "\n",
        "pprint(categories)"
      ],
      "execution_count": 6,
      "outputs": [
        {
          "output_type": "stream",
          "text": [
            "{'Beauty': {'BB & CC Cream': 5,\n",
            "            'Blush On': 2,\n",
            "            'Bronzer': 11,\n",
            "            'Concealer': 7,\n",
            "            'Contour': 6,\n",
            "            'Face Palette': 0,\n",
            "            'Foundation': 1,\n",
            "            'Highlighter': 8,\n",
            "            'Lip Gloss': 14,\n",
            "            'Lip Liner': 15,\n",
            "            'Lip Tint': 13,\n",
            "            'Lipstick': 12,\n",
            "            'Other Face Cosmetics': 4,\n",
            "            'Other Lip Cosmetics': 16,\n",
            "            'Powder': 3,\n",
            "            'Primer': 9,\n",
            "            'Setting Spray': 10},\n",
            " 'Fashion': {'A Line Dress': 21,\n",
            "             'Big Size Dress': 24,\n",
            "             'Big Size Top': 30,\n",
            "             'Blouse': 26,\n",
            "             'Bodycon Dress': 22,\n",
            "             'Casual Dress': 18,\n",
            "             'Crop Top': 29,\n",
            "             'Maxi Dress': 20,\n",
            "             'Others': 17,\n",
            "             'Party Dress': 19,\n",
            "             'Shirt': 27,\n",
            "             'Tanktop': 28,\n",
            "             'Tshirt': 25,\n",
            "             'Wedding Dress': 23},\n",
            " 'Mobile': {'Advan': 45,\n",
            "            'Alcatel': 55,\n",
            "            'Asus': 43,\n",
            "            'Blackberry': 36,\n",
            "            'Brandcode': 39,\n",
            "            'Evercoss': 44,\n",
            "            'Honor': 54,\n",
            "            'Huawei': 47,\n",
            "            'Icherry': 52,\n",
            "            'Infinix': 40,\n",
            "            'Iphone': 31,\n",
            "            'Lenovo': 37,\n",
            "            'Maxtron': 56,\n",
            "            'Mito': 46,\n",
            "            'Motorola': 49,\n",
            "            'Nokia': 38,\n",
            "            'Oppo': 41,\n",
            "            'Others Mobile & Tablet': 35,\n",
            "            'Realme': 51,\n",
            "            'SPC': 57,\n",
            "            'Samsung': 32,\n",
            "            'Sharp': 48,\n",
            "            'Smartfren': 53,\n",
            "            'Sony': 33,\n",
            "            'Strawberry': 50,\n",
            "            'Vivo': 42,\n",
            "            'Xiaomi': 34}}\n"
          ],
          "name": "stdout"
        }
      ]
    },
    {
      "metadata": {
        "colab_type": "text",
        "id": "uCDKIHFJKfGW"
      },
      "cell_type": "markdown",
      "source": [
        "## 3- Feature Engineering"
      ]
    },
    {
      "metadata": {
        "colab_type": "text",
        "id": "uMAZArjwKBmt"
      },
      "cell_type": "markdown",
      "source": [
        "### 3.1 Divide the training data into Big categories containers (Beauty/Fashion/Mobile)"
      ]
    },
    {
      "metadata": {
        "colab_type": "code",
        "id": "cbPM_2lX9KeC",
        "colab": {}
      },
      "cell_type": "code",
      "source": [
        "# 1. add a new col that contins the big category (beauty, fashion, mobile)\n",
        "\n",
        "newCol = dftrain.image_path.apply(lambda x : x.split('_')[0])\n",
        "dftrain['mainCat'] = newCol\n",
        "# dftrain.head()"
      ],
      "execution_count": 0,
      "outputs": []
    },
    {
      "metadata": {
        "id": "H08rvdo13R9-",
        "colab_type": "text"
      },
      "cell_type": "markdown",
      "source": [
        "Check for unique values"
      ]
    },
    {
      "metadata": {
        "id": "4iK-RfMY3R-A",
        "colab_type": "code",
        "outputId": "3d84cb38-6a22-4d77-b54d-79b35d19b297",
        "colab": {
          "base_uri": "https://localhost:8080/",
          "height": 34
        }
      },
      "cell_type": "code",
      "source": [
        "set(dftrain['mainCat'])"
      ],
      "execution_count": 8,
      "outputs": [
        {
          "output_type": "execute_result",
          "data": {
            "text/plain": [
              "{'beauty', 'fashion', 'mobile'}"
            ]
          },
          "metadata": {
            "tags": []
          },
          "execution_count": 8
        }
      ]
    },
    {
      "metadata": {
        "colab_type": "text",
        "id": "cwHS6FuAKRd2"
      },
      "cell_type": "markdown",
      "source": [
        "### 3.2 Display the total number of samples under each category"
      ]
    },
    {
      "metadata": {
        "colab_type": "code",
        "id": "LN2eHDj49xcE",
        "colab": {
          "base_uri": "https://localhost:8080/",
          "height": 277
        },
        "outputId": "a1a247b0-94fb-492a-e8f1-cc8fe4e14300"
      },
      "cell_type": "code",
      "source": [
        "Beautydf= dftrain[dftrain['mainCat'] == 'beauty']\n",
        "Fashiondf= dftrain[dftrain['mainCat'] == 'fashion']\n",
        "Mobiledf= dftrain[dftrain['mainCat'] == 'mobile']\n",
        "\n",
        "plt.bar(['beauty', 'fashion', 'mobile'],[Beautydf.shape[0],Fashiondf.shape[0],Mobiledf.shape[0]],width=0.2, color='black');"
      ],
      "execution_count": 9,
      "outputs": [
        {
          "output_type": "display_data",
          "data": {
            "image/png": "[encoded data removed]",
            "text/plain": [
              "<Figure size 432x288 with 1 Axes>"
            ]
          },
          "metadata": {
            "tags": []
          }
        }
      ]
    },
    {
      "metadata": {
        "colab_type": "text",
        "id": "AmwUhgE5DqvY"
      },
      "cell_type": "markdown",
      "source": [
        "#### 3.2.1 EDA"
      ]
    },
    {
      "metadata": {
        "colab_type": "code",
        "id": "vTMye7hy-FJP",
        "colab": {
          "base_uri": "https://localhost:8080/",
          "height": 204
        },
        "outputId": "d20ce1d9-f5da-4963-d969-6003ccce0fe1"
      },
      "cell_type": "code",
      "source": [
        "Fashiondf.head()"
      ],
      "execution_count": 10,
      "outputs": [
        {
          "output_type": "execute_result",
          "data": {
            "text/html": [
              "<div>\n",
              "<style scoped>\n",
              "    .dataframe tbody tr th:only-of-type {\n",
              "        vertical-align: middle;\n",
              "    }\n",
              "\n",
              "    .dataframe tbody tr th {\n",
              "        vertical-align: top;\n",
              "    }\n",
              "\n",
              "    .dataframe thead th {\n",
              "        text-align: right;\n",
              "    }\n",
              "</style>\n",
              "<table border=\"1\" class=\"dataframe\">\n",
              "  <thead>\n",
              "    <tr style=\"text-align: right;\">\n",
              "      <th></th>\n",
              "      <th>itemid</th>\n",
              "      <th>title</th>\n",
              "      <th>Category</th>\n",
              "      <th>image_path</th>\n",
              "      <th>mainCat</th>\n",
              "    </tr>\n",
              "  </thead>\n",
              "  <tbody>\n",
              "    <tr>\n",
              "      <th>286583</th>\n",
              "      <td>2282553</td>\n",
              "      <td>retro floral dress</td>\n",
              "      <td>17</td>\n",
              "      <td>fashion_image/78d17fdb159bba51a4250dc3d583245e</td>\n",
              "      <td>fashion</td>\n",
              "    </tr>\n",
              "    <tr>\n",
              "      <th>286584</th>\n",
              "      <td>13822218</td>\n",
              "      <td>dress floral sifon</td>\n",
              "      <td>18</td>\n",
              "      <td>fashion_image/2f77dac9965bbfdb03cbd3724b3552c5</td>\n",
              "      <td>fashion</td>\n",
              "    </tr>\n",
              "    <tr>\n",
              "      <th>286585</th>\n",
              "      <td>33555935</td>\n",
              "      <td>korean white chiffon collar dress</td>\n",
              "      <td>18</td>\n",
              "      <td>fashion_image/6dbe2e7cba5ddbb750d2144d8f248f11</td>\n",
              "      <td>fashion</td>\n",
              "    </tr>\n",
              "    <tr>\n",
              "      <th>286586</th>\n",
              "      <td>65755120</td>\n",
              "      <td>women s trendy apricot o neck solid chiffon bl...</td>\n",
              "      <td>19</td>\n",
              "      <td>fashion_image/dc9b21429604148fc0342d12694f3294</td>\n",
              "      <td>fashion</td>\n",
              "    </tr>\n",
              "    <tr>\n",
              "      <th>286587</th>\n",
              "      <td>65857438</td>\n",
              "      <td>big sale baju gamis pesta india aysilla pancar...</td>\n",
              "      <td>20</td>\n",
              "      <td>fashion_image/6c25c578dd8edce742a805f891f1a51f</td>\n",
              "      <td>fashion</td>\n",
              "    </tr>\n",
              "  </tbody>\n",
              "</table>\n",
              "</div>"
            ],
            "text/plain": [
              "          itemid                                              title  Category  \\\n",
              "286583   2282553                                 retro floral dress        17   \n",
              "286584  13822218                                 dress floral sifon        18   \n",
              "286585  33555935                  korean white chiffon collar dress        18   \n",
              "286586  65755120  women s trendy apricot o neck solid chiffon bl...        19   \n",
              "286587  65857438  big sale baju gamis pesta india aysilla pancar...        20   \n",
              "\n",
              "                                            image_path  mainCat  \n",
              "286583  fashion_image/78d17fdb159bba51a4250dc3d583245e  fashion  \n",
              "286584  fashion_image/2f77dac9965bbfdb03cbd3724b3552c5  fashion  \n",
              "286585  fashion_image/6dbe2e7cba5ddbb750d2144d8f248f11  fashion  \n",
              "286586  fashion_image/dc9b21429604148fc0342d12694f3294  fashion  \n",
              "286587  fashion_image/6c25c578dd8edce742a805f891f1a51f  fashion  "
            ]
          },
          "metadata": {
            "tags": []
          },
          "execution_count": 10
        }
      ]
    },
    {
      "metadata": {
        "colab_type": "code",
        "id": "fRXttglcJKfM",
        "colab": {
          "base_uri": "https://localhost:8080/",
          "height": 34
        },
        "outputId": "860960ed-3333-404a-9901-e42d4c4a7f24"
      },
      "cell_type": "code",
      "source": [
        "Fashiondf.shape"
      ],
      "execution_count": 11,
      "outputs": [
        {
          "output_type": "execute_result",
          "data": {
            "text/plain": [
              "(219702, 5)"
            ]
          },
          "metadata": {
            "tags": []
          },
          "execution_count": 11
        }
      ]
    },
    {
      "metadata": {
        "colab_type": "text",
        "id": "XKBIlRuYLCvw"
      },
      "cell_type": "markdown",
      "source": [
        "### 3.3 Randomize the train-dataset\n",
        "\n",
        "To avoid bias in the training dataset, it is a good practice"
      ]
    },
    {
      "metadata": {
        "id": "IMB0Kw103R-Y",
        "colab_type": "code",
        "colab": {
          "base_uri": "https://localhost:8080/",
          "height": 119
        },
        "outputId": "48c693ae-d109-4f74-c291-a67de0146f8c"
      },
      "cell_type": "code",
      "source": [
        "Beautydf.index"
      ],
      "execution_count": 12,
      "outputs": [
        {
          "output_type": "execute_result",
          "data": {
            "text/plain": [
              "Int64Index([     0,      1,      2,      3,      4,      5,      6,      7,\n",
              "                 8,      9,\n",
              "            ...\n",
              "            286573, 286574, 286575, 286576, 286577, 286578, 286579, 286580,\n",
              "            286581, 286582],\n",
              "           dtype='int64', length=286583)"
            ]
          },
          "metadata": {
            "tags": []
          },
          "execution_count": 12
        }
      ]
    },
    {
      "metadata": {
        "colab_type": "code",
        "id": "-E7rZ5DABFv1",
        "colab": {
          "base_uri": "https://localhost:8080/",
          "height": 277
        },
        "outputId": "9ee3a325-1ac4-4aef-9533-72d9d3eb708f"
      },
      "cell_type": "code",
      "source": [
        "# randomize datasets\n",
        "\n",
        "Beautydf = Beautydf.reindex(np.random.permutation(Beautydf.index))\n",
        "Fashiondf = Fashiondf.reindex(np.random.permutation(Fashiondf.index))\n",
        "Mobiledf = Mobiledf.reindex(np.random.permutation(Mobiledf.index))\n",
        "\n",
        "# Beautydf.Category.hist(width = 0.5)\n",
        "# Fashiondf.Category.hist(width = 0.5)\n",
        "# Mobiledf.Category.hist(width = 0.5)\n",
        "\n",
        "fig, catAx = plt.subplots(1, 1)\n",
        "\n",
        "catAx.hist(Beautydf.Category, label='Beauty', width=0.5)\n",
        "catAx.hist(Fashiondf.Category, label='Fashion', width=0.5)\n",
        "catAx.hist(Mobiledf.Category , label='Mobile', width=0.5)\n",
        "\n",
        "catAx.legend()\n",
        "plt.show()"
      ],
      "execution_count": 13,
      "outputs": [
        {
          "output_type": "display_data",
          "data": {
            "image/png": "[encoded data removed]",
            "text/plain": [
              "<Figure size 432x288 with 1 Axes>"
            ]
          },
          "metadata": {
            "tags": []
          }
        }
      ]
    },
    {
      "metadata": {
        "colab_type": "text",
        "id": "Y_wvv61oLR9d"
      },
      "cell_type": "markdown",
      "source": [
        "### 3.4 Remove any number with more than 3 digits in the dataset\n",
        "\n",
        "For example : `02854323232` which could be an id or something\n"
      ]
    },
    {
      "metadata": {
        "colab_type": "code",
        "id": "Omco1mHbA0ay",
        "colab": {
          "base_uri": "https://localhost:8080/",
          "height": 1071
        },
        "outputId": "dcbb6025-177e-45cd-9848-ee58f2eb2397"
      },
      "cell_type": "code",
      "source": [
        "# Remove any number in the dataset with more than or equal to 3 digits. \n",
        "\n",
        "Beautydf.title.replace(r'\\b[0-9]{3,}\\b', '', regex=True)\n",
        "Fashiondf.title.replace(r'\\b[0-9]{3,}\\b', '', regex=True)\n",
        "Mobiledf.title.replace(r'\\b[0-9]{3,}\\b', '', regex=True)"
      ],
      "execution_count": 14,
      "outputs": [
        {
          "output_type": "execute_result",
          "data": {
            "text/plain": [
              "599182                       sony xperia xa1 best condition\n",
              "635354                            sp indosat 12gb freedom m\n",
              "542159    promo new ready google pixel 2 xl 128gb just b...\n",
              "608272         flashdisk toshiba 2gb flash disk drive putih\n",
              "512573                        samsung galaxy s8 plus second\n",
              "558603    limited apple iphone 7 explosion h pro series ...\n",
              "600544           ready vivo v5 ori  masih baru dan bersegel\n",
              "623434                            xiaomi mi a1 black 4 64gb\n",
              "564180               xiaomi mi 8 ram 6gb rom 128gb original\n",
              "617086                big promo samsung j5 pro  black matte\n",
              "662911                                              nokia 5\n",
              "570437                         lcd blackberry bb curve 3g  \n",
              "633489                        promo vivo new v9 ready stock\n",
              "513760                                samsung galaxy note 8\n",
              "549940                    iphone 6 64gb garansi distributor\n",
              "573340    infinix hot 6 pro baru ram 3gb 32gb garansi re...\n",
              "635584             vivo v11i 4 64gb garansi resmi indonesia\n",
              "638464    produk original promo oppo a3s ram 3gb 32gb ga...\n",
              "589704             taktik extreme lunatik iphone 6 4.7 inch\n",
              "511323    big sale samsung galaxy tab s4 second grs resm...\n",
              "519021    gokil habis buy 2 get 1 xiaomi mimax 3 ram 4 6...\n",
              "583774    promo cuci gudang:beli 2 gratis 1 khusus hari ...\n",
              "575210    promo huawei akhir bulan p20 pro 6gb 128gb twi...\n",
              "639634                                  iphone xs max 512gb\n",
              "586265                ipad air 2 64gb second original mulus\n",
              "517491                                     samsung galxy s8\n",
              "573093                       nexus 6p alumunium silver 64gb\n",
              "560386                                             j7 prime\n",
              "578242    promo philips x818 xenium tech fhd gorilla gla...\n",
              "637777                                           oppo neo 7\n",
              "                                ...                        \n",
              "565764    wa  promo khusus hari ini beli 2 gratis 1 sams...\n",
              "541627    new second samsung j1  gold yang minat invite ...\n",
              "510607                                      oppo a71 rp 1. \n",
              "577391    promo charger carger kabel data smartfren andr...\n",
              "595176          oppo a3s ram 3 32gb garansi resmi indonesia\n",
              "542397    best seller logitech m238 marvel collection wi...\n",
              "524609                promo penghabisan  samsung galaxy j5 \n",
              "659217          beli 2 gratis 1 oppo f7 silver wa    atau  \n",
              "603291    big sale gratis ongkir xiaomi mi a1 ram 4gb in...\n",
              "650543    promo diskon samsung note5 32gb singel sim no ...\n",
              "646619                                             oppo f1s\n",
              "559675                         dijual samsung a8 white 32gb\n",
              "527873             ready stock samsung galaxy s8 plus bekas\n",
              "544764    baterai baterei batre sz tanam asus zenfone 5 ...\n",
              "571322    siap kirim samsung galaxy s9 plus 64gb 64 gb d...\n",
              "537798    toru motomo aluminium samsung galaxy s5 red se...\n",
              "646277    smartphone letv le max 2 x820 5.7 2k 21mp 4gb ...\n",
              "553288    original bgt bluemoon flip mercury oppo a3s a7...\n",
              "543465                              xiaomi mi 4s 64gb white\n",
              "577078                       oppo f5 6gb bekas second merah\n",
              "615031                     termurah vivo y69 16mp new resmi\n",
              "640385                               samsung j 7 prime 3 32\n",
              "654846                                    samsung galaxy a5\n",
              "519308    sony z3 global fullset kondisi cek foto detail...\n",
              "542766          ready promo discon wa  free ongkir iphone 5\n",
              "626942              asus zenfone 2 ram 4gb rom 32gb fullset\n",
              "579025                    handphone xiaomi red mi 5a 2gb 16\n",
              "513684    murah microsoft surface pro 4 ci5 6300u 8gb 25...\n",
              "603840    promo serba murah big beli 2 bonus 1 iphone 6s...\n",
              "543892    minat chat di wa  promo hari jadi toko kami ip...\n",
              "Name: title, Length: 160330, dtype: object"
            ]
          },
          "metadata": {
            "tags": []
          },
          "execution_count": 14
        }
      ]
    },
    {
      "metadata": {
        "id": "_taxa2Hg3R-q",
        "colab_type": "code",
        "colab": {
          "base_uri": "https://localhost:8080/",
          "height": 272
        },
        "outputId": "0b9d3e18-92e0-498d-afac-5e46670a72d9"
      },
      "cell_type": "code",
      "source": [
        "Fashiondf['Category'].value_counts()"
      ],
      "execution_count": 15,
      "outputs": [
        {
          "output_type": "execute_result",
          "data": {
            "text/plain": [
              "18    56598\n",
              "25    33922\n",
              "26    33845\n",
              "20    19978\n",
              "27    16199\n",
              "22    15225\n",
              "19    13493\n",
              "21    10483\n",
              "28     6493\n",
              "24     4251\n",
              "29     3338\n",
              "17     2765\n",
              "23     1671\n",
              "30     1441\n",
              "Name: Category, dtype: int64"
            ]
          },
          "metadata": {
            "tags": []
          },
          "execution_count": 15
        }
      ]
    },
    {
      "metadata": {
        "id": "GdAJxppw3R-v",
        "colab_type": "text"
      },
      "cell_type": "markdown",
      "source": [
        "#### 3.5.1 Check the phrase of the length"
      ]
    },
    {
      "metadata": {
        "id": "vfKYRN9Y3R_Q",
        "colab_type": "text"
      },
      "cell_type": "markdown",
      "source": [
        "#### 3.8 Remove the top common words across all categories which may not be helping with the classification"
      ]
    },
    {
      "metadata": {
        "colab_type": "text",
        "id": "wGJGU8K-LrFu"
      },
      "cell_type": "markdown",
      "source": [
        "## 4- Cross Validation"
      ]
    },
    {
      "metadata": {
        "colab_type": "text",
        "id": "C2s_QXTvL71M"
      },
      "cell_type": "markdown",
      "source": [
        "### 4.1 Split the training dataset into train/test"
      ]
    },
    {
      "metadata": {
        "colab_type": "code",
        "id": "78ITO1LDGDQ5",
        "colab": {}
      },
      "cell_type": "code",
      "source": [
        "B_X_train = Beautydf.title\n",
        "B_y_train = Beautydf.Category\n",
        "\n",
        "F_X_train = Fashiondf.title\n",
        "F_y_train = Fashiondf.Category\n",
        "\n",
        "M_X_train = Mobiledf.title\n",
        "M_y_train = Mobiledf.Category"
      ],
      "execution_count": 0,
      "outputs": []
    },
    {
      "metadata": {
        "id": "qLBDGgbK3R_W",
        "colab_type": "code",
        "colab": {}
      },
      "cell_type": "code",
      "source": [
        "def tokenize_data(vect, X_train, X_test):\n",
        "    ''' Tokenize the training and test set'''\n",
        "    # create document-term matrices using the vectorizer\n",
        "    X_train_dtm = vect.fit_transform(X_train)\n",
        "    X_test_dtm = vect.transform(X_test)\n",
        "\n",
        "    # print the number of features that were generated\n",
        "    #print('Features: ', X_train_dtm.shape[1])\n",
        "    \n",
        "    return X_train_dtm, X_test_dtm"
      ],
      "execution_count": 0,
      "outputs": []
    },
    {
      "metadata": {
        "id": "F5tb7wnB3R_h",
        "colab_type": "code",
        "colab": {}
      },
      "cell_type": "code",
      "source": [
        "def trainCV(X_train, y_train, vect, folds = 3, random_state=42, \n",
        "            clf=SGDClassifier(random_state=42, max_iter=5000, tol=1e-3, \n",
        "                              loss='hinge', verbose=1)):\n",
        "    ''' Train a classifier using CV'''\n",
        "    #clf = SGDClassifier(random_state=random_state)\n",
        "\n",
        "    skfolds = StratifiedKFold(n_splits=folds, random_state=random_state)\n",
        "\n",
        "    cv_start_time = monotonic()\n",
        "    \n",
        "    scores = []\n",
        "    features = []\n",
        "    for train_index, test_index in skfolds.split(X_train, y_train):\n",
        "        start_time = monotonic()\n",
        "        \n",
        "        clone_clf = clone(clf)\n",
        "        #X_train_folds = X_train[train_index]\n",
        "        y_train_folds = y_train.iloc[train_index]\n",
        "        #X_test_fold = X_train[test_index]\n",
        "        y_test_fold = y_train.iloc[test_index]\n",
        "        \n",
        "        X_train_folds,X_test_fold = tokenize_data(vect, \n",
        "                                                  X_train.iloc[train_index], \n",
        "                                                  X_train.iloc[test_index])\n",
        "        features.append(X_train_folds.shape[1])\n",
        "        \n",
        "        print (\"{} Starting the training \".format(dt.datetime.now()))\n",
        "        clone_clf.fit(X_train_folds, y_train_folds)\n",
        "        y_pred = clone_clf.predict(X_test_fold)\n",
        "        print (\"{} Completed the training \".format(dt.datetime.now()))\n",
        "\n",
        "        n_correct = sum(y_pred == y_test_fold)\n",
        "        scores.append(n_correct / len(y_pred))\n",
        "        \n",
        "        end_time = monotonic()\n",
        "        print(\"{} Training time per fold: {}\".format(dt.datetime.now(),\n",
        "                                       timedelta(seconds=end_time - start_time)))\n",
        "\n",
        "        \n",
        "    print (\"Features: {}\".format(features))\n",
        "    print(\"Features variance: %0.2f (+/- %0.2f)\" % (np.mean(features), \n",
        "                                                    np.std(features) * 2))\n",
        "    print (\"Scores: {}\".format(scores))\n",
        "    print(\"Accuracy: %0.5f (+/- %0.5f)\" % (np.mean(scores), \n",
        "                                           np.std(scores) * 2))\n",
        "    \n",
        "    cv_end_time = monotonic()\n",
        "    print(\"Total Training time: {}\".format(timedelta(seconds=cv_end_time - cv_start_time)))\n",
        "    \n",
        "    return clone_clf, scores, features"
      ],
      "execution_count": 0,
      "outputs": []
    },
    {
      "metadata": {
        "id": "QxNzzdX23R_n",
        "colab_type": "text"
      },
      "cell_type": "markdown",
      "source": [
        "### 4.2 Defining Stop words"
      ]
    },
    {
      "metadata": {
        "id": "8i-PLTDN3R_o",
        "colab_type": "code",
        "colab": {
          "base_uri": "https://localhost:8080/",
          "height": 340
        },
        "outputId": "e3398306-fca3-4e29-c565-dee64b790f61"
      },
      "cell_type": "code",
      "source": [
        "factory = StopWordRemoverFactory()\n",
        "id_stopwords = factory.get_stop_words()\n",
        "en_stopwords  = list(stopwords.words('english'))\n",
        "stopwords = id_stopwords + en_stopwords\n",
        "stopwords[1:20]"
      ],
      "execution_count": 19,
      "outputs": [
        {
          "output_type": "execute_result",
          "data": {
            "text/plain": [
              "['untuk',\n",
              " 'pada',\n",
              " 'ke',\n",
              " 'para',\n",
              " 'namun',\n",
              " 'menurut',\n",
              " 'antara',\n",
              " 'dia',\n",
              " 'dua',\n",
              " 'ia',\n",
              " 'seperti',\n",
              " 'jika',\n",
              " 'jika',\n",
              " 'sehingga',\n",
              " 'kembali',\n",
              " 'dan',\n",
              " 'tidak',\n",
              " 'ini',\n",
              " 'karena']"
            ]
          },
          "metadata": {
            "tags": []
          },
          "execution_count": 19
        }
      ]
    },
    {
      "metadata": {
        "id": "-2pT3sxy3R_q",
        "colab_type": "text"
      },
      "cell_type": "markdown",
      "source": [
        "### 4.3 Model Training for Beauty\n",
        "\n",
        "#### 4.3.1 Optiming for nrange"
      ]
    },
    {
      "metadata": {
        "id": "c5qlwuRH3R_1",
        "colab_type": "text"
      },
      "cell_type": "markdown",
      "source": [
        "Optimal hyperparam is at nrange 1,8 with Accuracy: 0.78536 (+/- 0.00335)\n",
        "\n",
        "With slight improvement seen using One vs Rest with Accuracy: 0.78557 (+/- 0.00376)\n",
        "\n",
        "And with stop words Accuracy: 0.78435 (+/- 0.00327)\n",
        "\n",
        "* Features: [2060519, 2059314, 2055361, 2059141, 2059118]\n",
        "* Features variance: 2058690.60 (+/- 3487.51)\n",
        "* Scores: [0.7866127034523664, 0.787446355674959, 0.7855958965053998, 0.784320910106086, 0.7857579088799316]\n",
        "* Accuracy: 0.78595 (+/- 0.00210)\n",
        "* Total Training time: 0:04:07.240765"
      ]
    },
    {
      "metadata": {
        "id": "FK1TZcRmzfyE",
        "colab_type": "text"
      },
      "cell_type": "markdown",
      "source": [
        "2019-03-21 05:41:18.444888 Training time per fold: 1:09:01.194346\n",
        "\n",
        "Features: [500000, 500000]\n",
        "\n",
        "Features variance: 500000.00 (+/- 0.00)\n",
        "\n",
        "Scores: [0.7542185995226597, 0.7548590610584204]\n",
        "\n",
        "Accuracy: 0.75454 (+/- 0.00064)\n",
        "\n",
        "Total Training time: 2:30:41.566123"
      ]
    },
    {
      "metadata": {
        "id": "zswWoAGj3SAl",
        "colab_type": "text"
      },
      "cell_type": "markdown",
      "source": [
        "#### 4.4.2 Training for Optimal Model for Mobile"
      ]
    },
    {
      "metadata": {
        "colab_type": "text",
        "id": "-aY7yXcXiA5V"
      },
      "cell_type": "markdown",
      "source": [
        "Optimal hyperparam for Mobile is with nrange of 1,5 with Accuracy: 0.82828 (+/- 0.00265)\n",
        "\n",
        "Using One vs Rest is seeing slight improvement with Accuracy: 0.82856 (+/- 0.00143).\n",
        "\n",
        "And with stop words: Accuracy: 0.82006 (+/- 0.00239).\n",
        "\n",
        "* Features: [1030842, 1029869, 1029107, 1030184, 1027609]\n",
        "* Features variance: 1029522.20 (+/- 2215.01)\n",
        "* Scores: [0.8285375814446488, 0.8311040438998535, 0.8259784812100421, 0.8314981752394024, 0.8282692787621662]\n",
        "* Accuracy: 0.82908 (+/- 0.00405)\n",
        "* Total Training time: 0:02:20.155520\n",
        "\n"
      ]
    },
    {
      "metadata": {
        "id": "C7wF3MvhIOCq",
        "colab_type": "text"
      },
      "cell_type": "markdown",
      "source": [
        ""
      ]
    },
    {
      "metadata": {
        "id": "Os5KjQbx3SA0",
        "colab_type": "text"
      },
      "cell_type": "markdown",
      "source": [
        "### 4.5 Model Training for Fashion\n",
        "\n",
        "#### 4.5.1 Optiming for the nrange for Fashion"
      ]
    },
    {
      "metadata": {
        "id": "Zd_4EH8A3SA9",
        "colab_type": "text"
      },
      "cell_type": "markdown",
      "source": [
        "Optimal for Fashion is Ngram range of 1,14 with Accuracy: 0.64612 (+/- 0.00261)\n",
        "\n",
        "And using One vs Rest with Accuracy: 0.64587 (+/- 0.00192).\n",
        "\n",
        "With stop words with Accuracy: 0.64569 (+/- 0.00502).\n",
        "\n",
        "Using RandomizedGridSearch with SGD\n",
        "* Features: [2574193, 2573700, 2572438, 2571429, 2575672]\n",
        "* Features variance: 2573486.40 (+/- 2919.42)\n",
        "* Scores: [0.6499567651208301, 0.6513210295155087, 0.6532929771061854, 0.6549754187909687, 0.6576988733356094]\n",
        "* Accuracy: 0.65345 (+/- 0.00545)\n",
        "* Total Training time: 0:04:32.68714\n",
        "\n",
        "Using Logistic Regression: content/drive/My Drive/GitHub/nsdc_beginner/ModelLogR_F201903202347\n",
        "* Training time per fold: 1:14:58.622968\n",
        "* Features: [50000, 50000, 50000, 50000, 50000]\n",
        "* Features variance: 50000.00 (+/- 0.00)\n",
        "* Scores: [0.6173258089473445, 0.624695628427736, 0.620294934231487, 0.6225873998543335, 0.6203482417207238]\n",
        "* Accuracy: 0.62105 (+/- 0.00495)\n",
        "* Total Training time: 7:17:53.833652\n",
        "\n",
        "#### 4.5.2 Find Optimal Model for Fashion"
      ]
    },
    {
      "metadata": {
        "id": "PRYLLtp1LyAZ",
        "colab_type": "text"
      },
      "cell_type": "markdown",
      "source": [
        "RandomizedSearchCV took 3123.99 seconds for 3 candidates parameter settings.\n",
        "\n",
        "Model with rank: 1\n",
        "Mean validation score: 0.573 (std: 0.000)\n",
        "Parameters: {'solver': 'lbfgs', 'C': 100}\n",
        "\n",
        "Model with rank: 2\n",
        "Mean validation score: 0.573 (std: 0.000)\n",
        "Parameters: {'solver': 'sag', 'C': 100}\n",
        "\n",
        "Model with rank: 3\n",
        "Mean validation score: 0.568 (std: 0.001)\n",
        "Parameters: {'solver': 'sag', 'C': 0.01}\n",
        "\n",
        "Best score 0.5728683733118323\n",
        "\n",
        "Best estimator\n",
        "\n",
        "      LogisticRegression(C=100, class_weight=None, dual=False, fit_intercept=True,\n",
        "          intercept_scaling=1, max_iter=50000, multi_class='multinomial',\n",
        "          n_jobs=None, penalty='l2', random_state=None, solver='lbfgs',\n",
        "          tol=0.0001, verbose=2, warm_start=False)"
      ]
    },
    {
      "metadata": {
        "id": "-jgjxngLByoY",
        "colab_type": "text"
      },
      "cell_type": "markdown",
      "source": [
        "2019-03-21 06:42:15.947567 Training time per fold: 1:43:06.952375\n",
        "\n",
        "Features: [500000, 500000]\n",
        "\n",
        "Features variance: 500000.00 (+/- 0.00)\n",
        "\n",
        "Scores: [0.593522429362074, 0.5952606376199406]\n",
        "\n",
        "Accuracy: 0.59439 (+/- 0.00174)\n",
        "\n",
        "Total Training time: 3:34:55.249190"
      ]
    },
    {
      "metadata": {
        "id": "i9r37V053SB1",
        "colab_type": "text"
      },
      "cell_type": "markdown",
      "source": [
        "Best count vectorizer param appears to be at min df =1, max df = 0.6 and max features at 100,000.\n",
        "\n",
        "#### 4.5.5 Testing stemming next"
      ]
    },
    {
      "metadata": {
        "id": "kZz7xFDP3SB4",
        "colab_type": "text"
      },
      "cell_type": "markdown",
      "source": [
        "### 1.0 Fashion Optimization"
      ]
    },
    {
      "metadata": {
        "id": "aEtVuglo3SB5",
        "colab_type": "code",
        "colab": {}
      },
      "cell_type": "code",
      "source": [
        ""
      ],
      "execution_count": 0,
      "outputs": []
    },
    {
      "metadata": {
        "id": "fxbKCAfpY8Vv",
        "colab_type": "code",
        "colab": {}
      },
      "cell_type": "code",
      "source": [
        "# Utility function to report best scores\n",
        "def report(results, n_top=3):\n",
        "    for i in range(1, n_top + 1):\n",
        "        candidates = np.flatnonzero(results['rank_test_score'] == i)\n",
        "        for candidate in candidates:\n",
        "            print(\"Model with rank: {0}\".format(i))\n",
        "            print(\"Mean validation score: {0:.3f} (std: {1:.3f})\".format(\n",
        "                  results['mean_test_score'][candidate],\n",
        "                  results['std_test_score'][candidate]))\n",
        "            print(\"Parameters: {0}\".format(results['params'][candidate]))\n",
        "            print(\"\")"
      ],
      "execution_count": 0,
      "outputs": []
    },
    {
      "metadata": {
        "id": "ffGRdx3OryQj",
        "colab_type": "code",
        "colab": {}
      },
      "cell_type": "code",
      "source": [
        "F_vect = CountVectorizer(ngram_range=(1,6), analyzer='word', \n",
        "                         max_features=100000)\n",
        "Ftest_vect = CountVectorizer(ngram_range=(1,6), analyzer='word',\n",
        "                         max_features=1000)\n"
      ],
      "execution_count": 0,
      "outputs": []
    },
    {
      "metadata": {
        "id": "AMcmh3aLl2tE",
        "colab_type": "code",
        "colab": {}
      },
      "cell_type": "code",
      "source": [
        "Mtest_vect = CountVectorizer(ngram_range=(1,5),analyzer='word',\n",
        "                          max_features=1000)\n",
        "M_vect = CountVectorizer(ngram_range=(1,5), analyzer='word',\n",
        "                         max_features=100000)"
      ],
      "execution_count": 0,
      "outputs": []
    },
    {
      "metadata": {
        "colab_type": "code",
        "id": "veli5Y6Oqyxx",
        "colab": {}
      },
      "cell_type": "code",
      "source": [
        "B_vect = CountVectorizer(ngram_range=(1,8), analyzer='word',\n",
        "                         max_features=100000)\n",
        "Btest_vect = CountVectorizer(ngram_range=(1,8), analyzer='word',\n",
        "                             max_features=1000)"
      ],
      "execution_count": 0,
      "outputs": []
    },
    {
      "metadata": {
        "id": "AuHo7Pj9iZjV",
        "colab_type": "code",
        "colab": {}
      },
      "cell_type": "code",
      "source": [
        "def randomSearch(X, y, vect):\n",
        "  X_train, X_test, y_train, y_test = train_test_split(X, y, \n",
        "                                               test_size=0.33, random_state=42)\n",
        "  n_iter_search = 1\n",
        "\n",
        "  X_train_dtm, X_test_dtm = tokenize_data(vect, X_train, X_test)\n",
        "  \n",
        "  model = LogisticRegression(penalty=\"l2\", max_iter=50000, \n",
        "                             multi_class='multinomial')\n",
        "\n",
        "  params = {\n",
        "    \"C\" : [0.001,0.01,0.1,1,10,100],\n",
        "    #\"penalty\" : [\"l2\", \"l1\"],\n",
        "     \"solver\": [\"newton-cg\"] #, \"sag\", \"saga\", \"lbfgs\"]\n",
        "  }\n",
        "  \n",
        "  clf = RandomizedSearchCV(model, \n",
        "                         param_distributions=params, \n",
        "                         cv=1,\n",
        "                   scoring='accuracy',\n",
        "                   error_score='raise',\n",
        "                   verbose =2,\n",
        "                   n_jobs=-1,\n",
        "                   n_iter=n_iter_search,\n",
        "                  #loss=\"hinge\",\n",
        "                  #penalty=\"l2\"\n",
        "                  )\n",
        "  \n",
        "  start = time()\n",
        "\n",
        "  clf.fit(X_train_dtm, y_train)\n",
        "\n",
        "  print(\"RandomizedSearchCV took %.2f seconds for %d candidates\"\n",
        "        \" parameter settings.\" % ((time() - start), n_iter_search))\n",
        "  report(clf.cv_results_)\n",
        "  \n",
        "  return clf\n",
        "\n",
        "def printBestScore(clf):\n",
        "  print(\"Best score {}\".format(clf.best_score_))\n",
        "  print(\"Best estimator {}\".format(clf.best_estimator_))"
      ],
      "execution_count": 0,
      "outputs": []
    },
    {
      "metadata": {
        "id": "Z2WHdewUakrM",
        "colab_type": "code",
        "colab": {}
      },
      "cell_type": "code",
      "source": [
        "X_train, X_test, y_train, y_test = train_test_split(F_X_train, F_y_train, \n",
        "                                             test_size=0.30, random_state=42)\n",
        "n_iter_search = 3\n",
        "\n",
        "X_train_dtm, X_test_dtm = tokenize_data(Ftest_vect, X_train, X_test)\n",
        "\n",
        "model = LogisticRegression(penalty=\"l2\", max_iter=50000, \n",
        "                           multi_class='multinomial', solver=\"newton-cg\",\n",
        "                          verbose=2)\n",
        "\n",
        "params = {\n",
        "    \"C\" : [0.001, 0.01, 0.1, 1, 10, 100],\n",
        "  #\"penalty\" : [\"l2\", \"l1\"],\n",
        "   \"solver\": [\"newton-cg\", \"sag\", \"saga\", \"lbfgs\"]\n",
        "}\n",
        "\n",
        "F_clf = RandomizedSearchCV(model, \n",
        "                       param_distributions=params, \n",
        "                       cv=2,\n",
        "                 scoring='accuracy',\n",
        "                 error_score='raise',\n",
        "                 verbose =2,\n",
        "                 n_jobs=-1,\n",
        "                 n_iter=n_iter_search,\n",
        "                #loss=\"hinge\",\n",
        "                #penalty=\"l2\"\n",
        "                )\n"
      ],
      "execution_count": 0,
      "outputs": []
    },
    {
      "metadata": {
        "id": "2Dst7Ikvm06j",
        "colab_type": "code",
        "colab": {
          "base_uri": "https://localhost:8080/",
          "height": 340
        },
        "outputId": "3a443615-9076-461f-ccbc-12dab6af027c"
      },
      "cell_type": "code",
      "source": [
        "start = time()\n",
        "\n",
        "F_clf.fit(X_train_dtm, y_train)\n",
        "\n",
        "print(\"RandomizedSearchCV took %.2f seconds for %d candidates\"\n",
        "      \" parameter settings.\" % ((time() - start), n_iter_search))\n",
        "report(F_clf.cv_results_)"
      ],
      "execution_count": 26,
      "outputs": [
        {
          "output_type": "stream",
          "text": [
            "Fitting 2 folds for each of 3 candidates, totalling 6 fits\n"
          ],
          "name": "stdout"
        },
        {
          "output_type": "stream",
          "text": [
            "[Parallel(n_jobs=-1)]: Using backend LokyBackend with 2 concurrent workers.\n",
            "[Parallel(n_jobs=-1)]: Done   6 out of   6 | elapsed: 30.8min finished\n",
            "[Parallel(n_jobs=1)]: Using backend SequentialBackend with 1 concurrent workers.\n"
          ],
          "name": "stderr"
        },
        {
          "output_type": "stream",
          "text": [
            "RandomizedSearchCV took 3123.99 seconds for 3 candidates parameter settings.\n",
            "Model with rank: 1\n",
            "Mean validation score: 0.573 (std: 0.000)\n",
            "Parameters: {'solver': 'lbfgs', 'C': 100}\n",
            "\n",
            "Model with rank: 2\n",
            "Mean validation score: 0.573 (std: 0.000)\n",
            "Parameters: {'solver': 'sag', 'C': 100}\n",
            "\n",
            "Model with rank: 3\n",
            "Mean validation score: 0.568 (std: 0.001)\n",
            "Parameters: {'solver': 'sag', 'C': 0.01}\n",
            "\n"
          ],
          "name": "stdout"
        },
        {
          "output_type": "stream",
          "text": [
            "[Parallel(n_jobs=1)]: Done   1 out of   1 | elapsed: 21.3min remaining:    0.0s\n",
            "[Parallel(n_jobs=1)]: Done   1 out of   1 | elapsed: 21.3min finished\n"
          ],
          "name": "stderr"
        }
      ]
    },
    {
      "metadata": {
        "id": "8SKoz4za3SB8",
        "colab_type": "code",
        "colab": {
          "base_uri": "https://localhost:8080/",
          "height": 102
        },
        "outputId": "7df96194-d8f2-4bce-d950-9a1fb6d27b0c"
      },
      "cell_type": "code",
      "source": [
        "printBestScore(F_clf)"
      ],
      "execution_count": 27,
      "outputs": [
        {
          "output_type": "stream",
          "text": [
            "Best score 0.5728683733118323\n",
            "Best estimator LogisticRegression(C=100, class_weight=None, dual=False, fit_intercept=True,\n",
            "          intercept_scaling=1, max_iter=50000, multi_class='multinomial',\n",
            "          n_jobs=None, penalty='l2', random_state=None, solver='lbfgs',\n",
            "          tol=0.0001, verbose=2, warm_start=False)\n"
          ],
          "name": "stdout"
        }
      ]
    },
    {
      "metadata": {
        "id": "yYuiR6KRkEon",
        "colab_type": "text"
      },
      "cell_type": "markdown",
      "source": [
        "Running optimization manually"
      ]
    },
    {
      "metadata": {
        "id": "XYfv8wnDdPLv",
        "colab_type": "text"
      },
      "cell_type": "markdown",
      "source": [
        "Running using the best model"
      ]
    },
    {
      "metadata": {
        "id": "qG706HK64rsp",
        "colab_type": "text"
      },
      "cell_type": "markdown",
      "source": [
        "With 1000 features\n",
        "* Training time per fold: 0:14:10.745222\n",
        "* Features: [1000, 1000, 1000, 1000, 1000]\n",
        "* Features variance: 1000.00 (+/- 0.00)\n",
        "* Scores: [0.5821917808219178, 0.5859863914616662, 0.5845432615720723, 0.5829843408594318, 0.5824741094799135]\n",
        "* Accuracy: 0.58364 (+/- 0.00286)\n",
        "* Total Training time: 1:11:50.006892\n",
        "\n",
        "* Best score 0.5771924234838189\n",
        "* Best estimator \n",
        "          LogisticRegression(C=0.1, class_weight=None, dual=False, fit_intercept=True,\n",
        "          intercept_scaling=1, max_iter=50000, multi_class='multinomial',\n",
        "          n_jobs=None, penalty='l2', random_state=None, solver='newton-cg',\n",
        "          tol=0.0001, verbose=2, warm_start=False)"
      ]
    },
    {
      "metadata": {
        "id": "KcQzzQzqdQw2",
        "colab_type": "code",
        "colab": {}
      },
      "cell_type": "code",
      "source": [
        "#F_bestModel = F_clf.best_estimator_\n",
        "F_bestModel = LogisticRegression(C=100, class_weight=None, dual=False, \n",
        "                                 fit_intercept=True,\n",
        "          intercept_scaling=1, max_iter=50000, multi_class='multinomial',\n",
        "          n_jobs=-1, penalty='l2', random_state=42, solver='lbfgs',\n",
        "          tol=0.0001, verbose=2, warm_start=False)"
      ],
      "execution_count": 0,
      "outputs": []
    },
    {
      "metadata": {
        "id": "RreUGjMLNaug",
        "colab_type": "code",
        "colab": {}
      },
      "cell_type": "code",
      "source": [
        "F5_vect = CountVectorizer(ngram_range=(1,6), analyzer='word', \n",
        "                         max_features=500000)"
      ],
      "execution_count": 0,
      "outputs": []
    },
    {
      "metadata": {
        "id": "YJ547zSwdvb6",
        "colab_type": "code",
        "outputId": "c5ceea13-724b-4949-f37e-a74d0eea5c6d",
        "colab": {
          "base_uri": "https://localhost:8080/",
          "height": 272
        }
      },
      "cell_type": "code",
      "source": [
        "Fo_logr, Fo_scores, Fo_features = trainCV(F_X_train, F_y_train, vect=F5_vect, \n",
        "                                         clf=F_bestModel, folds=2)"
      ],
      "execution_count": 34,
      "outputs": [
        {
          "output_type": "stream",
          "text": [
            "2019-03-21 03:08:21.661302 Starting the training \n"
          ],
          "name": "stdout"
        },
        {
          "output_type": "stream",
          "text": [
            "[Parallel(n_jobs=-1)]: Using backend LokyBackend with 2 concurrent workers.\n",
            "[Parallel(n_jobs=-1)]: Done   1 out of   1 | elapsed: 110.8min finished\n"
          ],
          "name": "stderr"
        },
        {
          "output_type": "stream",
          "text": [
            "2019-03-21 04:59:08.969533 Completed the training \n",
            "2019-03-21 04:59:08.981927 Training time per fold: 1:51:48.096985\n",
            "2019-03-21 04:59:50.888184 Starting the training \n"
          ],
          "name": "stdout"
        },
        {
          "output_type": "stream",
          "text": [
            "[Parallel(n_jobs=-1)]: Using backend LokyBackend with 2 concurrent workers.\n",
            "[Parallel(n_jobs=-1)]: Done   1 out of   1 | elapsed: 102.4min finished\n"
          ],
          "name": "stderr"
        },
        {
          "output_type": "stream",
          "text": [
            "2019-03-21 06:42:15.938257 Completed the training \n",
            "2019-03-21 06:42:15.947567 Training time per fold: 1:43:06.952375\n",
            "Features: [500000, 500000]\n",
            "Features variance: 500000.00 (+/- 0.00)\n",
            "Scores: [0.593522429362074, 0.5952606376199406]\n",
            "Accuracy: 0.59439 (+/- 0.00174)\n",
            "Total Training time: 3:34:55.249190\n"
          ],
          "name": "stdout"
        }
      ]
    },
    {
      "metadata": {
        "id": "7HGXcUdp4XPy",
        "colab_type": "text"
      },
      "cell_type": "markdown",
      "source": [
        "50000 features this time"
      ]
    },
    {
      "metadata": {
        "id": "NX3TkGjld8V6",
        "colab_type": "text"
      },
      "cell_type": "markdown",
      "source": [
        "Save the model"
      ]
    },
    {
      "metadata": {
        "id": "uN57YZgDd9S4",
        "colab_type": "code",
        "colab": {
          "base_uri": "https://localhost:8080/",
          "height": 34
        },
        "outputId": "308318a0-d700-445d-a538-8e5ee8eda33e"
      },
      "cell_type": "code",
      "source": [
        "# Save Model Using Pickle\n",
        "\n",
        "\n",
        "if True:\n",
        "  model_path = \"/content/drive/My Drive/GitHub/nsdc_beginner/ModelLogR_F5_{}\".format(dt.datetime.today().strftime('%Y%m%d%H%M'))\n",
        "  if (not os.path.exists(model_path)):\n",
        "    os.mkdir(model_path)\n",
        "\n",
        "  # save the model to disk\n",
        "  filename = 'finalized_model.sav'\n",
        "  pickle.dump(Fo_logr, open(os.path.join(model_path,filename), 'wb'))\n",
        "\n",
        "  # save the vectorizer as well\n",
        "  v_filename = \"vector.pkl\"\n",
        "  pickle.dump(F5_vect, open(os.path.join(model_path,v_filename), \"wb\"))\n",
        "\n",
        "  print (\"Save the model the vectorizer to disk\")\n"
      ],
      "execution_count": 35,
      "outputs": [
        {
          "output_type": "stream",
          "text": [
            "Save the model the vectorizer to disk\n"
          ],
          "name": "stdout"
        }
      ]
    },
    {
      "metadata": {
        "id": "a48qnQI7fJeI",
        "colab_type": "text"
      },
      "cell_type": "markdown",
      "source": [
        "Reload the model and vocabulary"
      ]
    },
    {
      "metadata": {
        "id": "JmNs0LFtfLy5",
        "colab_type": "code",
        "colab": {}
      },
      "cell_type": "code",
      "source": [
        "# load the model from disk\n",
        "F_Logr = pickle.load(open(os.path.join(model_path,filename), 'rb'))\n",
        "F_Logr"
      ],
      "execution_count": 0,
      "outputs": []
    },
    {
      "metadata": {
        "id": "nxj4nNXzg7Hu",
        "colab_type": "code",
        "colab": {}
      },
      "cell_type": "code",
      "source": [
        "F_vec = pickle.load(open(os.path.join(model_path,v_filename), \"rb\"))\n",
        "F_vec"
      ],
      "execution_count": 0,
      "outputs": []
    },
    {
      "metadata": {
        "id": "WflZYBOOjooR",
        "colab_type": "text"
      },
      "cell_type": "markdown",
      "source": [
        "### 2.0 For Beauty"
      ]
    },
    {
      "metadata": {
        "id": "CKKKQ5zXG56g",
        "colab_type": "text"
      },
      "cell_type": "markdown",
      "source": [
        "with 1000 features\n",
        "\n",
        "RandomizedSearchCV took 2464.68 seconds for 3 candidates parameter settings.\n",
        "\n",
        "Model with rank: 1\n",
        "Mean validation score: 0.738 (std: 0.000)\n",
        "Parameters: {'solver': 'newton-cg', 'C': 10}\n",
        "\n",
        "Model with rank: 2\n",
        "Mean validation score: 0.737 (std: 0.001)\n",
        "Parameters: {'solver': 'newton-cg', 'C': 0.1}\n",
        "\n",
        "Model with rank: 3\n",
        "Mean validation score: 0.737 (std: 0.000)\n",
        "Parameters: {'solver': 'sag', 'C': 100}\n",
        "\n",
        "Best score 0.7376226272132717\n",
        "Best estimator LogisticRegression(C=10, class_weight=None, dual=False, fit_intercept=True,\n",
        "          intercept_scaling=1, max_iter=50000, multi_class='multinomial',\n",
        "          n_jobs=None, penalty='l2', random_state=None, solver='newton-cg',\n",
        "          tol=0.0001, verbose=2, warm_start=False)"
      ]
    },
    {
      "metadata": {
        "id": "tPaPvPYrjwiA",
        "colab_type": "code",
        "colab": {}
      },
      "cell_type": "code",
      "source": [
        "B_vect = CountVectorizer(ngram_range=(1,8))\n",
        "Bs_vect = CountVectorizer(ngram_range=(1,8), stop_words=stopwords)"
      ],
      "execution_count": 0,
      "outputs": []
    },
    {
      "metadata": {
        "id": "-8g-kp6Zjqk5",
        "colab_type": "code",
        "colab": {}
      },
      "cell_type": "code",
      "source": [
        "B_clf = randomSearch(B_X_train, B_y_train, Bs_vect)"
      ],
      "execution_count": 0,
      "outputs": []
    },
    {
      "metadata": {
        "id": "mPpNKgDlj9P3",
        "colab_type": "code",
        "colab": {}
      },
      "cell_type": "code",
      "source": [
        "printBestScore(B_clf)"
      ],
      "execution_count": 0,
      "outputs": []
    },
    {
      "metadata": {
        "id": "uYFYqbY_kXFP",
        "colab_type": "code",
        "colab": {}
      },
      "cell_type": "code",
      "source": [
        "B_bestModel = B_clf.best_estimator_"
      ],
      "execution_count": 0,
      "outputs": []
    },
    {
      "metadata": {
        "id": "-EZPrbMfkEuX",
        "colab_type": "code",
        "colab": {}
      },
      "cell_type": "code",
      "source": [
        "Bo_sgd, Bo_scores, Bo_features = trainCV(B_X_train, B_y_train, vect=Bs_vect, \n",
        "                                         clf=B_bestModel)"
      ],
      "execution_count": 0,
      "outputs": []
    },
    {
      "metadata": {
        "colab_type": "text",
        "id": "4caOIWO8k9mL"
      },
      "cell_type": "markdown",
      "source": [
        "### 3.0 For Mobile"
      ]
    },
    {
      "metadata": {
        "id": "zOorQ_xrEgSG",
        "colab_type": "text"
      },
      "cell_type": "markdown",
      "source": [
        "RandomizedSearchCV took 1617.47 seconds for 3 candidates parameter settings.\n",
        "\n",
        "Model with rank: 1\n",
        "Mean validation score: 0.781 (std: 0.000)\n",
        "Parameters: {'solver': 'newton-cg', 'C': 10}\n",
        "\n",
        "Model with rank: 2\n",
        "Mean validation score: 0.754 (std: 0.000)\n",
        "Parameters: {'solver': 'sag', 'C': 0.01}\n",
        "\n",
        "Model with rank: 3\n",
        "Mean validation score: 0.697 (std: 0.001)\n",
        "Parameters: {'solver': 'saga', 'C': 0.001}\n",
        "\n",
        "LogisticRegression(C=10, class_weight=None, dual=False, fit_intercept=True,\n",
        "          intercept_scaling=1, max_iter=50000, multi_class='multinomial',\n",
        "          n_jobs=None, penalty='l2', random_state=None, solver='newton-cg',\n",
        "          tol=0.0001, verbose=2, warm_start=False)"
      ]
    },
    {
      "metadata": {
        "id": "idPYSC4iIb0d",
        "colab_type": "text"
      },
      "cell_type": "markdown",
      "source": [
        "2019-03-21 02:41:10.123337 Training time per fold: 0:04:34.997758\n",
        "\n",
        "Features: [100000, 100000]\n",
        "\n",
        "Features variance: 100000.00 (+/- 0.00)\n",
        "\n",
        "Scores: [0.8110140950480229, 0.8097305389221557]\n",
        "\n",
        "Accuracy: 0.81037 (+/- 0.00128)\n",
        "\n",
        "Total Training time: 0:10:04.989215"
      ]
    },
    {
      "metadata": {
        "colab_type": "code",
        "id": "nCoDXJpbk9mM",
        "colab": {}
      },
      "cell_type": "code",
      "source": [
        "Ms_vect = CountVectorizer(ngram_range=(1,5), stop_words=stopwords)\n",
        "M_vect = CountVectorizer(ngram_range=(1,5))"
      ],
      "execution_count": 0,
      "outputs": []
    },
    {
      "metadata": {
        "colab_type": "code",
        "id": "s4o3tFBJk9mP",
        "colab": {}
      },
      "cell_type": "code",
      "source": [
        "M_clf = randomSearch(M_X_train, M_y_train, Ms_vect)"
      ],
      "execution_count": 0,
      "outputs": []
    },
    {
      "metadata": {
        "colab_type": "code",
        "id": "jVExYkGCk9mX",
        "colab": {}
      },
      "cell_type": "code",
      "source": [
        "printBestScore(M_clf)"
      ],
      "execution_count": 0,
      "outputs": []
    },
    {
      "metadata": {
        "colab_type": "code",
        "id": "VWiCvYrQk9ma",
        "colab": {}
      },
      "cell_type": "code",
      "source": [
        "M_bestModel = M_clf.best_estimator_"
      ],
      "execution_count": 0,
      "outputs": []
    },
    {
      "metadata": {
        "colab_type": "code",
        "id": "jFTr0p-3k9me",
        "colab": {}
      },
      "cell_type": "code",
      "source": [
        "Mo_sgd, Mo_scores, Mo_features = trainCV(M_X_train, M_y_train, vect=Ms_vect, \n",
        "                                         clf=M_bestModel)"
      ],
      "execution_count": 0,
      "outputs": []
    },
    {
      "metadata": {
        "id": "hsuYpNWQk80Q",
        "colab_type": "text"
      },
      "cell_type": "markdown",
      "source": [
        ""
      ]
    },
    {
      "metadata": {
        "id": "IvjXLOr83SCT",
        "colab_type": "text"
      },
      "cell_type": "markdown",
      "source": [
        "### 4.6 Checking the scores"
      ]
    },
    {
      "metadata": {
        "colab_type": "text",
        "id": "j0W0lO17Qyin"
      },
      "cell_type": "markdown",
      "source": [
        "#### 4.6.1 Summary:\n",
        "---\n",
        " \n",
        "\n",
        "1.   **Beauty Category**:    `ngram_range(1, 8) OVR`\n",
        "---\n",
        "2.   **Fashion Category**:    `ngram_range(1, 14) OVR`\n",
        "---\n",
        "3.   **Mobile Category**:    `ngram_range(1,5) OVR`\n",
        "---"
      ]
    },
    {
      "metadata": {
        "id": "UAEdyBB63SCU",
        "colab_type": "code",
        "colab": {}
      },
      "cell_type": "code",
      "source": [
        "total_scores = Bo_scores+ Fo_scores+ Mo_scores\n",
        "print(\"OvO with stopwords Accuracy: %0.5f (+/- %0.5f)\" % (np.mean(total_scores), \n",
        "                                       np.std(total_scores) * 2))"
      ],
      "execution_count": 0,
      "outputs": []
    },
    {
      "metadata": {
        "id": "CCIMqxEV3SCX",
        "colab_type": "text"
      },
      "cell_type": "markdown",
      "source": [
        "#### 4.5.1 Result comparison:\n",
        "* OvO with stopwords Accuracy: 0.75610 (+/- 0.15001)\n",
        "* OvO without stopwords Accuracy: 0.75598 (+/- 0.15262)\n",
        "* OvR with stopwords Accuracy: 0.75615 (+/- 0.14967)\n",
        "\n",
        "Your submission scored 0.76247, which is not an improvement of your best score. Keep trying!\n"
      ]
    },
    {
      "metadata": {
        "colab_type": "text",
        "id": "haSx19EUSbId"
      },
      "cell_type": "markdown",
      "source": [
        "## 5- Modelling\n",
        "\n",
        "1. Divide the test dataset into 3 Categories\n",
        "2. Remove numbers more than 3 Digits from the test dataset.\n",
        "3. Train + Predict.\n"
      ]
    },
    {
      "metadata": {
        "colab_type": "text",
        "id": "wnMVtuLnTUyg"
      },
      "cell_type": "markdown",
      "source": [
        "### 5.1 Divide the test dataset into 3 Categories"
      ]
    },
    {
      "metadata": {
        "colab_type": "code",
        "id": "70V6GmZGSeyO",
        "colab": {}
      },
      "cell_type": "code",
      "source": [
        "#add category col\n",
        "newTestCol = dftest.image_path.apply(lambda x: x.split('_')[0])\n",
        "dftest['newCat'] = newTestCol"
      ],
      "execution_count": 0,
      "outputs": []
    },
    {
      "metadata": {
        "colab_type": "code",
        "id": "bvq_8KSCTeD_",
        "outputId": "7426c052-efeb-4002-9fd6-1bdab29f9dc4",
        "colab": {
          "base_uri": "https://localhost:8080/",
          "height": 204
        }
      },
      "cell_type": "code",
      "source": [
        "dftest.tail()"
      ],
      "execution_count": 37,
      "outputs": [
        {
          "output_type": "execute_result",
          "data": {
            "text/html": [
              "<div>\n",
              "<style scoped>\n",
              "    .dataframe tbody tr th:only-of-type {\n",
              "        vertical-align: middle;\n",
              "    }\n",
              "\n",
              "    .dataframe tbody tr th {\n",
              "        vertical-align: top;\n",
              "    }\n",
              "\n",
              "    .dataframe thead th {\n",
              "        text-align: right;\n",
              "    }\n",
              "</style>\n",
              "<table border=\"1\" class=\"dataframe\">\n",
              "  <thead>\n",
              "    <tr style=\"text-align: right;\">\n",
              "      <th></th>\n",
              "      <th>itemid</th>\n",
              "      <th>title</th>\n",
              "      <th>image_path</th>\n",
              "      <th>newCat</th>\n",
              "    </tr>\n",
              "  </thead>\n",
              "  <tbody>\n",
              "    <tr>\n",
              "      <th>172397</th>\n",
              "      <td>1781957365</td>\n",
              "      <td>nokia 5.1 plus ram 3gb 32gb garansi resmi 1 ta...</td>\n",
              "      <td>mobile_image/3dbd99b9d999d326d8ae57f7ad1f1b3e.jpg</td>\n",
              "      <td>mobile</td>\n",
              "    </tr>\n",
              "    <tr>\n",
              "      <th>172398</th>\n",
              "      <td>1839851276</td>\n",
              "      <td>big promo add whatshap 0821 9127 5399 iphone 7...</td>\n",
              "      <td>mobile_image/6d45e5c7e36ac897f58a9f72ff4bf0b8.jpg</td>\n",
              "      <td>mobile</td>\n",
              "    </tr>\n",
              "    <tr>\n",
              "      <th>172399</th>\n",
              "      <td>955369303</td>\n",
              "      <td>datang lagi sharp r1 ram 3gb 32gb gratis silic...</td>\n",
              "      <td>mobile_image/08f68bb1cc3f381364776ac5cfd9e45e.jpg</td>\n",
              "      <td>mobile</td>\n",
              "    </tr>\n",
              "    <tr>\n",
              "      <th>172400</th>\n",
              "      <td>1638035772</td>\n",
              "      <td>sony xperia z5 premium au ram 3gb rom 32gb sec...</td>\n",
              "      <td>mobile_image/1d0610ea0f43d75ecc3ff951f6c647d4.jpg</td>\n",
              "      <td>mobile</td>\n",
              "    </tr>\n",
              "    <tr>\n",
              "      <th>172401</th>\n",
              "      <td>1498091427</td>\n",
              "      <td>xiaomi mi 8 ram 6 128gb black</td>\n",
              "      <td>mobile_image/6649fa043a7b2eebda6ed904c966a14b.jpg</td>\n",
              "      <td>mobile</td>\n",
              "    </tr>\n",
              "  </tbody>\n",
              "</table>\n",
              "</div>"
            ],
            "text/plain": [
              "            itemid                                              title  \\\n",
              "172397  1781957365  nokia 5.1 plus ram 3gb 32gb garansi resmi 1 ta...   \n",
              "172398  1839851276  big promo add whatshap 0821 9127 5399 iphone 7...   \n",
              "172399   955369303  datang lagi sharp r1 ram 3gb 32gb gratis silic...   \n",
              "172400  1638035772  sony xperia z5 premium au ram 3gb rom 32gb sec...   \n",
              "172401  1498091427                      xiaomi mi 8 ram 6 128gb black   \n",
              "\n",
              "                                               image_path  newCat  \n",
              "172397  mobile_image/3dbd99b9d999d326d8ae57f7ad1f1b3e.jpg  mobile  \n",
              "172398  mobile_image/6d45e5c7e36ac897f58a9f72ff4bf0b8.jpg  mobile  \n",
              "172399  mobile_image/08f68bb1cc3f381364776ac5cfd9e45e.jpg  mobile  \n",
              "172400  mobile_image/1d0610ea0f43d75ecc3ff951f6c647d4.jpg  mobile  \n",
              "172401  mobile_image/6649fa043a7b2eebda6ed904c966a14b.jpg  mobile  "
            ]
          },
          "metadata": {
            "tags": []
          },
          "execution_count": 37
        }
      ]
    },
    {
      "metadata": {
        "colab_type": "code",
        "id": "ntxgP7EAWiXE",
        "outputId": "0ad3824f-b565-4b1b-9f3b-c08d66ac041f",
        "colab": {
          "base_uri": "https://localhost:8080/",
          "height": 294
        }
      },
      "cell_type": "code",
      "source": [
        "MobileTest = dftest[dftest['newCat'] == 'mobile']\n",
        "BeautyTest = dftest[dftest['newCat'] == 'beauty']\n",
        "FashionTest = dftest[dftest['newCat'] == 'fashion']\n",
        "\n",
        "fig, axt = plt.subplots(1,1)\n",
        "axt.bar(['beauty', 'fashion', 'mobile'], [len(BeautyTest), len(FashionTest), len(MobileTest)], width=0.5)\n"
      ],
      "execution_count": 38,
      "outputs": [
        {
          "output_type": "execute_result",
          "data": {
            "text/plain": [
              "<BarContainer object of 3 artists>"
            ]
          },
          "metadata": {
            "tags": []
          },
          "execution_count": 38
        },
        {
          "output_type": "display_data",
          "data": {
            "image/png": "[encoded data removed]",
            "text/plain": [
              "<Figure size 432x288 with 1 Axes>"
            ]
          },
          "metadata": {
            "tags": []
          }
        }
      ]
    },
    {
      "metadata": {
        "colab_type": "text",
        "id": "6sumGyDEdFCe"
      },
      "cell_type": "markdown",
      "source": [
        "### 5.3 Prediction Dataset"
      ]
    },
    {
      "metadata": {
        "colab_type": "code",
        "id": "KyRvw_4cdKCe",
        "colab": {}
      },
      "cell_type": "code",
      "source": [
        "B_X_test = BeautyTest.title\n",
        "F_X_test = FashionTest.title\n",
        "M_X_test = MobileTest.title"
      ],
      "execution_count": 0,
      "outputs": []
    },
    {
      "metadata": {
        "colab_type": "text",
        "id": "UdlKUH1Bdhyg"
      },
      "cell_type": "markdown",
      "source": [
        "### 5.4 Prediction Function"
      ]
    },
    {
      "metadata": {
        "id": "lcDC_xU_3SCj",
        "colab_type": "code",
        "colab": {}
      },
      "cell_type": "code",
      "source": [
        "def modelPredict(X_train, y_train, X_test, vect, \n",
        "                 clf=SGDClassifier(random_state=42,max_iter=5000, \n",
        "                                            tol=1e-3,loss='hinge')):\n",
        "    ''' Train a classifier using CV'''\n",
        "    #clf = SGDClassifier(random_state=random_state)\n",
        "    \n",
        "    X_train_dtm,X_test_dtm = tokenize_data(vect, X_train, X_test)\n",
        "    clf.fit(X_train_dtm, y_train)\n",
        "    y_pred = clf.predict(X_test_dtm)\n",
        "    return y_pred"
      ],
      "execution_count": 0,
      "outputs": []
    },
    {
      "metadata": {
        "id": "n1SIkf333SCk",
        "colab_type": "code",
        "colab": {}
      },
      "cell_type": "code",
      "source": [
        "B_y_pred = modelPredict(B_X_train, B_y_train, B_X_test, Bs_vect, clf=B_bestModel)"
      ],
      "execution_count": 0,
      "outputs": []
    },
    {
      "metadata": {
        "id": "vyoSF-ox3SCn",
        "colab_type": "code",
        "outputId": "b41381af-54e7-4efb-9864-62bb0bc66dcd",
        "colab": {
          "base_uri": "https://localhost:8080/",
          "height": 34
        }
      },
      "cell_type": "code",
      "source": [
        "F_y_pred = modelPredict(F_X_train, F_y_train, F_X_test, F5_vect, clf=Fo_logr)"
      ],
      "execution_count": 0,
      "outputs": [
        {
          "output_type": "stream",
          "text": [
            "[Parallel(n_jobs=-1)]: Using backend LokyBackend with 2 concurrent workers.\n"
          ],
          "name": "stderr"
        }
      ]
    },
    {
      "metadata": {
        "id": "fNIBuPHT3SCp",
        "colab_type": "code",
        "colab": {}
      },
      "cell_type": "code",
      "source": [
        "M_y_pred = modelPredict(M_X_train, M_y_train, M_X_test, Ms_vect, clf=M_bestModel)"
      ],
      "execution_count": 0,
      "outputs": []
    },
    {
      "metadata": {
        "colab_type": "text",
        "id": "swwqXL5sfgkR"
      },
      "cell_type": "markdown",
      "source": [
        "### 5.5 Run Prediction"
      ]
    },
    {
      "metadata": {
        "colab_type": "code",
        "id": "h8BuX46Vf-BF",
        "colab": {}
      },
      "cell_type": "code",
      "source": [
        "BeautyTest['Category'] = B_y_pred\n",
        "FashionTest['Category'] = F_y_pred\n",
        "MobileTest['Category'] = M_y_pred\n"
      ],
      "execution_count": 0,
      "outputs": []
    },
    {
      "metadata": {
        "colab_type": "text",
        "id": "2bNvhS8XjX3j"
      },
      "cell_type": "markdown",
      "source": [
        "## 6- Result"
      ]
    },
    {
      "metadata": {
        "colab_type": "code",
        "id": "tHGPfI54gQRa",
        "colab": {}
      },
      "cell_type": "code",
      "source": [
        "resDf = BeautyTest.append(FashionTest).append(MobileTest)\n"
      ],
      "execution_count": 0,
      "outputs": []
    },
    {
      "metadata": {
        "colab_type": "code",
        "id": "4SdtRA4pjQs7",
        "colab": {}
      },
      "cell_type": "code",
      "source": [
        "FinalResult = pd.concat([resDf['itemid'], resDf['Category']], axis=1, \n",
        "                        keys=['itemid', 'Category'])\n",
        "FinalResult.to_csv(path + '{}_NDSC_Res.csv'.format(datetime.datetime.today().strftime('%Y%m%d%H%M')\n",
        "                                                  ), index=False)"
      ],
      "execution_count": 0,
      "outputs": []
    },
    {
      "metadata": {
        "colab_type": "code",
        "id": "VGzSnqY6jrhG",
        "colab": {}
      },
      "cell_type": "code",
      "source": [
        ""
      ],
      "execution_count": 0,
      "outputs": []
    }
  ]
}